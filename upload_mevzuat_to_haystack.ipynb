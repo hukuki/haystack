{
 "cells": [
  {
   "cell_type": "code",
   "execution_count": 1,
   "metadata": {},
   "outputs": [],
   "source": [
    "import requests\n",
    "import json\n",
    "import os\n",
    "from tqdm import tqdm\n",
    "import time"
   ]
  },
  {
   "cell_type": "code",
   "execution_count": 2,
   "metadata": {},
   "outputs": [],
   "source": [
    "def upload_file(file_path, meta):\n",
    "    headers = {\n",
    "        'accept': 'application/json',\n",
    "        # requests won't add a boundary if this header is set when you pass files=\n",
    "        # 'Content-Type': 'multipart/form-data',\n",
    "    }\n",
    "\n",
    "    files = {\n",
    "        'split_overlap': (None, ''),\n",
    "        'meta': (None, json.dumps(meta)),\n",
    "        'split_respect_sentence_boundary': (None, ''),\n",
    "        'split_length': (None, ''),\n",
    "        'remove_numeric_tables': (None, ''),\n",
    "        'clean_whitespace': (None, ''),\n",
    "        'clean_header_footer': (None, ''),\n",
    "        'clean_empty_lines': (None, ''),\n",
    "        'files': open(file_path, 'rb'),\n",
    "        'valid_languages': (None, ''),\n",
    "        'split_by': (None, ''),\n",
    "    }\n",
    "\n",
    "    response = requests.post('http://3.78.83.166:8000/file-upload', headers=headers, files=files)\n",
    "    return response"
   ]
  },
  {
   "cell_type": "code",
   "execution_count": 3,
   "metadata": {},
   "outputs": [
    {
     "name": "stderr",
     "output_type": "stream",
     "text": [
      " 11%|█         | 1500/14107 [25:20<3:32:57,  1.01s/it]\n"
     ]
    },
    {
     "ename": "KeyboardInterrupt",
     "evalue": "",
     "output_type": "error",
     "traceback": [
      "\u001b[0;31m---------------------------------------------------------------------------\u001b[0m",
      "\u001b[0;31mKeyboardInterrupt\u001b[0m                         Traceback (most recent call last)",
      "Cell \u001b[0;32mIn[3], line 12\u001b[0m\n\u001b[1;32m     10\u001b[0m         \u001b[39m#write to txt file\u001b[39;00m\n\u001b[1;32m     11\u001b[0m         r \u001b[39m=\u001b[39m upload_file(txt_path, meta\u001b[39m=\u001b[39mdata[\u001b[39m\"\u001b[39m\u001b[39mmetadata\u001b[39m\u001b[39m\"\u001b[39m])\n\u001b[0;32m---> 12\u001b[0m         time\u001b[39m.\u001b[39;49msleep(\u001b[39m0.05\u001b[39;49m)\n\u001b[1;32m     13\u001b[0m \u001b[39melse\u001b[39;00m:\n\u001b[1;32m     14\u001b[0m     \u001b[39mcontinue\u001b[39;00m\n",
      "\u001b[0;31mKeyboardInterrupt\u001b[0m: "
     ]
    }
   ],
   "source": [
    "count = 0\n",
    "\n",
    "for filename in tqdm( os.listdir('/Users/onurerenarpaci/Desktop/Projects/hukuk/mevzuat') ):\n",
    "    if filename.endswith(\".txt\"):\n",
    "        filepath = os.path.join('/Users/onurerenarpaci/Desktop/Projects/hukuk/mevzuat', filename)\n",
    "        #open file\n",
    "        with open(filepath) as f:\n",
    "            data = json.load(f)\n",
    "            txt_path = os.path.join('/Users/onurerenarpaci/Desktop/Projects/hukuk/mevzuat_txt', filename)\n",
    "            #write to txt file\n",
    "            r = upload_file(txt_path, meta=data[\"metadata\"])\n",
    "            time.sleep(0.05)\n",
    "    else:\n",
    "        continue"
   ]
  },
  {
   "cell_type": "code",
   "execution_count": 3,
   "metadata": {},
   "outputs": [
    {
     "data": {
      "text/plain": [
       "'[23.67934583478935, 23.97, 23.87]'"
      ]
     },
     "execution_count": 3,
     "metadata": {},
     "output_type": "execute_result"
    }
   ],
   "source": [
    "import json\n",
    "import numpy as np\n",
    "\n",
    "a = np.array([23.6793458347893475348753498734857, 23.97, 23.87], dtype=np.float64)\n",
    "a = a.tolist()\n",
    "json.dumps(a)"
   ]
  },
  {
   "cell_type": "code",
   "execution_count": 2,
   "metadata": {},
   "outputs": [],
   "source": [
    "def upload_file(file):\n",
    "    headers = {\n",
    "        'accept': 'application/json',\n",
    "        # requests won't add a boundary if this header is set when you pass files=\n",
    "        # 'Content-Type': 'multipart/form-data',\n",
    "    }\n",
    "\n",
    "    files = {\n",
    "        'split_overlap': (None, ''),\n",
    "        'meta': (None, ''),\n",
    "        'split_respect_sentence_boundary': (None, ''),\n",
    "        'split_length': (None, ''),\n",
    "        'remove_numeric_tables': (None, ''),\n",
    "        'clean_whitespace': (None, ''),\n",
    "        'clean_header_footer': (None, ''),\n",
    "        'clean_empty_lines': (None, ''),\n",
    "        'files': file, #open(file_path, 'rb'),\n",
    "        'valid_languages': (None, ''),\n",
    "        'split_by': (None, ''),\n",
    "    }\n",
    "    response = requests.post('http://localhost:8000/file-upload', headers=headers, files=files)\n",
    "    return response"
   ]
  },
  {
   "cell_type": "code",
   "execution_count": 10,
   "metadata": {},
   "outputs": [],
   "source": [
    "#open json file\n",
    "with open('/Users/onurerenarpaci/Desktop/Projects/hukuk/mevzuat_flattened/64486a0be0b1ea631dea42a1.json') as f:\n",
    "    data = json.load(f)"
   ]
  },
  {
   "cell_type": "code",
   "execution_count": 12,
   "metadata": {},
   "outputs": [
    {
     "data": {
      "text/plain": [
       "{'metadata': {'__piece_type__': 'body',\n",
       "  '__piece_madde__': '',\n",
       "  '__piece_in__': [[]],\n",
       "  'mevzuatNo': '5273',\n",
       "  'mevAdi': 'TÜRKİYE ATOM ENERJİSİ KURUMU BAŞKANLIĞI MAL VE HİZMET ÜRETİMİ VE YAYIN  GELİRLERİ YÖNETMELİĞİ',\n",
       "  'kabulTarih': None,\n",
       "  'kabulTarihDosyaPath': None,\n",
       "  'resmiGazeteTarihi': '26.05.2002',\n",
       "  'resmiGazeteSayisi': '24766',\n",
       "  'mevzuatTertip': '5',\n",
       "  'nitelik': None,\n",
       "  'mukerrer': None,\n",
       "  'resmiGazeteTarihiYilBaslangic': None,\n",
       "  'resmiGazeteTarihiYilBitis': None,\n",
       "  'aranacakYer': 0,\n",
       "  'mevzuatTur': 7,\n",
       "  'tuzukMevzuatTur': 0,\n",
       "  'fileType': 1,\n",
       "  'mevzuatTurEnumString': 'Kurum ve Kuruluş Yönetmelikleri',\n",
       "  'url': 'mevzuat?MevzuatNo=5273&MevzuatTur=7&MevzuatTertip=5',\n",
       "  'docUrl': None,\n",
       "  'pdfUrl': None,\n",
       "  'tur': 2,\n",
       "  'isPlainTextBlank': False,\n",
       "  'resmiGazeteTarihiGun': '26',\n",
       "  'resmiGazeteTarihiAy': '5',\n",
       "  'resmiGazeteTarihiYil': '2002',\n",
       "  'resmiGazeteUrl': None,\n",
       "  'hasDoc': False,\n",
       "  'hasOldLaw': False,\n",
       "  'highlightText': None,\n",
       "  'mevzuatNoCombine': None},\n",
       " 'content': 'Madde 1- Bu Yönetmeliğin amacı, Türkiye Atom Enerjisi Kurumunun  mal ve hizmet  üretimi ve yayın satış  gelirlerinin  elde edilmesi ile ilgili esas ve  usulleri düzenlemektir.'}"
      ]
     },
     "execution_count": 12,
     "metadata": {},
     "output_type": "execute_result"
    }
   ],
   "source": [
    "data[3]"
   ]
  },
  {
   "cell_type": "code",
   "execution_count": 13,
   "metadata": {},
   "outputs": [],
   "source": [
    "doc = {\n",
    "    \"content\" : data[3][\"content\"],\n",
    "    \"meta\" : data[3][\"metadata\"],\n",
    "    \"content_type\" : \"text\",\n",
    "    \"id_hash_keys\": [\"content\"],\n",
    "}"
   ]
  },
  {
   "cell_type": "code",
   "execution_count": 18,
   "metadata": {},
   "outputs": [
    {
     "data": {
      "text/plain": [
       "<Response [200]>"
      ]
     },
     "execution_count": 18,
     "metadata": {},
     "output_type": "execute_result"
    }
   ],
   "source": [
    "upload_file(json.dumps(doc))"
   ]
  },
  {
   "cell_type": "code",
   "execution_count": 23,
   "metadata": {},
   "outputs": [
    {
     "name": "stderr",
     "output_type": "stream",
     "text": [
      "  0%|          | 0/14110 [00:00<?, ?it/s]"
     ]
    },
    {
     "name": "stdout",
     "output_type": "stream",
     "text": [
      "uploading...\n"
     ]
    },
    {
     "name": "stderr",
     "output_type": "stream",
     "text": [
      "  0%|          | 14/14110 [00:03<59:36,  3.94it/s]"
     ]
    },
    {
     "name": "stdout",
     "output_type": "stream",
     "text": [
      "uploading...\n"
     ]
    },
    {
     "name": "stderr",
     "output_type": "stream",
     "text": [
      "  0%|          | 27/14110 [00:06<59:10,  3.97it/s]"
     ]
    },
    {
     "name": "stdout",
     "output_type": "stream",
     "text": [
      "uploading...\n"
     ]
    },
    {
     "name": "stderr",
     "output_type": "stream",
     "text": [
      "  0%|          | 58/14110 [00:12<46:17,  5.06it/s]"
     ]
    },
    {
     "name": "stdout",
     "output_type": "stream",
     "text": [
      "uploading...\n"
     ]
    },
    {
     "name": "stderr",
     "output_type": "stream",
     "text": [
      "  1%|          | 87/14110 [00:16<40:43,  5.74it/s]"
     ]
    },
    {
     "name": "stdout",
     "output_type": "stream",
     "text": [
      "uploading...\n"
     ]
    },
    {
     "name": "stderr",
     "output_type": "stream",
     "text": [
      "  1%|          | 99/14110 [00:19<44:34,  5.24it/s]"
     ]
    },
    {
     "name": "stdout",
     "output_type": "stream",
     "text": [
      "uploading...\n"
     ]
    },
    {
     "name": "stderr",
     "output_type": "stream",
     "text": [
      "  1%|          | 122/14110 [00:22<39:45,  5.86it/s]"
     ]
    },
    {
     "name": "stdout",
     "output_type": "stream",
     "text": [
      "uploading...\n"
     ]
    },
    {
     "name": "stderr",
     "output_type": "stream",
     "text": [
      "  1%|          | 143/14110 [00:25<38:13,  6.09it/s]"
     ]
    },
    {
     "name": "stdout",
     "output_type": "stream",
     "text": [
      "uploading...\n"
     ]
    },
    {
     "name": "stderr",
     "output_type": "stream",
     "text": [
      "  1%|          | 159/14110 [00:28<39:52,  5.83it/s]"
     ]
    },
    {
     "name": "stdout",
     "output_type": "stream",
     "text": [
      "uploading...\n"
     ]
    },
    {
     "name": "stderr",
     "output_type": "stream",
     "text": [
      "  1%|          | 172/14110 [00:32<47:31,  4.89it/s]"
     ]
    },
    {
     "name": "stdout",
     "output_type": "stream",
     "text": [
      "uploading...\n"
     ]
    },
    {
     "name": "stderr",
     "output_type": "stream",
     "text": [
      "  1%|▏         | 191/14110 [00:35<44:18,  5.24it/s]"
     ]
    },
    {
     "name": "stdout",
     "output_type": "stream",
     "text": [
      "uploading...\n"
     ]
    },
    {
     "name": "stderr",
     "output_type": "stream",
     "text": [
      "  2%|▏         | 218/14110 [00:39<37:46,  6.13it/s]"
     ]
    },
    {
     "name": "stdout",
     "output_type": "stream",
     "text": [
      "uploading...\n"
     ]
    },
    {
     "name": "stderr",
     "output_type": "stream",
     "text": [
      "  2%|▏         | 238/14110 [00:42<37:03,  6.24it/s]"
     ]
    },
    {
     "name": "stdout",
     "output_type": "stream",
     "text": [
      "uploading...\n"
     ]
    },
    {
     "name": "stderr",
     "output_type": "stream",
     "text": [
      "  2%|▏         | 253/14110 [00:45<39:31,  5.84it/s]"
     ]
    },
    {
     "name": "stdout",
     "output_type": "stream",
     "text": [
      "uploading...\n"
     ]
    },
    {
     "name": "stderr",
     "output_type": "stream",
     "text": [
      "  2%|▏         | 269/14110 [00:48<41:56,  5.50it/s]"
     ]
    },
    {
     "name": "stdout",
     "output_type": "stream",
     "text": [
      "uploading...\n"
     ]
    },
    {
     "name": "stderr",
     "output_type": "stream",
     "text": [
      "  2%|▏         | 295/14110 [00:52<39:43,  5.80it/s]"
     ]
    },
    {
     "name": "stdout",
     "output_type": "stream",
     "text": [
      "uploading...\n"
     ]
    },
    {
     "name": "stderr",
     "output_type": "stream",
     "text": [
      "  2%|▏         | 317/14110 [00:55<37:14,  6.17it/s]"
     ]
    },
    {
     "name": "stdout",
     "output_type": "stream",
     "text": [
      "uploading...\n"
     ]
    },
    {
     "name": "stderr",
     "output_type": "stream",
     "text": [
      "  2%|▏         | 329/14110 [00:58<41:23,  5.55it/s]"
     ]
    },
    {
     "name": "stdout",
     "output_type": "stream",
     "text": [
      "uploading...\n"
     ]
    },
    {
     "name": "stderr",
     "output_type": "stream",
     "text": [
      "  2%|▏         | 339/14110 [01:01<46:54,  4.89it/s]"
     ]
    },
    {
     "name": "stdout",
     "output_type": "stream",
     "text": [
      "uploading...\n"
     ]
    },
    {
     "name": "stderr",
     "output_type": "stream",
     "text": [
      "  3%|▎         | 363/14110 [01:05<40:01,  5.72it/s]"
     ]
    },
    {
     "name": "stdout",
     "output_type": "stream",
     "text": [
      "uploading...\n"
     ]
    },
    {
     "name": "stderr",
     "output_type": "stream",
     "text": [
      "  3%|▎         | 381/14110 [01:08<40:05,  5.71it/s]"
     ]
    },
    {
     "name": "stdout",
     "output_type": "stream",
     "text": [
      "uploading...\n"
     ]
    },
    {
     "name": "stderr",
     "output_type": "stream",
     "text": [
      "  3%|▎         | 393/14110 [01:12<47:59,  4.76it/s]"
     ]
    },
    {
     "name": "stdout",
     "output_type": "stream",
     "text": [
      "uploading...\n"
     ]
    },
    {
     "name": "stderr",
     "output_type": "stream",
     "text": [
      "  3%|▎         | 417/14110 [01:16<44:26,  5.13it/s]"
     ]
    },
    {
     "name": "stdout",
     "output_type": "stream",
     "text": [
      "uploading...\n"
     ]
    },
    {
     "name": "stderr",
     "output_type": "stream",
     "text": [
      "  3%|▎         | 447/14110 [01:20<39:33,  5.76it/s]"
     ]
    },
    {
     "name": "stdout",
     "output_type": "stream",
     "text": [
      "uploading...\n"
     ]
    },
    {
     "name": "stderr",
     "output_type": "stream",
     "text": [
      "  3%|▎         | 469/14110 [01:23<37:11,  6.11it/s]"
     ]
    },
    {
     "name": "stdout",
     "output_type": "stream",
     "text": [
      "uploading...\n"
     ]
    },
    {
     "name": "stderr",
     "output_type": "stream",
     "text": [
      "  3%|▎         | 492/14110 [01:26<35:01,  6.48it/s]"
     ]
    },
    {
     "name": "stdout",
     "output_type": "stream",
     "text": [
      "uploading...\n"
     ]
    },
    {
     "name": "stderr",
     "output_type": "stream",
     "text": [
      "  4%|▎         | 510/14110 [01:30<36:54,  6.14it/s]"
     ]
    },
    {
     "name": "stdout",
     "output_type": "stream",
     "text": [
      "uploading...\n"
     ]
    },
    {
     "name": "stderr",
     "output_type": "stream",
     "text": [
      "  4%|▎         | 518/14110 [01:34<47:29,  4.77it/s]"
     ]
    },
    {
     "name": "stdout",
     "output_type": "stream",
     "text": [
      "uploading...\n"
     ]
    },
    {
     "name": "stderr",
     "output_type": "stream",
     "text": [
      "  4%|▍         | 544/14110 [01:37<39:40,  5.70it/s]"
     ]
    },
    {
     "name": "stdout",
     "output_type": "stream",
     "text": [
      "uploading...\n"
     ]
    },
    {
     "name": "stderr",
     "output_type": "stream",
     "text": [
      "  4%|▍         | 572/14110 [01:41<36:46,  6.14it/s]"
     ]
    },
    {
     "name": "stdout",
     "output_type": "stream",
     "text": [
      "uploading...\n"
     ]
    },
    {
     "name": "stderr",
     "output_type": "stream",
     "text": [
      "  4%|▍         | 592/14110 [01:44<36:09,  6.23it/s]"
     ]
    },
    {
     "name": "stdout",
     "output_type": "stream",
     "text": [
      "uploading...\n"
     ]
    },
    {
     "name": "stderr",
     "output_type": "stream",
     "text": [
      "  4%|▍         | 614/14110 [01:47<34:39,  6.49it/s]"
     ]
    },
    {
     "name": "stdout",
     "output_type": "stream",
     "text": [
      "uploading...\n"
     ]
    },
    {
     "name": "stderr",
     "output_type": "stream",
     "text": [
      "  5%|▍         | 642/14110 [01:50<31:37,  7.10it/s]"
     ]
    },
    {
     "name": "stdout",
     "output_type": "stream",
     "text": [
      "uploading...\n"
     ]
    },
    {
     "name": "stderr",
     "output_type": "stream",
     "text": [
      "  5%|▍         | 663/14110 [01:54<34:57,  6.41it/s]"
     ]
    },
    {
     "name": "stdout",
     "output_type": "stream",
     "text": [
      "uploading...\n"
     ]
    },
    {
     "name": "stderr",
     "output_type": "stream",
     "text": [
      "  5%|▍         | 679/14110 [01:57<36:45,  6.09it/s]"
     ]
    },
    {
     "name": "stdout",
     "output_type": "stream",
     "text": [
      "uploading...\n"
     ]
    },
    {
     "name": "stderr",
     "output_type": "stream",
     "text": [
      "  5%|▍         | 701/14110 [02:01<35:25,  6.31it/s]"
     ]
    },
    {
     "name": "stdout",
     "output_type": "stream",
     "text": [
      "uploading...\n"
     ]
    },
    {
     "name": "stderr",
     "output_type": "stream",
     "text": [
      "  5%|▌         | 715/14110 [02:07<49:28,  4.51it/s]"
     ]
    },
    {
     "name": "stdout",
     "output_type": "stream",
     "text": [
      "uploading...\n"
     ]
    },
    {
     "name": "stderr",
     "output_type": "stream",
     "text": [
      "  5%|▌         | 724/14110 [02:11<58:13,  3.83it/s]"
     ]
    },
    {
     "name": "stdout",
     "output_type": "stream",
     "text": [
      "uploading...\n"
     ]
    },
    {
     "name": "stderr",
     "output_type": "stream",
     "text": [
      "  5%|▌         | 754/14110 [02:15<45:23,  4.90it/s]"
     ]
    },
    {
     "name": "stdout",
     "output_type": "stream",
     "text": [
      "uploading...\n"
     ]
    },
    {
     "name": "stderr",
     "output_type": "stream",
     "text": [
      "  5%|▌         | 774/14110 [02:18<42:20,  5.25it/s]"
     ]
    },
    {
     "name": "stdout",
     "output_type": "stream",
     "text": [
      "uploading...\n"
     ]
    },
    {
     "name": "stderr",
     "output_type": "stream",
     "text": [
      "  6%|▌         | 796/14110 [02:21<38:24,  5.78it/s]"
     ]
    },
    {
     "name": "stdout",
     "output_type": "stream",
     "text": [
      "uploading...\n"
     ]
    },
    {
     "name": "stderr",
     "output_type": "stream",
     "text": [
      "  6%|▌         | 817/14110 [02:24<36:38,  6.05it/s]"
     ]
    },
    {
     "name": "stdout",
     "output_type": "stream",
     "text": [
      "uploading...\n"
     ]
    },
    {
     "name": "stderr",
     "output_type": "stream",
     "text": [
      "  6%|▌         | 831/14110 [02:27<39:28,  5.61it/s]"
     ]
    },
    {
     "name": "stdout",
     "output_type": "stream",
     "text": [
      "uploading...\n"
     ]
    },
    {
     "name": "stderr",
     "output_type": "stream",
     "text": [
      "  6%|▌         | 850/14110 [02:35<52:50,  4.18it/s]"
     ]
    },
    {
     "name": "stdout",
     "output_type": "stream",
     "text": [
      "uploading...\n"
     ]
    },
    {
     "name": "stderr",
     "output_type": "stream",
     "text": [
      "  6%|▌         | 860/14110 [02:38<55:51,  3.95it/s]"
     ]
    },
    {
     "name": "stdout",
     "output_type": "stream",
     "text": [
      "uploading...\n"
     ]
    },
    {
     "name": "stderr",
     "output_type": "stream",
     "text": [
      "  6%|▌         | 875/14110 [02:41<53:12,  4.15it/s]"
     ]
    },
    {
     "name": "stdout",
     "output_type": "stream",
     "text": [
      "uploading...\n"
     ]
    },
    {
     "name": "stderr",
     "output_type": "stream",
     "text": [
      "  6%|▋         | 896/14110 [02:45<49:26,  4.46it/s]"
     ]
    },
    {
     "name": "stdout",
     "output_type": "stream",
     "text": [
      "uploading...\n"
     ]
    },
    {
     "name": "stderr",
     "output_type": "stream",
     "text": [
      "  6%|▋         | 916/14110 [02:48<44:09,  4.98it/s]"
     ]
    },
    {
     "name": "stdout",
     "output_type": "stream",
     "text": [
      "uploading...\n"
     ]
    },
    {
     "name": "stderr",
     "output_type": "stream",
     "text": [
      "  7%|▋         | 924/14110 [02:51<50:35,  4.34it/s]"
     ]
    },
    {
     "name": "stdout",
     "output_type": "stream",
     "text": [
      "uploading...\n"
     ]
    },
    {
     "name": "stderr",
     "output_type": "stream",
     "text": [
      "  7%|▋         | 931/14110 [02:57<1:14:07,  2.96it/s]"
     ]
    },
    {
     "name": "stdout",
     "output_type": "stream",
     "text": [
      "uploading...\n"
     ]
    },
    {
     "name": "stderr",
     "output_type": "stream",
     "text": [
      "  7%|▋         | 960/14110 [03:00<48:49,  4.49it/s]  "
     ]
    },
    {
     "name": "stdout",
     "output_type": "stream",
     "text": [
      "uploading...\n"
     ]
    },
    {
     "name": "stderr",
     "output_type": "stream",
     "text": [
      "  7%|▋         | 997/14110 [03:03<34:17,  6.37it/s]"
     ]
    },
    {
     "name": "stdout",
     "output_type": "stream",
     "text": [
      "uploading...\n"
     ]
    },
    {
     "name": "stderr",
     "output_type": "stream",
     "text": [
      "  7%|▋         | 1016/14110 [03:07<34:45,  6.28it/s]"
     ]
    },
    {
     "name": "stdout",
     "output_type": "stream",
     "text": [
      "uploading...\n"
     ]
    },
    {
     "name": "stderr",
     "output_type": "stream",
     "text": [
      "  7%|▋         | 1029/14110 [03:13<48:47,  4.47it/s]"
     ]
    },
    {
     "name": "stdout",
     "output_type": "stream",
     "text": [
      "uploading...\n"
     ]
    },
    {
     "name": "stderr",
     "output_type": "stream",
     "text": [
      "  7%|▋         | 1056/14110 [03:17<42:50,  5.08it/s]"
     ]
    },
    {
     "name": "stdout",
     "output_type": "stream",
     "text": [
      "uploading...\n"
     ]
    },
    {
     "name": "stderr",
     "output_type": "stream",
     "text": [
      "  8%|▊         | 1086/14110 [03:21<37:34,  5.78it/s]"
     ]
    },
    {
     "name": "stdout",
     "output_type": "stream",
     "text": [
      "uploading...\n"
     ]
    },
    {
     "name": "stderr",
     "output_type": "stream",
     "text": [
      "  8%|▊         | 1105/14110 [03:24<37:47,  5.73it/s]"
     ]
    },
    {
     "name": "stdout",
     "output_type": "stream",
     "text": [
      "uploading...\n"
     ]
    },
    {
     "name": "stderr",
     "output_type": "stream",
     "text": [
      "  8%|▊         | 1127/14110 [03:27<35:30,  6.09it/s]"
     ]
    },
    {
     "name": "stdout",
     "output_type": "stream",
     "text": [
      "uploading...\n"
     ]
    },
    {
     "name": "stderr",
     "output_type": "stream",
     "text": [
      "  8%|▊         | 1144/14110 [03:30<36:20,  5.95it/s]"
     ]
    },
    {
     "name": "stdout",
     "output_type": "stream",
     "text": [
      "uploading...\n"
     ]
    },
    {
     "name": "stderr",
     "output_type": "stream",
     "text": [
      "  8%|▊         | 1149/14110 [03:37<1:01:22,  3.52it/s]"
     ]
    },
    {
     "name": "stdout",
     "output_type": "stream",
     "text": [
      "uploading...\n"
     ]
    },
    {
     "name": "stderr",
     "output_type": "stream",
     "text": [
      "  8%|▊         | 1165/14110 [03:41<55:25,  3.89it/s]  "
     ]
    },
    {
     "name": "stdout",
     "output_type": "stream",
     "text": [
      "uploading...\n"
     ]
    },
    {
     "name": "stderr",
     "output_type": "stream",
     "text": [
      "  8%|▊         | 1170/14110 [03:44<1:04:27,  3.35it/s]"
     ]
    },
    {
     "name": "stdout",
     "output_type": "stream",
     "text": [
      "uploading...\n"
     ]
    },
    {
     "name": "stderr",
     "output_type": "stream",
     "text": [
      "  8%|▊         | 1183/14110 [03:47<1:00:51,  3.54it/s]"
     ]
    },
    {
     "name": "stdout",
     "output_type": "stream",
     "text": [
      "uploading...\n"
     ]
    },
    {
     "name": "stderr",
     "output_type": "stream",
     "text": [
      "  9%|▊         | 1203/14110 [03:51<53:42,  4.00it/s]  "
     ]
    },
    {
     "name": "stdout",
     "output_type": "stream",
     "text": [
      "uploading...\n"
     ]
    },
    {
     "name": "stderr",
     "output_type": "stream",
     "text": [
      "  9%|▊         | 1215/14110 [03:55<59:31,  3.61it/s]"
     ]
    },
    {
     "name": "stdout",
     "output_type": "stream",
     "text": [
      "uploading...\n"
     ]
    },
    {
     "name": "stderr",
     "output_type": "stream",
     "text": [
      "  9%|▊         | 1231/14110 [03:58<52:59,  4.05it/s]"
     ]
    },
    {
     "name": "stdout",
     "output_type": "stream",
     "text": [
      "uploading...\n"
     ]
    },
    {
     "name": "stderr",
     "output_type": "stream",
     "text": [
      "  9%|▉         | 1246/14110 [04:01<50:39,  4.23it/s]"
     ]
    },
    {
     "name": "stdout",
     "output_type": "stream",
     "text": [
      "uploading...\n"
     ]
    },
    {
     "name": "stderr",
     "output_type": "stream",
     "text": [
      "  9%|▉         | 1265/14110 [04:04<45:19,  4.72it/s]"
     ]
    },
    {
     "name": "stdout",
     "output_type": "stream",
     "text": [
      "uploading...\n"
     ]
    },
    {
     "name": "stderr",
     "output_type": "stream",
     "text": [
      "  9%|▉         | 1289/14110 [04:07<38:13,  5.59it/s]"
     ]
    },
    {
     "name": "stdout",
     "output_type": "stream",
     "text": [
      "uploading...\n"
     ]
    },
    {
     "name": "stderr",
     "output_type": "stream",
     "text": [
      "  9%|▉         | 1314/14110 [04:11<33:47,  6.31it/s]"
     ]
    },
    {
     "name": "stdout",
     "output_type": "stream",
     "text": [
      "uploading...\n"
     ]
    },
    {
     "name": "stderr",
     "output_type": "stream",
     "text": [
      "  9%|▉         | 1329/14110 [04:17<46:54,  4.54it/s]"
     ]
    },
    {
     "name": "stdout",
     "output_type": "stream",
     "text": [
      "uploading...\n"
     ]
    },
    {
     "name": "stderr",
     "output_type": "stream",
     "text": [
      " 10%|▉         | 1346/14110 [04:21<48:05,  4.42it/s]"
     ]
    },
    {
     "name": "stdout",
     "output_type": "stream",
     "text": [
      "uploading...\n"
     ]
    },
    {
     "name": "stderr",
     "output_type": "stream",
     "text": [
      " 10%|▉         | 1371/14110 [04:24<40:29,  5.24it/s]"
     ]
    },
    {
     "name": "stdout",
     "output_type": "stream",
     "text": [
      "uploading...\n"
     ]
    },
    {
     "name": "stderr",
     "output_type": "stream",
     "text": [
      " 10%|▉         | 1392/14110 [04:27<38:12,  5.55it/s]"
     ]
    },
    {
     "name": "stdout",
     "output_type": "stream",
     "text": [
      "uploading...\n"
     ]
    },
    {
     "name": "stderr",
     "output_type": "stream",
     "text": [
      " 10%|▉         | 1407/14110 [04:31<42:00,  5.04it/s]"
     ]
    },
    {
     "name": "stdout",
     "output_type": "stream",
     "text": [
      "uploading...\n"
     ]
    },
    {
     "name": "stderr",
     "output_type": "stream",
     "text": [
      " 10%|█         | 1426/14110 [04:34<39:44,  5.32it/s]"
     ]
    },
    {
     "name": "stdout",
     "output_type": "stream",
     "text": [
      "uploading...\n"
     ]
    },
    {
     "name": "stderr",
     "output_type": "stream",
     "text": [
      " 10%|█         | 1437/14110 [04:40<51:24,  4.11it/s]"
     ]
    },
    {
     "name": "stdout",
     "output_type": "stream",
     "text": [
      "uploading...\n"
     ]
    },
    {
     "name": "stderr",
     "output_type": "stream",
     "text": [
      " 10%|█         | 1467/14110 [04:43<38:06,  5.53it/s]"
     ]
    },
    {
     "name": "stdout",
     "output_type": "stream",
     "text": [
      "uploading...\n"
     ]
    },
    {
     "name": "stderr",
     "output_type": "stream",
     "text": [
      " 11%|█         | 1491/14110 [04:46<34:47,  6.05it/s]"
     ]
    },
    {
     "name": "stdout",
     "output_type": "stream",
     "text": [
      "uploading...\n"
     ]
    },
    {
     "name": "stderr",
     "output_type": "stream",
     "text": [
      " 11%|█         | 1504/14110 [04:49<37:49,  5.56it/s]"
     ]
    },
    {
     "name": "stdout",
     "output_type": "stream",
     "text": [
      "uploading...\n"
     ]
    },
    {
     "name": "stderr",
     "output_type": "stream",
     "text": [
      " 11%|█         | 1518/14110 [04:53<43:22,  4.84it/s]"
     ]
    },
    {
     "name": "stdout",
     "output_type": "stream",
     "text": [
      "uploading...\n"
     ]
    },
    {
     "name": "stderr",
     "output_type": "stream",
     "text": [
      " 11%|█         | 1522/14110 [04:57<59:40,  3.52it/s]"
     ]
    },
    {
     "name": "stdout",
     "output_type": "stream",
     "text": [
      "uploading...\n"
     ]
    },
    {
     "name": "stderr",
     "output_type": "stream",
     "text": [
      " 11%|█         | 1558/14110 [05:00<37:10,  5.63it/s]"
     ]
    },
    {
     "name": "stdout",
     "output_type": "stream",
     "text": [
      "uploading...\n"
     ]
    },
    {
     "name": "stderr",
     "output_type": "stream",
     "text": [
      " 11%|█         | 1576/14110 [05:03<36:40,  5.70it/s]"
     ]
    },
    {
     "name": "stdout",
     "output_type": "stream",
     "text": [
      "uploading...\n"
     ]
    },
    {
     "name": "stderr",
     "output_type": "stream",
     "text": [
      " 11%|█▏        | 1601/14110 [05:06<32:50,  6.35it/s]"
     ]
    },
    {
     "name": "stdout",
     "output_type": "stream",
     "text": [
      "uploading...\n"
     ]
    },
    {
     "name": "stderr",
     "output_type": "stream",
     "text": [
      " 11%|█▏        | 1621/14110 [05:10<32:33,  6.39it/s]"
     ]
    },
    {
     "name": "stdout",
     "output_type": "stream",
     "text": [
      "uploading...\n"
     ]
    },
    {
     "name": "stderr",
     "output_type": "stream",
     "text": [
      " 12%|█▏        | 1625/14110 [05:17<58:25,  3.56it/s]"
     ]
    },
    {
     "name": "stdout",
     "output_type": "stream",
     "text": [
      "uploading...\n"
     ]
    },
    {
     "name": "stderr",
     "output_type": "stream",
     "text": [
      " 12%|█▏        | 1643/14110 [05:21<54:42,  3.80it/s]"
     ]
    },
    {
     "name": "stdout",
     "output_type": "stream",
     "text": [
      "uploading...\n"
     ]
    },
    {
     "name": "stderr",
     "output_type": "stream",
     "text": [
      " 12%|█▏        | 1676/14110 [05:25<40:53,  5.07it/s]"
     ]
    },
    {
     "name": "stdout",
     "output_type": "stream",
     "text": [
      "uploading...\n"
     ]
    },
    {
     "name": "stderr",
     "output_type": "stream",
     "text": [
      " 12%|█▏        | 1690/14110 [05:29<45:13,  4.58it/s]"
     ]
    },
    {
     "name": "stdout",
     "output_type": "stream",
     "text": [
      "uploading...\n"
     ]
    },
    {
     "name": "stderr",
     "output_type": "stream",
     "text": [
      " 12%|█▏        | 1715/14110 [05:32<38:03,  5.43it/s]"
     ]
    },
    {
     "name": "stdout",
     "output_type": "stream",
     "text": [
      "uploading...\n"
     ]
    },
    {
     "name": "stderr",
     "output_type": "stream",
     "text": [
      " 12%|█▏        | 1733/14110 [05:35<37:32,  5.49it/s]"
     ]
    },
    {
     "name": "stdout",
     "output_type": "stream",
     "text": [
      "uploading...\n"
     ]
    },
    {
     "name": "stderr",
     "output_type": "stream",
     "text": [
      " 13%|█▎        | 1764/14110 [05:39<33:27,  6.15it/s]"
     ]
    },
    {
     "name": "stdout",
     "output_type": "stream",
     "text": [
      "uploading...\n"
     ]
    },
    {
     "name": "stderr",
     "output_type": "stream",
     "text": [
      " 13%|█▎        | 1786/14110 [05:42<32:13,  6.37it/s]"
     ]
    },
    {
     "name": "stdout",
     "output_type": "stream",
     "text": [
      "uploading...\n"
     ]
    },
    {
     "name": "stderr",
     "output_type": "stream",
     "text": [
      " 13%|█▎        | 1815/14110 [05:45<28:22,  7.22it/s]"
     ]
    },
    {
     "name": "stdout",
     "output_type": "stream",
     "text": [
      "uploading...\n"
     ]
    },
    {
     "name": "stderr",
     "output_type": "stream",
     "text": [
      " 13%|█▎        | 1825/14110 [05:49<34:12,  5.99it/s]"
     ]
    },
    {
     "name": "stdout",
     "output_type": "stream",
     "text": [
      "uploading...\n"
     ]
    },
    {
     "name": "stderr",
     "output_type": "stream",
     "text": [
      " 13%|█▎        | 1846/14110 [05:53<35:53,  5.69it/s]"
     ]
    },
    {
     "name": "stdout",
     "output_type": "stream",
     "text": [
      "uploading...\n"
     ]
    },
    {
     "name": "stderr",
     "output_type": "stream",
     "text": [
      " 13%|█▎        | 1875/14110 [05:57<32:53,  6.20it/s]"
     ]
    },
    {
     "name": "stdout",
     "output_type": "stream",
     "text": [
      "uploading...\n"
     ]
    },
    {
     "name": "stderr",
     "output_type": "stream",
     "text": [
      " 13%|█▎        | 1904/14110 [06:00<28:56,  7.03it/s]"
     ]
    },
    {
     "name": "stdout",
     "output_type": "stream",
     "text": [
      "uploading...\n"
     ]
    },
    {
     "name": "stderr",
     "output_type": "stream",
     "text": [
      " 14%|█▎        | 1921/14110 [06:03<30:47,  6.60it/s]"
     ]
    },
    {
     "name": "stdout",
     "output_type": "stream",
     "text": [
      "uploading...\n"
     ]
    },
    {
     "name": "stderr",
     "output_type": "stream",
     "text": [
      " 14%|█▎        | 1928/14110 [06:06<37:23,  5.43it/s]"
     ]
    },
    {
     "name": "stdout",
     "output_type": "stream",
     "text": [
      "uploading...\n"
     ]
    },
    {
     "name": "stderr",
     "output_type": "stream",
     "text": [
      " 14%|█▍        | 1944/14110 [06:09<37:47,  5.37it/s]"
     ]
    },
    {
     "name": "stdout",
     "output_type": "stream",
     "text": [
      "uploading...\n"
     ]
    },
    {
     "name": "stderr",
     "output_type": "stream",
     "text": [
      " 14%|█▍        | 1955/14110 [06:12<42:13,  4.80it/s]"
     ]
    },
    {
     "name": "stdout",
     "output_type": "stream",
     "text": [
      "uploading...\n"
     ]
    },
    {
     "name": "stderr",
     "output_type": "stream",
     "text": [
      " 14%|█▍        | 1973/14110 [06:15<39:11,  5.16it/s]"
     ]
    },
    {
     "name": "stdout",
     "output_type": "stream",
     "text": [
      "uploading...\n"
     ]
    },
    {
     "name": "stderr",
     "output_type": "stream",
     "text": [
      " 14%|█▍        | 1984/14110 [06:19<47:37,  4.24it/s]"
     ]
    },
    {
     "name": "stdout",
     "output_type": "stream",
     "text": [
      "uploading...\n"
     ]
    },
    {
     "name": "stderr",
     "output_type": "stream",
     "text": [
      " 14%|█▍        | 1999/14110 [06:23<45:44,  4.41it/s]"
     ]
    },
    {
     "name": "stdout",
     "output_type": "stream",
     "text": [
      "uploading...\n"
     ]
    },
    {
     "name": "stderr",
     "output_type": "stream",
     "text": [
      " 14%|█▍        | 2025/14110 [06:26<36:14,  5.56it/s]"
     ]
    },
    {
     "name": "stdout",
     "output_type": "stream",
     "text": [
      "uploading...\n"
     ]
    },
    {
     "name": "stderr",
     "output_type": "stream",
     "text": [
      " 14%|█▍        | 2036/14110 [06:29<41:32,  4.84it/s]"
     ]
    },
    {
     "name": "stdout",
     "output_type": "stream",
     "text": [
      "uploading...\n"
     ]
    },
    {
     "name": "stderr",
     "output_type": "stream",
     "text": [
      " 15%|█▍        | 2046/14110 [06:32<45:45,  4.39it/s]"
     ]
    },
    {
     "name": "stdout",
     "output_type": "stream",
     "text": [
      "uploading...\n"
     ]
    },
    {
     "name": "stderr",
     "output_type": "stream",
     "text": [
      " 15%|█▍        | 2070/14110 [06:36<40:29,  4.95it/s]"
     ]
    },
    {
     "name": "stdout",
     "output_type": "stream",
     "text": [
      "uploading...\n"
     ]
    },
    {
     "name": "stderr",
     "output_type": "stream",
     "text": [
      " 15%|█▍        | 2073/14110 [06:40<56:47,  3.53it/s]"
     ]
    },
    {
     "name": "stdout",
     "output_type": "stream",
     "text": [
      "uploading...\n"
     ]
    },
    {
     "name": "stderr",
     "output_type": "stream",
     "text": [
      " 15%|█▍        | 2078/14110 [06:45<1:17:56,  2.57it/s]"
     ]
    },
    {
     "name": "stdout",
     "output_type": "stream",
     "text": [
      "uploading...\n"
     ]
    },
    {
     "name": "stderr",
     "output_type": "stream",
     "text": [
      " 15%|█▍        | 2105/14110 [06:48<48:58,  4.09it/s]  "
     ]
    },
    {
     "name": "stdout",
     "output_type": "stream",
     "text": [
      "uploading...\n"
     ]
    },
    {
     "name": "stderr",
     "output_type": "stream",
     "text": [
      " 15%|█▌        | 2123/14110 [06:51<43:57,  4.54it/s]"
     ]
    },
    {
     "name": "stdout",
     "output_type": "stream",
     "text": [
      "uploading...\n"
     ]
    },
    {
     "name": "stderr",
     "output_type": "stream",
     "text": [
      " 15%|█▌        | 2145/14110 [06:55<37:59,  5.25it/s]"
     ]
    },
    {
     "name": "stdout",
     "output_type": "stream",
     "text": [
      "uploading...\n"
     ]
    },
    {
     "name": "stderr",
     "output_type": "stream",
     "text": [
      " 15%|█▌        | 2166/14110 [06:59<38:08,  5.22it/s]"
     ]
    },
    {
     "name": "stdout",
     "output_type": "stream",
     "text": [
      "uploading...\n"
     ]
    },
    {
     "name": "stderr",
     "output_type": "stream",
     "text": [
      " 15%|█▌        | 2185/14110 [07:02<36:42,  5.42it/s]"
     ]
    },
    {
     "name": "stdout",
     "output_type": "stream",
     "text": [
      "uploading...\n"
     ]
    },
    {
     "name": "stderr",
     "output_type": "stream",
     "text": [
      " 16%|█▌        | 2211/14110 [07:06<34:29,  5.75it/s]"
     ]
    },
    {
     "name": "stdout",
     "output_type": "stream",
     "text": [
      "uploading...\n"
     ]
    },
    {
     "name": "stderr",
     "output_type": "stream",
     "text": [
      " 16%|█▌        | 2233/14110 [07:10<35:18,  5.61it/s]"
     ]
    },
    {
     "name": "stdout",
     "output_type": "stream",
     "text": [
      "uploading...\n"
     ]
    },
    {
     "name": "stderr",
     "output_type": "stream",
     "text": [
      " 16%|█▌        | 2251/14110 [07:13<34:59,  5.65it/s]"
     ]
    },
    {
     "name": "stdout",
     "output_type": "stream",
     "text": [
      "uploading...\n"
     ]
    },
    {
     "name": "stderr",
     "output_type": "stream",
     "text": [
      " 16%|█▌        | 2269/14110 [07:16<34:45,  5.68it/s]"
     ]
    },
    {
     "name": "stdout",
     "output_type": "stream",
     "text": [
      "uploading...\n"
     ]
    },
    {
     "name": "stderr",
     "output_type": "stream",
     "text": [
      " 16%|█▋        | 2299/14110 [07:19<28:55,  6.81it/s]"
     ]
    },
    {
     "name": "stdout",
     "output_type": "stream",
     "text": [
      "uploading...\n"
     ]
    },
    {
     "name": "stderr",
     "output_type": "stream",
     "text": [
      " 16%|█▋        | 2319/14110 [07:23<29:47,  6.60it/s]"
     ]
    },
    {
     "name": "stdout",
     "output_type": "stream",
     "text": [
      "uploading...\n"
     ]
    },
    {
     "name": "stderr",
     "output_type": "stream",
     "text": [
      " 17%|█▋        | 2348/14110 [07:26<26:43,  7.33it/s]"
     ]
    },
    {
     "name": "stdout",
     "output_type": "stream",
     "text": [
      "uploading...\n"
     ]
    },
    {
     "name": "stderr",
     "output_type": "stream",
     "text": [
      " 17%|█▋        | 2375/14110 [07:30<27:23,  7.14it/s]"
     ]
    },
    {
     "name": "stdout",
     "output_type": "stream",
     "text": [
      "uploading...\n"
     ]
    },
    {
     "name": "stderr",
     "output_type": "stream",
     "text": [
      " 17%|█▋        | 2378/14110 [07:34<39:47,  4.91it/s]"
     ]
    },
    {
     "name": "stdout",
     "output_type": "stream",
     "text": [
      "uploading...\n"
     ]
    },
    {
     "name": "stderr",
     "output_type": "stream",
     "text": [
      " 17%|█▋        | 2399/14110 [07:37<36:03,  5.41it/s]"
     ]
    },
    {
     "name": "stdout",
     "output_type": "stream",
     "text": [
      "uploading...\n"
     ]
    },
    {
     "name": "stderr",
     "output_type": "stream",
     "text": [
      " 17%|█▋        | 2419/14110 [07:46<52:56,  3.68it/s]"
     ]
    },
    {
     "name": "stdout",
     "output_type": "stream",
     "text": [
      "uploading...\n"
     ]
    },
    {
     "name": "stderr",
     "output_type": "stream",
     "text": [
      " 17%|█▋        | 2433/14110 [07:55<1:07:01,  2.90it/s]"
     ]
    },
    {
     "name": "stdout",
     "output_type": "stream",
     "text": [
      "uploading...\n"
     ]
    },
    {
     "name": "stderr",
     "output_type": "stream",
     "text": [
      " 17%|█▋        | 2446/14110 [07:59<1:06:36,  2.92it/s]"
     ]
    },
    {
     "name": "stdout",
     "output_type": "stream",
     "text": [
      "uploading...\n"
     ]
    },
    {
     "name": "stderr",
     "output_type": "stream",
     "text": [
      " 17%|█▋        | 2469/14110 [08:03<54:00,  3.59it/s]  "
     ]
    },
    {
     "name": "stdout",
     "output_type": "stream",
     "text": [
      "uploading...\n"
     ]
    },
    {
     "name": "stderr",
     "output_type": "stream",
     "text": [
      " 18%|█▊        | 2488/14110 [08:06<47:05,  4.11it/s]"
     ]
    },
    {
     "name": "stdout",
     "output_type": "stream",
     "text": [
      "uploading...\n"
     ]
    },
    {
     "name": "stderr",
     "output_type": "stream",
     "text": [
      " 18%|█▊        | 2510/14110 [08:09<40:33,  4.77it/s]"
     ]
    },
    {
     "name": "stdout",
     "output_type": "stream",
     "text": [
      "uploading...\n"
     ]
    },
    {
     "name": "stderr",
     "output_type": "stream",
     "text": [
      " 18%|█▊        | 2526/14110 [08:12<39:17,  4.91it/s]"
     ]
    },
    {
     "name": "stdout",
     "output_type": "stream",
     "text": [
      "uploading...\n"
     ]
    },
    {
     "name": "stderr",
     "output_type": "stream",
     "text": [
      " 18%|█▊        | 2539/14110 [08:15<40:39,  4.74it/s]"
     ]
    },
    {
     "name": "stdout",
     "output_type": "stream",
     "text": [
      "uploading...\n"
     ]
    },
    {
     "name": "stderr",
     "output_type": "stream",
     "text": [
      " 18%|█▊        | 2558/14110 [08:19<40:53,  4.71it/s]"
     ]
    },
    {
     "name": "stdout",
     "output_type": "stream",
     "text": [
      "uploading...\n"
     ]
    },
    {
     "name": "stderr",
     "output_type": "stream",
     "text": [
      " 18%|█▊        | 2578/14110 [08:22<37:06,  5.18it/s]"
     ]
    },
    {
     "name": "stdout",
     "output_type": "stream",
     "text": [
      "uploading...\n"
     ]
    },
    {
     "name": "stderr",
     "output_type": "stream",
     "text": [
      " 18%|█▊        | 2590/14110 [08:25<39:42,  4.84it/s]"
     ]
    },
    {
     "name": "stdout",
     "output_type": "stream",
     "text": [
      "uploading...\n"
     ]
    },
    {
     "name": "stderr",
     "output_type": "stream",
     "text": [
      " 18%|█▊        | 2605/14110 [08:29<39:38,  4.84it/s]"
     ]
    },
    {
     "name": "stdout",
     "output_type": "stream",
     "text": [
      "uploading...\n"
     ]
    },
    {
     "name": "stderr",
     "output_type": "stream",
     "text": [
      " 19%|█▊        | 2627/14110 [08:32<35:07,  5.45it/s]"
     ]
    },
    {
     "name": "stdout",
     "output_type": "stream",
     "text": [
      "uploading...\n"
     ]
    },
    {
     "name": "stderr",
     "output_type": "stream",
     "text": [
      " 19%|█▉        | 2651/14110 [08:35<31:09,  6.13it/s]"
     ]
    },
    {
     "name": "stdout",
     "output_type": "stream",
     "text": [
      "uploading...\n"
     ]
    },
    {
     "name": "stderr",
     "output_type": "stream",
     "text": [
      " 19%|█▉        | 2672/14110 [08:39<33:00,  5.77it/s]"
     ]
    },
    {
     "name": "stdout",
     "output_type": "stream",
     "text": [
      "uploading...\n"
     ]
    },
    {
     "name": "stderr",
     "output_type": "stream",
     "text": [
      " 19%|█▉        | 2690/14110 [08:43<35:33,  5.35it/s]"
     ]
    },
    {
     "name": "stdout",
     "output_type": "stream",
     "text": [
      "uploading...\n"
     ]
    },
    {
     "name": "stderr",
     "output_type": "stream",
     "text": [
      " 19%|█▉        | 2694/14110 [08:47<48:25,  3.93it/s]"
     ]
    },
    {
     "name": "stdout",
     "output_type": "stream",
     "text": [
      "uploading...\n"
     ]
    },
    {
     "name": "stderr",
     "output_type": "stream",
     "text": [
      " 19%|█▉        | 2700/14110 [08:50<55:46,  3.41it/s]"
     ]
    },
    {
     "name": "stdout",
     "output_type": "stream",
     "text": [
      "uploading...\n"
     ]
    },
    {
     "name": "stderr",
     "output_type": "stream",
     "text": [
      " 19%|█▉        | 2719/14110 [08:53<45:51,  4.14it/s]"
     ]
    },
    {
     "name": "stdout",
     "output_type": "stream",
     "text": [
      "uploading...\n"
     ]
    },
    {
     "name": "stderr",
     "output_type": "stream",
     "text": [
      " 19%|█▉        | 2739/14110 [08:56<39:37,  4.78it/s]"
     ]
    },
    {
     "name": "stdout",
     "output_type": "stream",
     "text": [
      "uploading...\n"
     ]
    },
    {
     "name": "stderr",
     "output_type": "stream",
     "text": [
      " 20%|█▉        | 2758/14110 [09:00<40:17,  4.70it/s]"
     ]
    },
    {
     "name": "stdout",
     "output_type": "stream",
     "text": [
      "uploading...\n"
     ]
    },
    {
     "name": "stderr",
     "output_type": "stream",
     "text": [
      " 20%|█▉        | 2767/14110 [09:03<44:31,  4.25it/s]"
     ]
    },
    {
     "name": "stdout",
     "output_type": "stream",
     "text": [
      "uploading...\n"
     ]
    },
    {
     "name": "stderr",
     "output_type": "stream",
     "text": [
      " 20%|█▉        | 2800/14110 [09:07<31:19,  6.02it/s]"
     ]
    },
    {
     "name": "stdout",
     "output_type": "stream",
     "text": [
      "uploading...\n"
     ]
    },
    {
     "name": "stderr",
     "output_type": "stream",
     "text": [
      " 20%|█▉        | 2816/14110 [09:10<32:49,  5.73it/s]"
     ]
    },
    {
     "name": "stdout",
     "output_type": "stream",
     "text": [
      "uploading...\n"
     ]
    },
    {
     "name": "stderr",
     "output_type": "stream",
     "text": [
      " 20%|██        | 2843/14110 [09:14<31:08,  6.03it/s]"
     ]
    },
    {
     "name": "stdout",
     "output_type": "stream",
     "text": [
      "uploading...\n"
     ]
    },
    {
     "name": "stderr",
     "output_type": "stream",
     "text": [
      " 20%|██        | 2875/14110 [09:17<25:49,  7.25it/s]"
     ]
    },
    {
     "name": "stdout",
     "output_type": "stream",
     "text": [
      "uploading...\n"
     ]
    },
    {
     "name": "stderr",
     "output_type": "stream",
     "text": [
      " 20%|██        | 2887/14110 [09:20<30:33,  6.12it/s]"
     ]
    },
    {
     "name": "stdout",
     "output_type": "stream",
     "text": [
      "uploading...\n"
     ]
    },
    {
     "name": "stderr",
     "output_type": "stream",
     "text": [
      " 21%|██        | 2899/14110 [09:24<36:46,  5.08it/s]"
     ]
    },
    {
     "name": "stdout",
     "output_type": "stream",
     "text": [
      "uploading...\n"
     ]
    },
    {
     "name": "stderr",
     "output_type": "stream",
     "text": [
      " 21%|██        | 2915/14110 [09:27<36:32,  5.11it/s]"
     ]
    },
    {
     "name": "stdout",
     "output_type": "stream",
     "text": [
      "uploading...\n"
     ]
    },
    {
     "name": "stderr",
     "output_type": "stream",
     "text": [
      " 21%|██        | 2933/14110 [09:30<34:59,  5.32it/s]"
     ]
    },
    {
     "name": "stdout",
     "output_type": "stream",
     "text": [
      "uploading...\n"
     ]
    },
    {
     "name": "stderr",
     "output_type": "stream",
     "text": [
      " 21%|██        | 2952/14110 [09:34<33:44,  5.51it/s]"
     ]
    },
    {
     "name": "stdout",
     "output_type": "stream",
     "text": [
      "uploading...\n"
     ]
    },
    {
     "name": "stderr",
     "output_type": "stream",
     "text": [
      " 21%|██        | 2968/14110 [09:37<34:15,  5.42it/s]"
     ]
    },
    {
     "name": "stdout",
     "output_type": "stream",
     "text": [
      "uploading...\n"
     ]
    },
    {
     "name": "stderr",
     "output_type": "stream",
     "text": [
      " 21%|██        | 2985/14110 [09:41<36:56,  5.02it/s]"
     ]
    },
    {
     "name": "stdout",
     "output_type": "stream",
     "text": [
      "uploading...\n"
     ]
    },
    {
     "name": "stderr",
     "output_type": "stream",
     "text": [
      " 21%|██▏       | 3006/14110 [09:45<36:30,  5.07it/s]"
     ]
    },
    {
     "name": "stdout",
     "output_type": "stream",
     "text": [
      "uploading...\n"
     ]
    },
    {
     "name": "stderr",
     "output_type": "stream",
     "text": [
      " 21%|██▏       | 3028/14110 [09:49<35:50,  5.15it/s]"
     ]
    },
    {
     "name": "stdout",
     "output_type": "stream",
     "text": [
      "uploading...\n"
     ]
    },
    {
     "name": "stderr",
     "output_type": "stream",
     "text": [
      " 21%|██▏       | 3033/14110 [09:58<1:05:36,  2.81it/s]"
     ]
    },
    {
     "name": "stdout",
     "output_type": "stream",
     "text": [
      "uploading...\n"
     ]
    },
    {
     "name": "stderr",
     "output_type": "stream",
     "text": [
      " 22%|██▏       | 3053/14110 [10:01<52:44,  3.49it/s]  "
     ]
    },
    {
     "name": "stdout",
     "output_type": "stream",
     "text": [
      "uploading...\n"
     ]
    },
    {
     "name": "stderr",
     "output_type": "stream",
     "text": [
      " 22%|██▏       | 3069/14110 [10:05<50:40,  3.63it/s]"
     ]
    },
    {
     "name": "stdout",
     "output_type": "stream",
     "text": [
      "uploading...\n"
     ]
    },
    {
     "name": "stderr",
     "output_type": "stream",
     "text": [
      " 22%|██▏       | 3086/14110 [10:08<45:35,  4.03it/s]"
     ]
    },
    {
     "name": "stdout",
     "output_type": "stream",
     "text": [
      "uploading...\n"
     ]
    },
    {
     "name": "stderr",
     "output_type": "stream",
     "text": [
      " 22%|██▏       | 3100/14110 [10:13<47:56,  3.83it/s]"
     ]
    },
    {
     "name": "stdout",
     "output_type": "stream",
     "text": [
      "uploading...\n"
     ]
    },
    {
     "name": "stderr",
     "output_type": "stream",
     "text": [
      " 22%|██▏       | 3130/14110 [10:17<37:41,  4.86it/s]"
     ]
    },
    {
     "name": "stdout",
     "output_type": "stream",
     "text": [
      "uploading...\n"
     ]
    },
    {
     "name": "stderr",
     "output_type": "stream",
     "text": [
      " 22%|██▏       | 3149/14110 [10:22<41:15,  4.43it/s]"
     ]
    },
    {
     "name": "stdout",
     "output_type": "stream",
     "text": [
      "uploading...\n"
     ]
    },
    {
     "name": "stderr",
     "output_type": "stream",
     "text": [
      " 22%|██▏       | 3174/14110 [10:26<36:58,  4.93it/s]"
     ]
    },
    {
     "name": "stdout",
     "output_type": "stream",
     "text": [
      "uploading...\n"
     ]
    },
    {
     "name": "stderr",
     "output_type": "stream",
     "text": [
      " 23%|██▎       | 3189/14110 [10:29<37:01,  4.92it/s]"
     ]
    },
    {
     "name": "stdout",
     "output_type": "stream",
     "text": [
      "uploading...\n"
     ]
    },
    {
     "name": "stderr",
     "output_type": "stream",
     "text": [
      " 23%|██▎       | 3201/14110 [10:32<38:56,  4.67it/s]"
     ]
    },
    {
     "name": "stdout",
     "output_type": "stream",
     "text": [
      "uploading...\n"
     ]
    },
    {
     "name": "stderr",
     "output_type": "stream",
     "text": [
      " 23%|██▎       | 3207/14110 [10:35<46:42,  3.89it/s]"
     ]
    },
    {
     "name": "stdout",
     "output_type": "stream",
     "text": [
      "uploading...\n"
     ]
    },
    {
     "name": "stderr",
     "output_type": "stream",
     "text": [
      " 23%|██▎       | 3216/14110 [10:38<49:35,  3.66it/s]"
     ]
    },
    {
     "name": "stdout",
     "output_type": "stream",
     "text": [
      "uploading...\n"
     ]
    },
    {
     "name": "stderr",
     "output_type": "stream",
     "text": [
      " 23%|██▎       | 3232/14110 [10:41<44:14,  4.10it/s]"
     ]
    },
    {
     "name": "stdout",
     "output_type": "stream",
     "text": [
      "uploading...\n"
     ]
    },
    {
     "name": "stderr",
     "output_type": "stream",
     "text": [
      " 23%|██▎       | 3266/14110 [10:46<33:05,  5.46it/s]"
     ]
    },
    {
     "name": "stdout",
     "output_type": "stream",
     "text": [
      "uploading...\n"
     ]
    },
    {
     "name": "stderr",
     "output_type": "stream",
     "text": [
      " 23%|██▎       | 3281/14110 [10:50<36:48,  4.90it/s]"
     ]
    },
    {
     "name": "stdout",
     "output_type": "stream",
     "text": [
      "uploading...\n"
     ]
    },
    {
     "name": "stderr",
     "output_type": "stream",
     "text": [
      " 23%|██▎       | 3286/14110 [10:55<52:14,  3.45it/s]"
     ]
    },
    {
     "name": "stdout",
     "output_type": "stream",
     "text": [
      "uploading...\n"
     ]
    },
    {
     "name": "stderr",
     "output_type": "stream",
     "text": [
      " 23%|██▎       | 3302/14110 [10:59<50:34,  3.56it/s]"
     ]
    },
    {
     "name": "stdout",
     "output_type": "stream",
     "text": [
      "uploading...\n"
     ]
    },
    {
     "name": "stderr",
     "output_type": "stream",
     "text": [
      " 24%|██▎       | 3322/14110 [11:02<41:45,  4.31it/s]"
     ]
    },
    {
     "name": "stdout",
     "output_type": "stream",
     "text": [
      "uploading...\n"
     ]
    },
    {
     "name": "stderr",
     "output_type": "stream",
     "text": [
      " 24%|██▎       | 3331/14110 [11:06<49:20,  3.64it/s]"
     ]
    },
    {
     "name": "stdout",
     "output_type": "stream",
     "text": [
      "uploading...\n"
     ]
    },
    {
     "name": "stderr",
     "output_type": "stream",
     "text": [
      " 24%|██▎       | 3346/14110 [11:09<45:23,  3.95it/s]"
     ]
    },
    {
     "name": "stdout",
     "output_type": "stream",
     "text": [
      "uploading...\n"
     ]
    },
    {
     "name": "stderr",
     "output_type": "stream",
     "text": [
      " 24%|██▍       | 3370/14110 [11:12<36:07,  4.96it/s]"
     ]
    },
    {
     "name": "stdout",
     "output_type": "stream",
     "text": [
      "uploading...\n"
     ]
    },
    {
     "name": "stderr",
     "output_type": "stream",
     "text": [
      " 24%|██▍       | 3391/14110 [11:15<32:47,  5.45it/s]"
     ]
    },
    {
     "name": "stdout",
     "output_type": "stream",
     "text": [
      "uploading...\n"
     ]
    },
    {
     "name": "stderr",
     "output_type": "stream",
     "text": [
      " 24%|██▍       | 3414/14110 [11:19<29:45,  5.99it/s]"
     ]
    },
    {
     "name": "stdout",
     "output_type": "stream",
     "text": [
      "uploading...\n"
     ]
    },
    {
     "name": "stderr",
     "output_type": "stream",
     "text": [
      " 24%|██▍       | 3426/14110 [11:23<36:03,  4.94it/s]"
     ]
    },
    {
     "name": "stdout",
     "output_type": "stream",
     "text": [
      "uploading...\n"
     ]
    },
    {
     "name": "stderr",
     "output_type": "stream",
     "text": [
      " 24%|██▍       | 3446/14110 [11:27<36:01,  4.93it/s]"
     ]
    },
    {
     "name": "stdout",
     "output_type": "stream",
     "text": [
      "uploading...\n"
     ]
    },
    {
     "name": "stderr",
     "output_type": "stream",
     "text": [
      " 25%|██▍       | 3458/14110 [11:30<38:47,  4.58it/s]"
     ]
    },
    {
     "name": "stdout",
     "output_type": "stream",
     "text": [
      "uploading...\n"
     ]
    },
    {
     "name": "stderr",
     "output_type": "stream",
     "text": [
      " 25%|██▍       | 3483/14110 [11:33<32:14,  5.49it/s]"
     ]
    },
    {
     "name": "stdout",
     "output_type": "stream",
     "text": [
      "uploading...\n"
     ]
    },
    {
     "name": "stderr",
     "output_type": "stream",
     "text": [
      " 25%|██▍       | 3495/14110 [11:36<35:00,  5.05it/s]"
     ]
    },
    {
     "name": "stdout",
     "output_type": "stream",
     "text": [
      "uploading...\n"
     ]
    },
    {
     "name": "stderr",
     "output_type": "stream",
     "text": [
      " 25%|██▍       | 3515/14110 [11:39<32:17,  5.47it/s]"
     ]
    },
    {
     "name": "stdout",
     "output_type": "stream",
     "text": [
      "uploading...\n"
     ]
    },
    {
     "name": "stderr",
     "output_type": "stream",
     "text": [
      " 25%|██▌       | 3534/14110 [11:42<31:05,  5.67it/s]"
     ]
    },
    {
     "name": "stdout",
     "output_type": "stream",
     "text": [
      "uploading...\n"
     ]
    },
    {
     "name": "stderr",
     "output_type": "stream",
     "text": [
      " 25%|██▌       | 3550/14110 [11:46<34:39,  5.08it/s]"
     ]
    },
    {
     "name": "stdout",
     "output_type": "stream",
     "text": [
      "uploading...\n"
     ]
    },
    {
     "name": "stderr",
     "output_type": "stream",
     "text": [
      " 25%|██▌       | 3570/14110 [11:49<32:08,  5.46it/s]"
     ]
    },
    {
     "name": "stdout",
     "output_type": "stream",
     "text": [
      "uploading...\n"
     ]
    },
    {
     "name": "stderr",
     "output_type": "stream",
     "text": [
      " 25%|██▌       | 3591/14110 [11:53<30:05,  5.83it/s]"
     ]
    },
    {
     "name": "stdout",
     "output_type": "stream",
     "text": [
      "uploading...\n"
     ]
    },
    {
     "name": "stderr",
     "output_type": "stream",
     "text": [
      " 26%|██▌       | 3620/14110 [11:56<25:28,  6.86it/s]"
     ]
    },
    {
     "name": "stdout",
     "output_type": "stream",
     "text": [
      "uploading...\n"
     ]
    },
    {
     "name": "stderr",
     "output_type": "stream",
     "text": [
      " 26%|██▌       | 3644/14110 [11:59<24:33,  7.10it/s]"
     ]
    },
    {
     "name": "stdout",
     "output_type": "stream",
     "text": [
      "uploading...\n"
     ]
    },
    {
     "name": "stderr",
     "output_type": "stream",
     "text": [
      " 26%|██▌       | 3649/14110 [12:03<34:40,  5.03it/s]"
     ]
    },
    {
     "name": "stdout",
     "output_type": "stream",
     "text": [
      "uploading...\n"
     ]
    },
    {
     "name": "stderr",
     "output_type": "stream",
     "text": [
      " 26%|██▌       | 3670/14110 [12:07<34:19,  5.07it/s]"
     ]
    },
    {
     "name": "stdout",
     "output_type": "stream",
     "text": [
      "uploading...\n"
     ]
    },
    {
     "name": "stderr",
     "output_type": "stream",
     "text": [
      " 26%|██▌       | 3683/14110 [12:10<36:10,  4.80it/s]"
     ]
    },
    {
     "name": "stdout",
     "output_type": "stream",
     "text": [
      "uploading...\n"
     ]
    },
    {
     "name": "stderr",
     "output_type": "stream",
     "text": [
      " 26%|██▌       | 3698/14110 [12:13<36:17,  4.78it/s]"
     ]
    },
    {
     "name": "stdout",
     "output_type": "stream",
     "text": [
      "uploading...\n"
     ]
    },
    {
     "name": "stderr",
     "output_type": "stream",
     "text": [
      " 26%|██▋       | 3727/14110 [12:16<28:11,  6.14it/s]"
     ]
    },
    {
     "name": "stdout",
     "output_type": "stream",
     "text": [
      "uploading...\n"
     ]
    },
    {
     "name": "stderr",
     "output_type": "stream",
     "text": [
      " 27%|██▋       | 3755/14110 [12:20<25:08,  6.86it/s]"
     ]
    },
    {
     "name": "stdout",
     "output_type": "stream",
     "text": [
      "uploading...\n"
     ]
    },
    {
     "name": "stderr",
     "output_type": "stream",
     "text": [
      " 27%|██▋       | 3775/14110 [12:23<25:28,  6.76it/s]"
     ]
    },
    {
     "name": "stdout",
     "output_type": "stream",
     "text": [
      "uploading...\n"
     ]
    },
    {
     "name": "stderr",
     "output_type": "stream",
     "text": [
      " 27%|██▋       | 3797/14110 [12:26<24:59,  6.88it/s]"
     ]
    },
    {
     "name": "stdout",
     "output_type": "stream",
     "text": [
      "uploading...\n"
     ]
    },
    {
     "name": "stderr",
     "output_type": "stream",
     "text": [
      " 27%|██▋       | 3813/14110 [12:30<29:51,  5.75it/s]"
     ]
    },
    {
     "name": "stdout",
     "output_type": "stream",
     "text": [
      "uploading...\n"
     ]
    },
    {
     "name": "stderr",
     "output_type": "stream",
     "text": [
      " 27%|██▋       | 3835/14110 [12:33<28:04,  6.10it/s]"
     ]
    },
    {
     "name": "stdout",
     "output_type": "stream",
     "text": [
      "uploading...\n"
     ]
    },
    {
     "name": "stderr",
     "output_type": "stream",
     "text": [
      " 27%|██▋       | 3856/14110 [12:36<27:01,  6.32it/s]"
     ]
    },
    {
     "name": "stdout",
     "output_type": "stream",
     "text": [
      "uploading...\n"
     ]
    },
    {
     "name": "stderr",
     "output_type": "stream",
     "text": [
      " 27%|██▋       | 3879/14110 [12:39<25:41,  6.64it/s]"
     ]
    },
    {
     "name": "stdout",
     "output_type": "stream",
     "text": [
      "uploading...\n"
     ]
    },
    {
     "name": "stderr",
     "output_type": "stream",
     "text": [
      " 28%|██▊       | 3886/14110 [12:42<31:43,  5.37it/s]"
     ]
    },
    {
     "name": "stdout",
     "output_type": "stream",
     "text": [
      "uploading...\n"
     ]
    },
    {
     "name": "stderr",
     "output_type": "stream",
     "text": [
      " 28%|██▊       | 3896/14110 [12:45<35:46,  4.76it/s]"
     ]
    },
    {
     "name": "stdout",
     "output_type": "stream",
     "text": [
      "uploading...\n"
     ]
    },
    {
     "name": "stderr",
     "output_type": "stream",
     "text": [
      " 28%|██▊       | 3914/14110 [12:48<33:27,  5.08it/s]"
     ]
    },
    {
     "name": "stdout",
     "output_type": "stream",
     "text": [
      "uploading...\n"
     ]
    },
    {
     "name": "stderr",
     "output_type": "stream",
     "text": [
      " 28%|██▊       | 3937/14110 [12:51<29:16,  5.79it/s]"
     ]
    },
    {
     "name": "stdout",
     "output_type": "stream",
     "text": [
      "uploading...\n"
     ]
    },
    {
     "name": "stderr",
     "output_type": "stream",
     "text": [
      " 28%|██▊       | 3946/14110 [12:55<34:17,  4.94it/s]"
     ]
    },
    {
     "name": "stdout",
     "output_type": "stream",
     "text": [
      "uploading...\n"
     ]
    },
    {
     "name": "stderr",
     "output_type": "stream",
     "text": [
      " 28%|██▊       | 3966/14110 [12:58<31:33,  5.36it/s]"
     ]
    },
    {
     "name": "stdout",
     "output_type": "stream",
     "text": [
      "uploading...\n"
     ]
    },
    {
     "name": "stderr",
     "output_type": "stream",
     "text": [
      " 28%|██▊       | 3977/14110 [13:01<34:58,  4.83it/s]"
     ]
    },
    {
     "name": "stdout",
     "output_type": "stream",
     "text": [
      "uploading...\n"
     ]
    },
    {
     "name": "stderr",
     "output_type": "stream",
     "text": [
      " 28%|██▊       | 3982/14110 [13:05<47:24,  3.56it/s]"
     ]
    },
    {
     "name": "stdout",
     "output_type": "stream",
     "text": [
      "uploading...\n"
     ]
    },
    {
     "name": "stderr",
     "output_type": "stream",
     "text": [
      " 28%|██▊       | 4010/14110 [13:09<36:16,  4.64it/s]"
     ]
    },
    {
     "name": "stdout",
     "output_type": "stream",
     "text": [
      "uploading...\n"
     ]
    },
    {
     "name": "stderr",
     "output_type": "stream",
     "text": [
      " 28%|██▊       | 4019/14110 [13:12<40:11,  4.18it/s]"
     ]
    },
    {
     "name": "stdout",
     "output_type": "stream",
     "text": [
      "uploading...\n"
     ]
    },
    {
     "name": "stderr",
     "output_type": "stream",
     "text": [
      " 29%|██▊       | 4033/14110 [13:15<39:11,  4.28it/s]"
     ]
    },
    {
     "name": "stdout",
     "output_type": "stream",
     "text": [
      "uploading...\n"
     ]
    },
    {
     "name": "stderr",
     "output_type": "stream",
     "text": [
      " 29%|██▉       | 4066/14110 [13:18<27:39,  6.05it/s]"
     ]
    },
    {
     "name": "stdout",
     "output_type": "stream",
     "text": [
      "uploading...\n"
     ]
    },
    {
     "name": "stderr",
     "output_type": "stream",
     "text": [
      " 29%|██▉       | 4084/14110 [13:21<27:50,  6.00it/s]"
     ]
    },
    {
     "name": "stdout",
     "output_type": "stream",
     "text": [
      "uploading...\n"
     ]
    },
    {
     "name": "stderr",
     "output_type": "stream",
     "text": [
      " 29%|██▉       | 4086/14110 [13:31<59:50,  2.79it/s]"
     ]
    },
    {
     "name": "stdout",
     "output_type": "stream",
     "text": [
      "uploading...\n"
     ]
    },
    {
     "name": "stderr",
     "output_type": "stream",
     "text": [
      " 29%|██▉       | 4089/14110 [13:35<1:14:05,  2.25it/s]"
     ]
    },
    {
     "name": "stdout",
     "output_type": "stream",
     "text": [
      "uploading...\n"
     ]
    },
    {
     "name": "stderr",
     "output_type": "stream",
     "text": [
      " 29%|██▉       | 4105/14110 [13:38<57:22,  2.91it/s]  "
     ]
    },
    {
     "name": "stdout",
     "output_type": "stream",
     "text": [
      "uploading...\n"
     ]
    },
    {
     "name": "stderr",
     "output_type": "stream",
     "text": [
      " 29%|██▉       | 4118/14110 [13:41<52:51,  3.15it/s]"
     ]
    },
    {
     "name": "stdout",
     "output_type": "stream",
     "text": [
      "uploading...\n"
     ]
    },
    {
     "name": "stderr",
     "output_type": "stream",
     "text": [
      " 29%|██▉       | 4142/14110 [13:45<41:26,  4.01it/s]"
     ]
    },
    {
     "name": "stdout",
     "output_type": "stream",
     "text": [
      "uploading...\n"
     ]
    },
    {
     "name": "stderr",
     "output_type": "stream",
     "text": [
      " 29%|██▉       | 4160/14110 [13:48<37:25,  4.43it/s]"
     ]
    },
    {
     "name": "stdout",
     "output_type": "stream",
     "text": [
      "uploading...\n"
     ]
    },
    {
     "name": "stderr",
     "output_type": "stream",
     "text": [
      " 30%|██▉       | 4187/14110 [13:51<29:42,  5.57it/s]"
     ]
    },
    {
     "name": "stdout",
     "output_type": "stream",
     "text": [
      "uploading...\n"
     ]
    },
    {
     "name": "stderr",
     "output_type": "stream",
     "text": [
      " 30%|██▉       | 4212/14110 [13:55<26:20,  6.26it/s]"
     ]
    },
    {
     "name": "stdout",
     "output_type": "stream",
     "text": [
      "uploading...\n"
     ]
    },
    {
     "name": "stderr",
     "output_type": "stream",
     "text": [
      " 30%|██▉       | 4232/14110 [13:58<25:59,  6.33it/s]"
     ]
    },
    {
     "name": "stdout",
     "output_type": "stream",
     "text": [
      "uploading...\n"
     ]
    },
    {
     "name": "stderr",
     "output_type": "stream",
     "text": [
      " 30%|███       | 4251/14110 [14:01<26:22,  6.23it/s]"
     ]
    },
    {
     "name": "stdout",
     "output_type": "stream",
     "text": [
      "uploading...\n"
     ]
    },
    {
     "name": "stderr",
     "output_type": "stream",
     "text": [
      " 30%|███       | 4264/14110 [14:05<31:35,  5.19it/s]"
     ]
    },
    {
     "name": "stdout",
     "output_type": "stream",
     "text": [
      "uploading...\n"
     ]
    },
    {
     "name": "stderr",
     "output_type": "stream",
     "text": [
      " 30%|███       | 4286/14110 [14:09<31:21,  5.22it/s]"
     ]
    },
    {
     "name": "stdout",
     "output_type": "stream",
     "text": [
      "uploading...\n"
     ]
    },
    {
     "name": "stderr",
     "output_type": "stream",
     "text": [
      " 31%|███       | 4311/14110 [14:12<27:31,  5.93it/s]"
     ]
    },
    {
     "name": "stdout",
     "output_type": "stream",
     "text": [
      "uploading...\n"
     ]
    },
    {
     "name": "stderr",
     "output_type": "stream",
     "text": [
      " 31%|███       | 4329/14110 [14:15<27:48,  5.86it/s]"
     ]
    },
    {
     "name": "stdout",
     "output_type": "stream",
     "text": [
      "uploading...\n"
     ]
    },
    {
     "name": "stderr",
     "output_type": "stream",
     "text": [
      " 31%|███       | 4360/14110 [14:18<22:54,  7.09it/s]"
     ]
    },
    {
     "name": "stdout",
     "output_type": "stream",
     "text": [
      "uploading...\n"
     ]
    },
    {
     "name": "stderr",
     "output_type": "stream",
     "text": [
      " 31%|███       | 4378/14110 [14:21<24:15,  6.68it/s]"
     ]
    },
    {
     "name": "stdout",
     "output_type": "stream",
     "text": [
      "uploading...\n"
     ]
    },
    {
     "name": "stderr",
     "output_type": "stream",
     "text": [
      " 31%|███       | 4401/14110 [14:26<25:28,  6.35it/s]"
     ]
    },
    {
     "name": "stdout",
     "output_type": "stream",
     "text": [
      "uploading...\n"
     ]
    },
    {
     "name": "stderr",
     "output_type": "stream",
     "text": [
      " 31%|███▏      | 4412/14110 [14:29<28:52,  5.60it/s]"
     ]
    },
    {
     "name": "stdout",
     "output_type": "stream",
     "text": [
      "uploading...\n"
     ]
    },
    {
     "name": "stderr",
     "output_type": "stream",
     "text": [
      " 31%|███▏      | 4429/14110 [14:32<28:58,  5.57it/s]"
     ]
    },
    {
     "name": "stdout",
     "output_type": "stream",
     "text": [
      "uploading...\n"
     ]
    },
    {
     "name": "stderr",
     "output_type": "stream",
     "text": [
      " 32%|███▏      | 4445/14110 [14:35<29:38,  5.43it/s]"
     ]
    },
    {
     "name": "stdout",
     "output_type": "stream",
     "text": [
      "uploading...\n"
     ]
    },
    {
     "name": "stderr",
     "output_type": "stream",
     "text": [
      " 32%|███▏      | 4460/14110 [14:39<33:12,  4.84it/s]"
     ]
    },
    {
     "name": "stdout",
     "output_type": "stream",
     "text": [
      "uploading...\n"
     ]
    },
    {
     "name": "stderr",
     "output_type": "stream",
     "text": [
      " 32%|███▏      | 4470/14110 [14:44<43:44,  3.67it/s]"
     ]
    },
    {
     "name": "stdout",
     "output_type": "stream",
     "text": [
      "uploading...\n"
     ]
    },
    {
     "name": "stderr",
     "output_type": "stream",
     "text": [
      " 32%|███▏      | 4493/14110 [14:47<34:44,  4.61it/s]"
     ]
    },
    {
     "name": "stdout",
     "output_type": "stream",
     "text": [
      "uploading...\n"
     ]
    },
    {
     "name": "stderr",
     "output_type": "stream",
     "text": [
      " 32%|███▏      | 4517/14110 [14:50<29:20,  5.45it/s]"
     ]
    },
    {
     "name": "stdout",
     "output_type": "stream",
     "text": [
      "uploading...\n"
     ]
    },
    {
     "name": "stderr",
     "output_type": "stream",
     "text": [
      " 32%|███▏      | 4539/14110 [14:53<27:14,  5.85it/s]"
     ]
    },
    {
     "name": "stdout",
     "output_type": "stream",
     "text": [
      "uploading...\n"
     ]
    },
    {
     "name": "stderr",
     "output_type": "stream",
     "text": [
      " 32%|███▏      | 4559/14110 [14:57<26:35,  5.99it/s]"
     ]
    },
    {
     "name": "stdout",
     "output_type": "stream",
     "text": [
      "uploading...\n"
     ]
    },
    {
     "name": "stderr",
     "output_type": "stream",
     "text": [
      " 33%|███▎      | 4586/14110 [15:00<23:25,  6.78it/s]"
     ]
    },
    {
     "name": "stdout",
     "output_type": "stream",
     "text": [
      "uploading...\n"
     ]
    },
    {
     "name": "stderr",
     "output_type": "stream",
     "text": [
      " 33%|███▎      | 4605/14110 [15:03<23:58,  6.61it/s]"
     ]
    },
    {
     "name": "stdout",
     "output_type": "stream",
     "text": [
      "uploading...\n"
     ]
    },
    {
     "name": "stderr",
     "output_type": "stream",
     "text": [
      " 33%|███▎      | 4612/14110 [15:11<43:57,  3.60it/s]"
     ]
    },
    {
     "name": "stdout",
     "output_type": "stream",
     "text": [
      "uploading...\n"
     ]
    },
    {
     "name": "stderr",
     "output_type": "stream",
     "text": [
      " 33%|███▎      | 4637/14110 [15:15<36:52,  4.28it/s]"
     ]
    },
    {
     "name": "stdout",
     "output_type": "stream",
     "text": [
      "uploading...\n"
     ]
    },
    {
     "name": "stderr",
     "output_type": "stream",
     "text": [
      " 33%|███▎      | 4659/14110 [15:19<34:20,  4.59it/s]"
     ]
    },
    {
     "name": "stdout",
     "output_type": "stream",
     "text": [
      "uploading...\n"
     ]
    },
    {
     "name": "stderr",
     "output_type": "stream",
     "text": [
      " 33%|███▎      | 4681/14110 [15:22<30:34,  5.14it/s]"
     ]
    },
    {
     "name": "stdout",
     "output_type": "stream",
     "text": [
      "uploading...\n"
     ]
    },
    {
     "name": "stderr",
     "output_type": "stream",
     "text": [
      " 33%|███▎      | 4702/14110 [15:25<28:13,  5.56it/s]"
     ]
    },
    {
     "name": "stdout",
     "output_type": "stream",
     "text": [
      "uploading...\n"
     ]
    },
    {
     "name": "stderr",
     "output_type": "stream",
     "text": [
      " 34%|███▎      | 4727/14110 [15:28<25:06,  6.23it/s]"
     ]
    },
    {
     "name": "stdout",
     "output_type": "stream",
     "text": [
      "uploading...\n"
     ]
    },
    {
     "name": "stderr",
     "output_type": "stream",
     "text": [
      " 34%|███▎      | 4745/14110 [15:32<25:27,  6.13it/s]"
     ]
    },
    {
     "name": "stdout",
     "output_type": "stream",
     "text": [
      "uploading...\n"
     ]
    },
    {
     "name": "stderr",
     "output_type": "stream",
     "text": [
      " 34%|███▍      | 4765/14110 [15:35<25:27,  6.12it/s]"
     ]
    },
    {
     "name": "stdout",
     "output_type": "stream",
     "text": [
      "uploading...\n"
     ]
    },
    {
     "name": "stderr",
     "output_type": "stream",
     "text": [
      " 34%|███▍      | 4779/14110 [15:39<29:38,  5.25it/s]"
     ]
    },
    {
     "name": "stdout",
     "output_type": "stream",
     "text": [
      "uploading...\n"
     ]
    },
    {
     "name": "stderr",
     "output_type": "stream",
     "text": [
      " 34%|███▍      | 4805/14110 [15:43<27:36,  5.62it/s]"
     ]
    },
    {
     "name": "stdout",
     "output_type": "stream",
     "text": [
      "uploading...\n"
     ]
    },
    {
     "name": "stderr",
     "output_type": "stream",
     "text": [
      " 34%|███▍      | 4839/14110 [15:46<22:11,  6.96it/s]"
     ]
    },
    {
     "name": "stdout",
     "output_type": "stream",
     "text": [
      "uploading...\n"
     ]
    },
    {
     "name": "stderr",
     "output_type": "stream",
     "text": [
      " 34%|███▍      | 4855/14110 [15:50<26:07,  5.90it/s]"
     ]
    },
    {
     "name": "stdout",
     "output_type": "stream",
     "text": [
      "uploading...\n"
     ]
    },
    {
     "name": "stderr",
     "output_type": "stream",
     "text": [
      " 35%|███▍      | 4872/14110 [15:53<26:15,  5.86it/s]"
     ]
    },
    {
     "name": "stdout",
     "output_type": "stream",
     "text": [
      "uploading...\n"
     ]
    },
    {
     "name": "stderr",
     "output_type": "stream",
     "text": [
      " 35%|███▍      | 4885/14110 [16:00<38:54,  3.95it/s]"
     ]
    },
    {
     "name": "stdout",
     "output_type": "stream",
     "text": [
      "uploading...\n"
     ]
    },
    {
     "name": "stderr",
     "output_type": "stream",
     "text": [
      " 35%|███▍      | 4917/14110 [16:04<28:29,  5.38it/s]"
     ]
    },
    {
     "name": "stdout",
     "output_type": "stream",
     "text": [
      "uploading...\n"
     ]
    },
    {
     "name": "stderr",
     "output_type": "stream",
     "text": [
      " 35%|███▍      | 4934/14110 [16:08<30:41,  4.98it/s]"
     ]
    },
    {
     "name": "stdout",
     "output_type": "stream",
     "text": [
      "uploading...\n"
     ]
    },
    {
     "name": "stderr",
     "output_type": "stream",
     "text": [
      " 35%|███▌      | 4953/14110 [16:12<31:46,  4.80it/s]"
     ]
    },
    {
     "name": "stdout",
     "output_type": "stream",
     "text": [
      "uploading...\n"
     ]
    },
    {
     "name": "stderr",
     "output_type": "stream",
     "text": [
      " 35%|███▌      | 4956/14110 [16:16<41:40,  3.66it/s]"
     ]
    },
    {
     "name": "stdout",
     "output_type": "stream",
     "text": [
      "uploading...\n"
     ]
    },
    {
     "name": "stderr",
     "output_type": "stream",
     "text": [
      " 35%|███▌      | 4976/14110 [16:19<35:16,  4.32it/s]"
     ]
    },
    {
     "name": "stdout",
     "output_type": "stream",
     "text": [
      "uploading...\n"
     ]
    },
    {
     "name": "stderr",
     "output_type": "stream",
     "text": [
      " 35%|███▌      | 5003/14110 [16:22<27:48,  5.46it/s]"
     ]
    },
    {
     "name": "stdout",
     "output_type": "stream",
     "text": [
      "uploading...\n"
     ]
    },
    {
     "name": "stderr",
     "output_type": "stream",
     "text": [
      " 36%|███▌      | 5038/14110 [16:25<21:27,  7.05it/s]"
     ]
    },
    {
     "name": "stdout",
     "output_type": "stream",
     "text": [
      "uploading...\n"
     ]
    },
    {
     "name": "stderr",
     "output_type": "stream",
     "text": [
      " 36%|███▌      | 5051/14110 [16:30<26:45,  5.64it/s]"
     ]
    },
    {
     "name": "stdout",
     "output_type": "stream",
     "text": [
      "uploading...\n"
     ]
    },
    {
     "name": "stderr",
     "output_type": "stream",
     "text": [
      " 36%|███▌      | 5079/14110 [16:33<22:49,  6.59it/s]"
     ]
    },
    {
     "name": "stdout",
     "output_type": "stream",
     "text": [
      "uploading...\n"
     ]
    },
    {
     "name": "stderr",
     "output_type": "stream",
     "text": [
      " 36%|███▌      | 5097/14110 [16:36<23:38,  6.35it/s]"
     ]
    },
    {
     "name": "stdout",
     "output_type": "stream",
     "text": [
      "uploading...\n"
     ]
    },
    {
     "name": "stderr",
     "output_type": "stream",
     "text": [
      " 36%|███▋      | 5122/14110 [16:40<24:17,  6.17it/s]"
     ]
    },
    {
     "name": "stdout",
     "output_type": "stream",
     "text": [
      "uploading...\n"
     ]
    },
    {
     "name": "stderr",
     "output_type": "stream",
     "text": [
      " 36%|███▋      | 5141/14110 [16:43<24:03,  6.21it/s]"
     ]
    },
    {
     "name": "stdout",
     "output_type": "stream",
     "text": [
      "uploading...\n"
     ]
    },
    {
     "name": "stderr",
     "output_type": "stream",
     "text": [
      " 37%|███▋      | 5152/14110 [16:47<30:10,  4.95it/s]"
     ]
    },
    {
     "name": "stdout",
     "output_type": "stream",
     "text": [
      "uploading...\n"
     ]
    },
    {
     "name": "stderr",
     "output_type": "stream",
     "text": [
      " 37%|███▋      | 5184/14110 [16:52<25:33,  5.82it/s]"
     ]
    },
    {
     "name": "stdout",
     "output_type": "stream",
     "text": [
      "uploading...\n"
     ]
    },
    {
     "name": "stderr",
     "output_type": "stream",
     "text": [
      " 37%|███▋      | 5193/14110 [16:55<29:12,  5.09it/s]"
     ]
    },
    {
     "name": "stdout",
     "output_type": "stream",
     "text": [
      "uploading...\n"
     ]
    },
    {
     "name": "stderr",
     "output_type": "stream",
     "text": [
      " 37%|███▋      | 5214/14110 [16:58<26:41,  5.55it/s]"
     ]
    },
    {
     "name": "stdout",
     "output_type": "stream",
     "text": [
      "uploading...\n"
     ]
    },
    {
     "name": "stderr",
     "output_type": "stream",
     "text": [
      " 37%|███▋      | 5227/14110 [17:02<31:40,  4.67it/s]"
     ]
    },
    {
     "name": "stdout",
     "output_type": "stream",
     "text": [
      "uploading...\n"
     ]
    },
    {
     "name": "stderr",
     "output_type": "stream",
     "text": [
      " 37%|███▋      | 5244/14110 [17:06<32:30,  4.54it/s]"
     ]
    },
    {
     "name": "stdout",
     "output_type": "stream",
     "text": [
      "uploading...\n"
     ]
    },
    {
     "name": "stderr",
     "output_type": "stream",
     "text": [
      " 37%|███▋      | 5264/14110 [17:10<31:42,  4.65it/s]"
     ]
    },
    {
     "name": "stdout",
     "output_type": "stream",
     "text": [
      "uploading...\n"
     ]
    },
    {
     "name": "stderr",
     "output_type": "stream",
     "text": [
      " 37%|███▋      | 5287/14110 [17:13<27:52,  5.27it/s]"
     ]
    },
    {
     "name": "stdout",
     "output_type": "stream",
     "text": [
      "uploading...\n"
     ]
    },
    {
     "name": "stderr",
     "output_type": "stream",
     "text": [
      " 38%|███▊      | 5301/14110 [17:16<29:06,  5.04it/s]"
     ]
    },
    {
     "name": "stdout",
     "output_type": "stream",
     "text": [
      "uploading...\n"
     ]
    },
    {
     "name": "stderr",
     "output_type": "stream",
     "text": [
      " 38%|███▊      | 5313/14110 [17:21<36:12,  4.05it/s]"
     ]
    },
    {
     "name": "stdout",
     "output_type": "stream",
     "text": [
      "uploading...\n"
     ]
    },
    {
     "name": "stderr",
     "output_type": "stream",
     "text": [
      " 38%|███▊      | 5345/14110 [17:28<32:51,  4.45it/s]"
     ]
    },
    {
     "name": "stdout",
     "output_type": "stream",
     "text": [
      "uploading...\n"
     ]
    },
    {
     "name": "stderr",
     "output_type": "stream",
     "text": [
      " 38%|███▊      | 5361/14110 [17:32<33:54,  4.30it/s]"
     ]
    },
    {
     "name": "stdout",
     "output_type": "stream",
     "text": [
      "uploading...\n"
     ]
    },
    {
     "name": "stderr",
     "output_type": "stream",
     "text": [
      " 38%|███▊      | 5379/14110 [17:35<31:13,  4.66it/s]"
     ]
    },
    {
     "name": "stdout",
     "output_type": "stream",
     "text": [
      "uploading...\n"
     ]
    },
    {
     "name": "stderr",
     "output_type": "stream",
     "text": [
      " 38%|███▊      | 5414/14110 [17:38<23:03,  6.29it/s]"
     ]
    },
    {
     "name": "stdout",
     "output_type": "stream",
     "text": [
      "uploading...\n"
     ]
    },
    {
     "name": "stderr",
     "output_type": "stream",
     "text": [
      " 38%|███▊      | 5430/14110 [17:41<24:16,  5.96it/s]"
     ]
    },
    {
     "name": "stdout",
     "output_type": "stream",
     "text": [
      "uploading...\n"
     ]
    },
    {
     "name": "stderr",
     "output_type": "stream",
     "text": [
      " 39%|███▊      | 5459/14110 [17:44<20:46,  6.94it/s]"
     ]
    },
    {
     "name": "stdout",
     "output_type": "stream",
     "text": [
      "uploading...\n"
     ]
    },
    {
     "name": "stderr",
     "output_type": "stream",
     "text": [
      " 39%|███▉      | 5492/14110 [17:48<19:37,  7.32it/s]"
     ]
    },
    {
     "name": "stdout",
     "output_type": "stream",
     "text": [
      "uploading...\n"
     ]
    },
    {
     "name": "stderr",
     "output_type": "stream",
     "text": [
      " 39%|███▉      | 5504/14110 [17:52<22:31,  6.37it/s]"
     ]
    },
    {
     "name": "stdout",
     "output_type": "stream",
     "text": [
      "uploading...\n"
     ]
    },
    {
     "name": "stderr",
     "output_type": "stream",
     "text": [
      " 39%|███▉      | 5514/14110 [17:55<25:59,  5.51it/s]"
     ]
    },
    {
     "name": "stdout",
     "output_type": "stream",
     "text": [
      "uploading...\n"
     ]
    },
    {
     "name": "stderr",
     "output_type": "stream",
     "text": [
      " 39%|███▉      | 5535/14110 [17:58<24:17,  5.89it/s]"
     ]
    },
    {
     "name": "stdout",
     "output_type": "stream",
     "text": [
      "uploading...\n"
     ]
    },
    {
     "name": "stderr",
     "output_type": "stream",
     "text": [
      " 39%|███▉      | 5564/14110 [18:02<22:28,  6.34it/s]"
     ]
    },
    {
     "name": "stdout",
     "output_type": "stream",
     "text": [
      "uploading...\n"
     ]
    },
    {
     "name": "stderr",
     "output_type": "stream",
     "text": [
      " 40%|███▉      | 5583/14110 [18:05<22:54,  6.20it/s]"
     ]
    },
    {
     "name": "stdout",
     "output_type": "stream",
     "text": [
      "uploading...\n"
     ]
    },
    {
     "name": "stderr",
     "output_type": "stream",
     "text": [
      " 40%|███▉      | 5595/14110 [18:09<27:42,  5.12it/s]"
     ]
    },
    {
     "name": "stdout",
     "output_type": "stream",
     "text": [
      "uploading...\n"
     ]
    },
    {
     "name": "stderr",
     "output_type": "stream",
     "text": [
      " 40%|███▉      | 5621/14110 [18:12<23:39,  5.98it/s]"
     ]
    },
    {
     "name": "stdout",
     "output_type": "stream",
     "text": [
      "uploading...\n"
     ]
    },
    {
     "name": "stderr",
     "output_type": "stream",
     "text": [
      " 40%|███▉      | 5639/14110 [18:15<24:10,  5.84it/s]"
     ]
    },
    {
     "name": "stdout",
     "output_type": "stream",
     "text": [
      "uploading...\n"
     ]
    },
    {
     "name": "stderr",
     "output_type": "stream",
     "text": [
      " 40%|████      | 5656/14110 [18:18<24:22,  5.78it/s]"
     ]
    },
    {
     "name": "stdout",
     "output_type": "stream",
     "text": [
      "uploading...\n"
     ]
    },
    {
     "name": "stderr",
     "output_type": "stream",
     "text": [
      " 40%|████      | 5670/14110 [18:22<26:02,  5.40it/s]"
     ]
    },
    {
     "name": "stdout",
     "output_type": "stream",
     "text": [
      "uploading...\n"
     ]
    },
    {
     "name": "stderr",
     "output_type": "stream",
     "text": [
      " 40%|████      | 5678/14110 [18:25<30:34,  4.60it/s]"
     ]
    },
    {
     "name": "stdout",
     "output_type": "stream",
     "text": [
      "uploading...\n"
     ]
    },
    {
     "name": "stderr",
     "output_type": "stream",
     "text": [
      " 40%|████      | 5695/14110 [18:29<31:27,  4.46it/s]"
     ]
    },
    {
     "name": "stdout",
     "output_type": "stream",
     "text": [
      "uploading...\n"
     ]
    },
    {
     "name": "stderr",
     "output_type": "stream",
     "text": [
      " 40%|████      | 5706/14110 [18:32<33:13,  4.22it/s]"
     ]
    },
    {
     "name": "stdout",
     "output_type": "stream",
     "text": [
      "uploading...\n"
     ]
    },
    {
     "name": "stderr",
     "output_type": "stream",
     "text": [
      " 41%|████      | 5728/14110 [18:35<27:48,  5.02it/s]"
     ]
    },
    {
     "name": "stdout",
     "output_type": "stream",
     "text": [
      "uploading...\n"
     ]
    },
    {
     "name": "stderr",
     "output_type": "stream",
     "text": [
      " 41%|████      | 5743/14110 [18:38<28:13,  4.94it/s]"
     ]
    },
    {
     "name": "stdout",
     "output_type": "stream",
     "text": [
      "uploading...\n"
     ]
    },
    {
     "name": "stderr",
     "output_type": "stream",
     "text": [
      " 41%|████      | 5765/14110 [18:41<24:55,  5.58it/s]"
     ]
    },
    {
     "name": "stdout",
     "output_type": "stream",
     "text": [
      "uploading...\n"
     ]
    },
    {
     "name": "stderr",
     "output_type": "stream",
     "text": [
      " 41%|████      | 5788/14110 [18:44<22:48,  6.08it/s]"
     ]
    },
    {
     "name": "stdout",
     "output_type": "stream",
     "text": [
      "uploading...\n"
     ]
    },
    {
     "name": "stderr",
     "output_type": "stream",
     "text": [
      " 41%|████      | 5814/14110 [18:48<22:11,  6.23it/s]"
     ]
    },
    {
     "name": "stdout",
     "output_type": "stream",
     "text": [
      "uploading...\n"
     ]
    },
    {
     "name": "stderr",
     "output_type": "stream",
     "text": [
      " 41%|████▏     | 5828/14110 [18:51<24:09,  5.71it/s]"
     ]
    },
    {
     "name": "stdout",
     "output_type": "stream",
     "text": [
      "uploading...\n"
     ]
    },
    {
     "name": "stderr",
     "output_type": "stream",
     "text": [
      " 41%|████▏     | 5839/14110 [18:55<27:29,  5.01it/s]"
     ]
    },
    {
     "name": "stdout",
     "output_type": "stream",
     "text": [
      "uploading...\n"
     ]
    },
    {
     "name": "stderr",
     "output_type": "stream",
     "text": [
      " 41%|████▏     | 5851/14110 [18:58<29:12,  4.71it/s]"
     ]
    },
    {
     "name": "stdout",
     "output_type": "stream",
     "text": [
      "uploading...\n"
     ]
    },
    {
     "name": "stderr",
     "output_type": "stream",
     "text": [
      " 42%|████▏     | 5877/14110 [19:01<23:44,  5.78it/s]"
     ]
    },
    {
     "name": "stdout",
     "output_type": "stream",
     "text": [
      "uploading...\n"
     ]
    },
    {
     "name": "stderr",
     "output_type": "stream",
     "text": [
      " 42%|████▏     | 5903/14110 [19:05<23:03,  5.93it/s]"
     ]
    },
    {
     "name": "stdout",
     "output_type": "stream",
     "text": [
      "uploading...\n"
     ]
    },
    {
     "name": "stderr",
     "output_type": "stream",
     "text": [
      " 42%|████▏     | 5914/14110 [19:09<27:57,  4.89it/s]"
     ]
    },
    {
     "name": "stdout",
     "output_type": "stream",
     "text": [
      "uploading...\n"
     ]
    },
    {
     "name": "stderr",
     "output_type": "stream",
     "text": [
      " 42%|████▏     | 5942/14110 [19:12<22:40,  6.01it/s]"
     ]
    },
    {
     "name": "stdout",
     "output_type": "stream",
     "text": [
      "uploading...\n"
     ]
    },
    {
     "name": "stderr",
     "output_type": "stream",
     "text": [
      " 42%|████▏     | 5968/14110 [19:15<20:40,  6.56it/s]"
     ]
    },
    {
     "name": "stdout",
     "output_type": "stream",
     "text": [
      "uploading...\n"
     ]
    },
    {
     "name": "stderr",
     "output_type": "stream",
     "text": [
      " 42%|████▏     | 5987/14110 [19:21<24:51,  5.45it/s]"
     ]
    },
    {
     "name": "stdout",
     "output_type": "stream",
     "text": [
      "uploading...\n"
     ]
    },
    {
     "name": "stderr",
     "output_type": "stream",
     "text": [
      " 42%|████▏     | 5995/14110 [19:24<28:34,  4.73it/s]"
     ]
    },
    {
     "name": "stdout",
     "output_type": "stream",
     "text": [
      "uploading...\n"
     ]
    },
    {
     "name": "stderr",
     "output_type": "stream",
     "text": [
      " 43%|████▎     | 6004/14110 [19:28<34:53,  3.87it/s]"
     ]
    },
    {
     "name": "stdout",
     "output_type": "stream",
     "text": [
      "uploading...\n"
     ]
    },
    {
     "name": "stderr",
     "output_type": "stream",
     "text": [
      " 43%|████▎     | 6023/14110 [19:31<30:22,  4.44it/s]"
     ]
    },
    {
     "name": "stdout",
     "output_type": "stream",
     "text": [
      "uploading...\n"
     ]
    },
    {
     "name": "stderr",
     "output_type": "stream",
     "text": [
      " 43%|████▎     | 6038/14110 [19:35<31:55,  4.21it/s]"
     ]
    },
    {
     "name": "stdout",
     "output_type": "stream",
     "text": [
      "uploading...\n"
     ]
    },
    {
     "name": "stderr",
     "output_type": "stream",
     "text": [
      " 43%|████▎     | 6065/14110 [19:38<24:59,  5.37it/s]"
     ]
    },
    {
     "name": "stdout",
     "output_type": "stream",
     "text": [
      "uploading...\n"
     ]
    },
    {
     "name": "stderr",
     "output_type": "stream",
     "text": [
      " 43%|████▎     | 6086/14110 [19:41<23:08,  5.78it/s]"
     ]
    },
    {
     "name": "stdout",
     "output_type": "stream",
     "text": [
      "uploading...\n"
     ]
    },
    {
     "name": "stderr",
     "output_type": "stream",
     "text": [
      " 43%|████▎     | 6100/14110 [19:44<24:36,  5.42it/s]"
     ]
    },
    {
     "name": "stdout",
     "output_type": "stream",
     "text": [
      "uploading...\n"
     ]
    },
    {
     "name": "stderr",
     "output_type": "stream",
     "text": [
      " 43%|████▎     | 6115/14110 [19:47<25:32,  5.22it/s]"
     ]
    },
    {
     "name": "stdout",
     "output_type": "stream",
     "text": [
      "uploading...\n"
     ]
    },
    {
     "name": "stderr",
     "output_type": "stream",
     "text": [
      " 43%|████▎     | 6134/14110 [19:51<24:11,  5.49it/s]"
     ]
    },
    {
     "name": "stdout",
     "output_type": "stream",
     "text": [
      "uploading...\n"
     ]
    },
    {
     "name": "stderr",
     "output_type": "stream",
     "text": [
      " 44%|████▎     | 6167/14110 [19:54<18:52,  7.02it/s]"
     ]
    },
    {
     "name": "stdout",
     "output_type": "stream",
     "text": [
      "uploading...\n"
     ]
    },
    {
     "name": "stderr",
     "output_type": "stream",
     "text": [
      " 44%|████▍     | 6185/14110 [19:57<19:47,  6.68it/s]"
     ]
    },
    {
     "name": "stdout",
     "output_type": "stream",
     "text": [
      "uploading...\n"
     ]
    },
    {
     "name": "stderr",
     "output_type": "stream",
     "text": [
      " 44%|████▍     | 6200/14110 [20:03<27:45,  4.75it/s]"
     ]
    },
    {
     "name": "stdout",
     "output_type": "stream",
     "text": [
      "uploading...\n"
     ]
    },
    {
     "name": "stderr",
     "output_type": "stream",
     "text": [
      " 44%|████▍     | 6212/14110 [20:07<31:31,  4.18it/s]"
     ]
    },
    {
     "name": "stdout",
     "output_type": "stream",
     "text": [
      "uploading...\n"
     ]
    },
    {
     "name": "stderr",
     "output_type": "stream",
     "text": [
      " 44%|████▍     | 6239/14110 [20:10<24:43,  5.31it/s]"
     ]
    },
    {
     "name": "stdout",
     "output_type": "stream",
     "text": [
      "uploading...\n"
     ]
    },
    {
     "name": "stderr",
     "output_type": "stream",
     "text": [
      " 44%|████▍     | 6258/14110 [20:13<23:43,  5.52it/s]"
     ]
    },
    {
     "name": "stdout",
     "output_type": "stream",
     "text": [
      "uploading...\n"
     ]
    },
    {
     "name": "stderr",
     "output_type": "stream",
     "text": [
      " 44%|████▍     | 6272/14110 [20:21<36:13,  3.61it/s]"
     ]
    },
    {
     "name": "stdout",
     "output_type": "stream",
     "text": [
      "uploading...\n"
     ]
    },
    {
     "name": "stderr",
     "output_type": "stream",
     "text": [
      " 45%|████▍     | 6288/14110 [20:26<35:23,  3.68it/s]"
     ]
    },
    {
     "name": "stdout",
     "output_type": "stream",
     "text": [
      "uploading...\n"
     ]
    },
    {
     "name": "stderr",
     "output_type": "stream",
     "text": [
      " 45%|████▍     | 6297/14110 [20:30<41:21,  3.15it/s]"
     ]
    },
    {
     "name": "stdout",
     "output_type": "stream",
     "text": [
      "uploading...\n"
     ]
    },
    {
     "name": "stderr",
     "output_type": "stream",
     "text": [
      " 45%|████▍     | 6324/14110 [20:34<31:58,  4.06it/s]"
     ]
    },
    {
     "name": "stdout",
     "output_type": "stream",
     "text": [
      "uploading...\n"
     ]
    },
    {
     "name": "stderr",
     "output_type": "stream",
     "text": [
      " 45%|████▍     | 6341/14110 [20:38<31:29,  4.11it/s]"
     ]
    },
    {
     "name": "stdout",
     "output_type": "stream",
     "text": [
      "uploading...\n"
     ]
    },
    {
     "name": "stderr",
     "output_type": "stream",
     "text": [
      " 45%|████▌     | 6359/14110 [20:42<28:48,  4.48it/s]"
     ]
    },
    {
     "name": "stdout",
     "output_type": "stream",
     "text": [
      "uploading...\n"
     ]
    },
    {
     "name": "stderr",
     "output_type": "stream",
     "text": [
      " 45%|████▌     | 6385/14110 [20:45<23:34,  5.46it/s]"
     ]
    },
    {
     "name": "stdout",
     "output_type": "stream",
     "text": [
      "uploading...\n"
     ]
    },
    {
     "name": "stderr",
     "output_type": "stream",
     "text": [
      " 45%|████▌     | 6399/14110 [20:49<26:29,  4.85it/s]"
     ]
    },
    {
     "name": "stdout",
     "output_type": "stream",
     "text": [
      "uploading...\n"
     ]
    },
    {
     "name": "stderr",
     "output_type": "stream",
     "text": [
      " 45%|████▌     | 6414/14110 [20:52<26:21,  4.86it/s]"
     ]
    },
    {
     "name": "stdout",
     "output_type": "stream",
     "text": [
      "uploading...\n"
     ]
    },
    {
     "name": "stderr",
     "output_type": "stream",
     "text": [
      " 46%|████▌     | 6423/14110 [20:56<32:10,  3.98it/s]"
     ]
    },
    {
     "name": "stdout",
     "output_type": "stream",
     "text": [
      "uploading...\n"
     ]
    },
    {
     "name": "stderr",
     "output_type": "stream",
     "text": [
      " 46%|████▌     | 6439/14110 [21:00<32:19,  3.96it/s]"
     ]
    },
    {
     "name": "stdout",
     "output_type": "stream",
     "text": [
      "uploading...\n"
     ]
    },
    {
     "name": "stderr",
     "output_type": "stream",
     "text": [
      " 46%|████▌     | 6454/14110 [21:04<33:00,  3.87it/s]"
     ]
    },
    {
     "name": "stdout",
     "output_type": "stream",
     "text": [
      "uploading...\n"
     ]
    },
    {
     "name": "stderr",
     "output_type": "stream",
     "text": [
      " 46%|████▌     | 6461/14110 [21:07<36:27,  3.50it/s]"
     ]
    },
    {
     "name": "stdout",
     "output_type": "stream",
     "text": [
      "uploading...\n"
     ]
    },
    {
     "name": "stderr",
     "output_type": "stream",
     "text": [
      " 46%|████▌     | 6478/14110 [21:12<37:22,  3.40it/s]"
     ]
    },
    {
     "name": "stdout",
     "output_type": "stream",
     "text": [
      "uploading...\n"
     ]
    },
    {
     "name": "stderr",
     "output_type": "stream",
     "text": [
      " 46%|████▌     | 6488/14110 [21:15<37:21,  3.40it/s]"
     ]
    },
    {
     "name": "stdout",
     "output_type": "stream",
     "text": [
      "uploading...\n"
     ]
    },
    {
     "name": "stderr",
     "output_type": "stream",
     "text": [
      " 46%|████▌     | 6502/14110 [21:18<34:18,  3.70it/s]"
     ]
    },
    {
     "name": "stdout",
     "output_type": "stream",
     "text": [
      "uploading...\n"
     ]
    },
    {
     "name": "stderr",
     "output_type": "stream",
     "text": [
      " 46%|████▌     | 6510/14110 [21:21<37:34,  3.37it/s]"
     ]
    },
    {
     "name": "stdout",
     "output_type": "stream",
     "text": [
      "uploading...\n"
     ]
    },
    {
     "name": "stderr",
     "output_type": "stream",
     "text": [
      " 46%|████▋     | 6534/14110 [21:25<29:53,  4.22it/s]"
     ]
    },
    {
     "name": "stdout",
     "output_type": "stream",
     "text": [
      "uploading...\n"
     ]
    },
    {
     "name": "stderr",
     "output_type": "stream",
     "text": [
      " 46%|████▋     | 6555/14110 [21:29<25:33,  4.93it/s]"
     ]
    },
    {
     "name": "stdout",
     "output_type": "stream",
     "text": [
      "uploading...\n"
     ]
    },
    {
     "name": "stderr",
     "output_type": "stream",
     "text": [
      " 47%|████▋     | 6570/14110 [21:32<26:10,  4.80it/s]"
     ]
    },
    {
     "name": "stdout",
     "output_type": "stream",
     "text": [
      "uploading...\n"
     ]
    },
    {
     "name": "stderr",
     "output_type": "stream",
     "text": [
      " 47%|████▋     | 6583/14110 [21:36<29:16,  4.29it/s]"
     ]
    },
    {
     "name": "stdout",
     "output_type": "stream",
     "text": [
      "uploading...\n"
     ]
    },
    {
     "name": "stderr",
     "output_type": "stream",
     "text": [
      " 47%|████▋     | 6595/14110 [21:39<29:55,  4.19it/s]"
     ]
    },
    {
     "name": "stdout",
     "output_type": "stream",
     "text": [
      "uploading...\n"
     ]
    },
    {
     "name": "stderr",
     "output_type": "stream",
     "text": [
      " 47%|████▋     | 6623/14110 [21:43<24:58,  5.00it/s]"
     ]
    },
    {
     "name": "stdout",
     "output_type": "stream",
     "text": [
      "uploading...\n"
     ]
    },
    {
     "name": "stderr",
     "output_type": "stream",
     "text": [
      " 47%|████▋     | 6647/14110 [21:46<21:34,  5.76it/s]"
     ]
    },
    {
     "name": "stdout",
     "output_type": "stream",
     "text": [
      "uploading...\n"
     ]
    },
    {
     "name": "stderr",
     "output_type": "stream",
     "text": [
      " 47%|████▋     | 6671/14110 [21:50<21:18,  5.82it/s]"
     ]
    },
    {
     "name": "stdout",
     "output_type": "stream",
     "text": [
      "uploading...\n"
     ]
    },
    {
     "name": "stderr",
     "output_type": "stream",
     "text": [
      " 47%|████▋     | 6693/14110 [21:53<20:01,  6.18it/s]"
     ]
    },
    {
     "name": "stdout",
     "output_type": "stream",
     "text": [
      "uploading...\n"
     ]
    },
    {
     "name": "stderr",
     "output_type": "stream",
     "text": [
      " 48%|████▊     | 6711/14110 [21:56<20:16,  6.08it/s]"
     ]
    },
    {
     "name": "stdout",
     "output_type": "stream",
     "text": [
      "uploading...\n"
     ]
    },
    {
     "name": "stderr",
     "output_type": "stream",
     "text": [
      " 48%|████▊     | 6744/14110 [22:00<16:35,  7.40it/s]"
     ]
    },
    {
     "name": "stdout",
     "output_type": "stream",
     "text": [
      "uploading...\n"
     ]
    },
    {
     "name": "stderr",
     "output_type": "stream",
     "text": [
      " 48%|████▊     | 6768/14110 [22:03<16:16,  7.52it/s]"
     ]
    },
    {
     "name": "stdout",
     "output_type": "stream",
     "text": [
      "uploading...\n"
     ]
    },
    {
     "name": "stderr",
     "output_type": "stream",
     "text": [
      " 48%|████▊     | 6788/14110 [22:06<17:03,  7.15it/s]"
     ]
    },
    {
     "name": "stdout",
     "output_type": "stream",
     "text": [
      "uploading...\n"
     ]
    },
    {
     "name": "stderr",
     "output_type": "stream",
     "text": [
      " 48%|████▊     | 6799/14110 [22:13<27:28,  4.43it/s]"
     ]
    },
    {
     "name": "stdout",
     "output_type": "stream",
     "text": [
      "uploading...\n"
     ]
    },
    {
     "name": "stderr",
     "output_type": "stream",
     "text": [
      " 48%|████▊     | 6817/14110 [22:17<27:52,  4.36it/s]"
     ]
    },
    {
     "name": "stdout",
     "output_type": "stream",
     "text": [
      "uploading...\n"
     ]
    },
    {
     "name": "stderr",
     "output_type": "stream",
     "text": [
      " 48%|████▊     | 6841/14110 [22:20<23:28,  5.16it/s]"
     ]
    },
    {
     "name": "stdout",
     "output_type": "stream",
     "text": [
      "uploading...\n"
     ]
    },
    {
     "name": "stderr",
     "output_type": "stream",
     "text": [
      " 49%|████▊     | 6865/14110 [22:23<20:43,  5.82it/s]"
     ]
    },
    {
     "name": "stdout",
     "output_type": "stream",
     "text": [
      "uploading...\n"
     ]
    },
    {
     "name": "stderr",
     "output_type": "stream",
     "text": [
      " 49%|████▉     | 6887/14110 [22:27<21:06,  5.70it/s]"
     ]
    },
    {
     "name": "stdout",
     "output_type": "stream",
     "text": [
      "uploading...\n"
     ]
    },
    {
     "name": "stderr",
     "output_type": "stream",
     "text": [
      " 49%|████▉     | 6893/14110 [22:30<25:31,  4.71it/s]"
     ]
    },
    {
     "name": "stdout",
     "output_type": "stream",
     "text": [
      "uploading...\n"
     ]
    },
    {
     "name": "stderr",
     "output_type": "stream",
     "text": [
      " 49%|████▉     | 6917/14110 [22:34<21:37,  5.54it/s]"
     ]
    },
    {
     "name": "stdout",
     "output_type": "stream",
     "text": [
      "uploading...\n"
     ]
    },
    {
     "name": "stderr",
     "output_type": "stream",
     "text": [
      " 49%|████▉     | 6947/14110 [22:37<17:46,  6.71it/s]"
     ]
    },
    {
     "name": "stdout",
     "output_type": "stream",
     "text": [
      "uploading...\n"
     ]
    },
    {
     "name": "stderr",
     "output_type": "stream",
     "text": [
      " 49%|████▉     | 6966/14110 [22:41<19:44,  6.03it/s]"
     ]
    },
    {
     "name": "stdout",
     "output_type": "stream",
     "text": [
      "uploading...\n"
     ]
    },
    {
     "name": "stderr",
     "output_type": "stream",
     "text": [
      " 49%|████▉     | 6980/14110 [22:44<21:13,  5.60it/s]"
     ]
    },
    {
     "name": "stdout",
     "output_type": "stream",
     "text": [
      "uploading...\n"
     ]
    },
    {
     "name": "stderr",
     "output_type": "stream",
     "text": [
      " 50%|████▉     | 6985/14110 [22:48<28:37,  4.15it/s]"
     ]
    },
    {
     "name": "stdout",
     "output_type": "stream",
     "text": [
      "uploading...\n"
     ]
    },
    {
     "name": "stderr",
     "output_type": "stream",
     "text": [
      " 50%|████▉     | 7018/14110 [22:52<21:44,  5.44it/s]"
     ]
    },
    {
     "name": "stdout",
     "output_type": "stream",
     "text": [
      "uploading...\n"
     ]
    },
    {
     "name": "stderr",
     "output_type": "stream",
     "text": [
      " 50%|████▉     | 7034/14110 [22:55<21:54,  5.38it/s]"
     ]
    },
    {
     "name": "stdout",
     "output_type": "stream",
     "text": [
      "uploading...\n"
     ]
    },
    {
     "name": "stderr",
     "output_type": "stream",
     "text": [
      " 50%|████▉     | 7054/14110 [22:58<20:53,  5.63it/s]"
     ]
    },
    {
     "name": "stdout",
     "output_type": "stream",
     "text": [
      "uploading...\n"
     ]
    },
    {
     "name": "stderr",
     "output_type": "stream",
     "text": [
      " 50%|█████     | 7081/14110 [23:01<18:01,  6.50it/s]"
     ]
    },
    {
     "name": "stdout",
     "output_type": "stream",
     "text": [
      "uploading...\n"
     ]
    },
    {
     "name": "stderr",
     "output_type": "stream",
     "text": [
      " 50%|█████     | 7107/14110 [23:04<16:32,  7.06it/s]"
     ]
    },
    {
     "name": "stdout",
     "output_type": "stream",
     "text": [
      "uploading...\n"
     ]
    },
    {
     "name": "stderr",
     "output_type": "stream",
     "text": [
      " 50%|█████     | 7113/14110 [23:08<22:54,  5.09it/s]"
     ]
    },
    {
     "name": "stdout",
     "output_type": "stream",
     "text": [
      "uploading...\n"
     ]
    },
    {
     "name": "stderr",
     "output_type": "stream",
     "text": [
      " 51%|█████     | 7129/14110 [23:12<23:05,  5.04it/s]"
     ]
    },
    {
     "name": "stdout",
     "output_type": "stream",
     "text": [
      "uploading...\n"
     ]
    },
    {
     "name": "stderr",
     "output_type": "stream",
     "text": [
      " 51%|█████     | 7167/14110 [23:15<16:12,  7.14it/s]"
     ]
    },
    {
     "name": "stdout",
     "output_type": "stream",
     "text": [
      "uploading...\n"
     ]
    },
    {
     "name": "stderr",
     "output_type": "stream",
     "text": [
      " 51%|█████     | 7177/14110 [23:18<19:21,  5.97it/s]"
     ]
    },
    {
     "name": "stdout",
     "output_type": "stream",
     "text": [
      "uploading...\n"
     ]
    },
    {
     "name": "stderr",
     "output_type": "stream",
     "text": [
      " 51%|█████     | 7188/14110 [23:26<32:17,  3.57it/s]"
     ]
    },
    {
     "name": "stdout",
     "output_type": "stream",
     "text": [
      "uploading...\n"
     ]
    },
    {
     "name": "stderr",
     "output_type": "stream",
     "text": [
      " 51%|█████     | 7208/14110 [23:29<27:31,  4.18it/s]"
     ]
    },
    {
     "name": "stdout",
     "output_type": "stream",
     "text": [
      "uploading...\n"
     ]
    },
    {
     "name": "stderr",
     "output_type": "stream",
     "text": [
      " 51%|█████     | 7227/14110 [23:32<24:39,  4.65it/s]"
     ]
    },
    {
     "name": "stdout",
     "output_type": "stream",
     "text": [
      "uploading...\n"
     ]
    },
    {
     "name": "stderr",
     "output_type": "stream",
     "text": [
      " 51%|█████▏    | 7258/14110 [23:35<18:56,  6.03it/s]"
     ]
    },
    {
     "name": "stdout",
     "output_type": "stream",
     "text": [
      "uploading...\n"
     ]
    },
    {
     "name": "stderr",
     "output_type": "stream",
     "text": [
      " 52%|█████▏    | 7294/14110 [23:38<15:13,  7.46it/s]"
     ]
    },
    {
     "name": "stdout",
     "output_type": "stream",
     "text": [
      "uploading...\n"
     ]
    },
    {
     "name": "stderr",
     "output_type": "stream",
     "text": [
      " 52%|█████▏    | 7312/14110 [23:42<16:08,  7.02it/s]"
     ]
    },
    {
     "name": "stdout",
     "output_type": "stream",
     "text": [
      "uploading...\n"
     ]
    },
    {
     "name": "stderr",
     "output_type": "stream",
     "text": [
      " 52%|█████▏    | 7333/14110 [23:44<16:02,  7.04it/s]"
     ]
    },
    {
     "name": "stdout",
     "output_type": "stream",
     "text": [
      "uploading...\n"
     ]
    },
    {
     "name": "stderr",
     "output_type": "stream",
     "text": [
      " 52%|█████▏    | 7364/14110 [23:49<15:34,  7.22it/s]"
     ]
    },
    {
     "name": "stdout",
     "output_type": "stream",
     "text": [
      "uploading...\n"
     ]
    },
    {
     "name": "stderr",
     "output_type": "stream",
     "text": [
      " 52%|█████▏    | 7385/14110 [23:52<15:41,  7.14it/s]"
     ]
    },
    {
     "name": "stdout",
     "output_type": "stream",
     "text": [
      "uploading...\n"
     ]
    },
    {
     "name": "stderr",
     "output_type": "stream",
     "text": [
      " 52%|█████▏    | 7399/14110 [23:55<17:29,  6.39it/s]"
     ]
    },
    {
     "name": "stdout",
     "output_type": "stream",
     "text": [
      "uploading...\n"
     ]
    },
    {
     "name": "stderr",
     "output_type": "stream",
     "text": [
      " 53%|█████▎    | 7420/14110 [23:58<17:06,  6.52it/s]"
     ]
    },
    {
     "name": "stdout",
     "output_type": "stream",
     "text": [
      "uploading...\n"
     ]
    },
    {
     "name": "stderr",
     "output_type": "stream",
     "text": [
      " 53%|█████▎    | 7442/14110 [24:02<18:10,  6.12it/s]"
     ]
    },
    {
     "name": "stdout",
     "output_type": "stream",
     "text": [
      "uploading...\n"
     ]
    },
    {
     "name": "stderr",
     "output_type": "stream",
     "text": [
      " 53%|█████▎    | 7467/14110 [24:05<16:29,  6.71it/s]"
     ]
    },
    {
     "name": "stdout",
     "output_type": "stream",
     "text": [
      "uploading...\n"
     ]
    },
    {
     "name": "stderr",
     "output_type": "stream",
     "text": [
      " 53%|█████▎    | 7477/14110 [24:09<21:24,  5.17it/s]"
     ]
    },
    {
     "name": "stdout",
     "output_type": "stream",
     "text": [
      "uploading...\n"
     ]
    },
    {
     "name": "stderr",
     "output_type": "stream",
     "text": [
      " 53%|█████▎    | 7504/14110 [24:12<17:46,  6.20it/s]"
     ]
    },
    {
     "name": "stdout",
     "output_type": "stream",
     "text": [
      "uploading...\n"
     ]
    },
    {
     "name": "stderr",
     "output_type": "stream",
     "text": [
      " 53%|█████▎    | 7520/14110 [24:15<18:32,  5.92it/s]"
     ]
    },
    {
     "name": "stdout",
     "output_type": "stream",
     "text": [
      "uploading...\n"
     ]
    },
    {
     "name": "stderr",
     "output_type": "stream",
     "text": [
      " 53%|█████▎    | 7541/14110 [24:18<17:58,  6.09it/s]"
     ]
    },
    {
     "name": "stdout",
     "output_type": "stream",
     "text": [
      "uploading...\n"
     ]
    },
    {
     "name": "stderr",
     "output_type": "stream",
     "text": [
      " 54%|█████▎    | 7562/14110 [24:22<17:24,  6.27it/s]"
     ]
    },
    {
     "name": "stdout",
     "output_type": "stream",
     "text": [
      "uploading...\n"
     ]
    },
    {
     "name": "stderr",
     "output_type": "stream",
     "text": [
      " 54%|█████▎    | 7576/14110 [24:25<18:51,  5.77it/s]"
     ]
    },
    {
     "name": "stdout",
     "output_type": "stream",
     "text": [
      "uploading...\n"
     ]
    },
    {
     "name": "stderr",
     "output_type": "stream",
     "text": [
      " 54%|█████▍    | 7601/14110 [24:29<18:16,  5.93it/s]"
     ]
    },
    {
     "name": "stdout",
     "output_type": "stream",
     "text": [
      "uploading...\n"
     ]
    },
    {
     "name": "stderr",
     "output_type": "stream",
     "text": [
      " 54%|█████▍    | 7613/14110 [24:32<20:08,  5.38it/s]"
     ]
    },
    {
     "name": "stdout",
     "output_type": "stream",
     "text": [
      "uploading...\n"
     ]
    },
    {
     "name": "stderr",
     "output_type": "stream",
     "text": [
      " 54%|█████▍    | 7639/14110 [24:35<17:23,  6.20it/s]"
     ]
    },
    {
     "name": "stdout",
     "output_type": "stream",
     "text": [
      "uploading...\n"
     ]
    },
    {
     "name": "stderr",
     "output_type": "stream",
     "text": [
      " 54%|█████▍    | 7663/14110 [24:38<15:59,  6.72it/s]"
     ]
    },
    {
     "name": "stdout",
     "output_type": "stream",
     "text": [
      "uploading...\n"
     ]
    },
    {
     "name": "stderr",
     "output_type": "stream",
     "text": [
      " 54%|█████▍    | 7681/14110 [24:42<18:19,  5.85it/s]"
     ]
    },
    {
     "name": "stdout",
     "output_type": "stream",
     "text": [
      "uploading...\n"
     ]
    },
    {
     "name": "stderr",
     "output_type": "stream",
     "text": [
      " 55%|█████▍    | 7693/14110 [24:46<21:51,  4.89it/s]"
     ]
    },
    {
     "name": "stdout",
     "output_type": "stream",
     "text": [
      "uploading...\n"
     ]
    },
    {
     "name": "stderr",
     "output_type": "stream",
     "text": [
      " 55%|█████▍    | 7704/14110 [24:50<25:53,  4.12it/s]"
     ]
    },
    {
     "name": "stdout",
     "output_type": "stream",
     "text": [
      "uploading...\n"
     ]
    },
    {
     "name": "stderr",
     "output_type": "stream",
     "text": [
      " 55%|█████▍    | 7731/14110 [24:53<19:47,  5.37it/s]"
     ]
    },
    {
     "name": "stdout",
     "output_type": "stream",
     "text": [
      "uploading...\n"
     ]
    },
    {
     "name": "stderr",
     "output_type": "stream",
     "text": [
      " 55%|█████▍    | 7747/14110 [24:56<19:56,  5.32it/s]"
     ]
    },
    {
     "name": "stdout",
     "output_type": "stream",
     "text": [
      "uploading...\n"
     ]
    },
    {
     "name": "stderr",
     "output_type": "stream",
     "text": [
      " 55%|█████▌    | 7768/14110 [25:00<18:35,  5.68it/s]"
     ]
    },
    {
     "name": "stdout",
     "output_type": "stream",
     "text": [
      "uploading...\n"
     ]
    },
    {
     "name": "stderr",
     "output_type": "stream",
     "text": [
      " 55%|█████▌    | 7792/14110 [25:03<16:44,  6.29it/s]"
     ]
    },
    {
     "name": "stdout",
     "output_type": "stream",
     "text": [
      "uploading...\n"
     ]
    },
    {
     "name": "stderr",
     "output_type": "stream",
     "text": [
      " 55%|█████▌    | 7812/14110 [25:06<16:31,  6.35it/s]"
     ]
    },
    {
     "name": "stdout",
     "output_type": "stream",
     "text": [
      "uploading...\n"
     ]
    },
    {
     "name": "stderr",
     "output_type": "stream",
     "text": [
      " 55%|█████▌    | 7829/14110 [25:10<18:56,  5.53it/s]"
     ]
    },
    {
     "name": "stdout",
     "output_type": "stream",
     "text": [
      "uploading...\n"
     ]
    },
    {
     "name": "stderr",
     "output_type": "stream",
     "text": [
      " 56%|█████▌    | 7853/14110 [25:14<18:30,  5.64it/s]"
     ]
    },
    {
     "name": "stdout",
     "output_type": "stream",
     "text": [
      "uploading...\n"
     ]
    },
    {
     "name": "stderr",
     "output_type": "stream",
     "text": [
      " 56%|█████▌    | 7877/14110 [25:18<18:05,  5.74it/s]"
     ]
    },
    {
     "name": "stdout",
     "output_type": "stream",
     "text": [
      "uploading...\n"
     ]
    },
    {
     "name": "stderr",
     "output_type": "stream",
     "text": [
      " 56%|█████▌    | 7898/14110 [25:21<17:23,  5.95it/s]"
     ]
    },
    {
     "name": "stdout",
     "output_type": "stream",
     "text": [
      "uploading...\n"
     ]
    },
    {
     "name": "stderr",
     "output_type": "stream",
     "text": [
      " 56%|█████▌    | 7928/14110 [25:24<14:49,  6.95it/s]"
     ]
    },
    {
     "name": "stdout",
     "output_type": "stream",
     "text": [
      "uploading...\n"
     ]
    },
    {
     "name": "stderr",
     "output_type": "stream",
     "text": [
      " 56%|█████▋    | 7938/14110 [25:27<17:20,  5.93it/s]"
     ]
    },
    {
     "name": "stdout",
     "output_type": "stream",
     "text": [
      "uploading...\n"
     ]
    },
    {
     "name": "stderr",
     "output_type": "stream",
     "text": [
      " 56%|█████▋    | 7959/14110 [25:32<18:16,  5.61it/s]"
     ]
    },
    {
     "name": "stdout",
     "output_type": "stream",
     "text": [
      "uploading...\n"
     ]
    },
    {
     "name": "stderr",
     "output_type": "stream",
     "text": [
      " 57%|█████▋    | 7974/14110 [25:37<22:10,  4.61it/s]"
     ]
    },
    {
     "name": "stdout",
     "output_type": "stream",
     "text": [
      "uploading...\n"
     ]
    },
    {
     "name": "stderr",
     "output_type": "stream",
     "text": [
      " 57%|█████▋    | 7995/14110 [25:41<21:17,  4.79it/s]"
     ]
    },
    {
     "name": "stdout",
     "output_type": "stream",
     "text": [
      "uploading...\n"
     ]
    },
    {
     "name": "stderr",
     "output_type": "stream",
     "text": [
      " 57%|█████▋    | 8020/14110 [25:45<19:40,  5.16it/s]"
     ]
    },
    {
     "name": "stdout",
     "output_type": "stream",
     "text": [
      "uploading...\n"
     ]
    },
    {
     "name": "stderr",
     "output_type": "stream",
     "text": [
      " 57%|█████▋    | 8042/14110 [25:49<19:25,  5.21it/s]"
     ]
    },
    {
     "name": "stdout",
     "output_type": "stream",
     "text": [
      "uploading...\n"
     ]
    },
    {
     "name": "stderr",
     "output_type": "stream",
     "text": [
      " 57%|█████▋    | 8053/14110 [25:53<22:40,  4.45it/s]"
     ]
    },
    {
     "name": "stdout",
     "output_type": "stream",
     "text": [
      "uploading...\n"
     ]
    },
    {
     "name": "stderr",
     "output_type": "stream",
     "text": [
      " 57%|█████▋    | 8076/14110 [25:56<19:25,  5.18it/s]"
     ]
    },
    {
     "name": "stdout",
     "output_type": "stream",
     "text": [
      "uploading...\n"
     ]
    },
    {
     "name": "stderr",
     "output_type": "stream",
     "text": [
      " 57%|█████▋    | 8091/14110 [25:59<19:38,  5.11it/s]"
     ]
    },
    {
     "name": "stdout",
     "output_type": "stream",
     "text": [
      "uploading...\n"
     ]
    },
    {
     "name": "stderr",
     "output_type": "stream",
     "text": [
      " 57%|█████▋    | 8111/14110 [26:02<18:22,  5.44it/s]"
     ]
    },
    {
     "name": "stdout",
     "output_type": "stream",
     "text": [
      "uploading...\n"
     ]
    },
    {
     "name": "stderr",
     "output_type": "stream",
     "text": [
      " 58%|█████▊    | 8128/14110 [26:06<18:14,  5.46it/s]"
     ]
    },
    {
     "name": "stdout",
     "output_type": "stream",
     "text": [
      "uploading...\n"
     ]
    },
    {
     "name": "stderr",
     "output_type": "stream",
     "text": [
      " 58%|█████▊    | 8154/14110 [26:09<15:51,  6.26it/s]"
     ]
    },
    {
     "name": "stdout",
     "output_type": "stream",
     "text": [
      "uploading...\n"
     ]
    },
    {
     "name": "stderr",
     "output_type": "stream",
     "text": [
      " 58%|█████▊    | 8183/14110 [26:13<14:55,  6.62it/s]"
     ]
    },
    {
     "name": "stdout",
     "output_type": "stream",
     "text": [
      "uploading...\n"
     ]
    },
    {
     "name": "stderr",
     "output_type": "stream",
     "text": [
      " 58%|█████▊    | 8197/14110 [26:16<16:28,  5.98it/s]"
     ]
    },
    {
     "name": "stdout",
     "output_type": "stream",
     "text": [
      "uploading...\n"
     ]
    },
    {
     "name": "stderr",
     "output_type": "stream",
     "text": [
      " 58%|█████▊    | 8212/14110 [26:20<18:54,  5.20it/s]"
     ]
    },
    {
     "name": "stdout",
     "output_type": "stream",
     "text": [
      "uploading...\n"
     ]
    },
    {
     "name": "stderr",
     "output_type": "stream",
     "text": [
      " 58%|█████▊    | 8235/14110 [26:24<18:22,  5.33it/s]"
     ]
    },
    {
     "name": "stdout",
     "output_type": "stream",
     "text": [
      "uploading...\n"
     ]
    },
    {
     "name": "stderr",
     "output_type": "stream",
     "text": [
      " 58%|█████▊    | 8249/14110 [26:27<19:14,  5.08it/s]"
     ]
    },
    {
     "name": "stdout",
     "output_type": "stream",
     "text": [
      "uploading...\n"
     ]
    },
    {
     "name": "stderr",
     "output_type": "stream",
     "text": [
      " 59%|█████▊    | 8269/14110 [26:30<17:57,  5.42it/s]"
     ]
    },
    {
     "name": "stdout",
     "output_type": "stream",
     "text": [
      "uploading...\n"
     ]
    },
    {
     "name": "stderr",
     "output_type": "stream",
     "text": [
      " 59%|█████▉    | 8304/14110 [26:33<13:40,  7.07it/s]"
     ]
    },
    {
     "name": "stdout",
     "output_type": "stream",
     "text": [
      "uploading...\n"
     ]
    },
    {
     "name": "stderr",
     "output_type": "stream",
     "text": [
      " 59%|█████▉    | 8324/14110 [26:38<15:23,  6.26it/s]"
     ]
    },
    {
     "name": "stdout",
     "output_type": "stream",
     "text": [
      "uploading...\n"
     ]
    },
    {
     "name": "stderr",
     "output_type": "stream",
     "text": [
      " 59%|█████▉    | 8344/14110 [26:41<15:11,  6.33it/s]"
     ]
    },
    {
     "name": "stdout",
     "output_type": "stream",
     "text": [
      "uploading...\n"
     ]
    },
    {
     "name": "stderr",
     "output_type": "stream",
     "text": [
      " 59%|█████▉    | 8362/14110 [26:44<15:24,  6.21it/s]"
     ]
    },
    {
     "name": "stdout",
     "output_type": "stream",
     "text": [
      "uploading...\n"
     ]
    },
    {
     "name": "stderr",
     "output_type": "stream",
     "text": [
      " 59%|█████▉    | 8376/14110 [26:48<18:28,  5.17it/s]"
     ]
    },
    {
     "name": "stdout",
     "output_type": "stream",
     "text": [
      "uploading...\n"
     ]
    },
    {
     "name": "stderr",
     "output_type": "stream",
     "text": [
      " 59%|█████▉    | 8395/14110 [26:51<17:34,  5.42it/s]"
     ]
    },
    {
     "name": "stdout",
     "output_type": "stream",
     "text": [
      "uploading...\n"
     ]
    },
    {
     "name": "stderr",
     "output_type": "stream",
     "text": [
      " 60%|█████▉    | 8410/14110 [26:55<19:32,  4.86it/s]"
     ]
    },
    {
     "name": "stdout",
     "output_type": "stream",
     "text": [
      "uploading...\n"
     ]
    },
    {
     "name": "stderr",
     "output_type": "stream",
     "text": [
      " 60%|█████▉    | 8434/14110 [26:59<17:10,  5.51it/s]"
     ]
    },
    {
     "name": "stdout",
     "output_type": "stream",
     "text": [
      "uploading...\n"
     ]
    },
    {
     "name": "stderr",
     "output_type": "stream",
     "text": [
      " 60%|█████▉    | 8452/14110 [27:02<16:50,  5.60it/s]"
     ]
    },
    {
     "name": "stdout",
     "output_type": "stream",
     "text": [
      "uploading...\n"
     ]
    },
    {
     "name": "stderr",
     "output_type": "stream",
     "text": [
      " 60%|██████    | 8480/14110 [27:05<14:15,  6.58it/s]"
     ]
    },
    {
     "name": "stdout",
     "output_type": "stream",
     "text": [
      "uploading...\n"
     ]
    },
    {
     "name": "stderr",
     "output_type": "stream",
     "text": [
      " 60%|██████    | 8490/14110 [27:08<16:46,  5.58it/s]"
     ]
    },
    {
     "name": "stdout",
     "output_type": "stream",
     "text": [
      "uploading...\n"
     ]
    },
    {
     "name": "stderr",
     "output_type": "stream",
     "text": [
      " 60%|██████    | 8509/14110 [27:12<17:43,  5.27it/s]"
     ]
    },
    {
     "name": "stdout",
     "output_type": "stream",
     "text": [
      "uploading...\n"
     ]
    },
    {
     "name": "stderr",
     "output_type": "stream",
     "text": [
      " 60%|██████    | 8534/14110 [27:16<16:43,  5.56it/s]"
     ]
    },
    {
     "name": "stdout",
     "output_type": "stream",
     "text": [
      "uploading...\n"
     ]
    },
    {
     "name": "stderr",
     "output_type": "stream",
     "text": [
      " 61%|██████    | 8550/14110 [27:20<18:35,  4.99it/s]"
     ]
    },
    {
     "name": "stdout",
     "output_type": "stream",
     "text": [
      "uploading...\n"
     ]
    },
    {
     "name": "stderr",
     "output_type": "stream",
     "text": [
      " 61%|██████    | 8565/14110 [27:23<18:37,  4.96it/s]"
     ]
    },
    {
     "name": "stdout",
     "output_type": "stream",
     "text": [
      "uploading...\n"
     ]
    },
    {
     "name": "stderr",
     "output_type": "stream",
     "text": [
      " 61%|██████    | 8593/14110 [27:26<15:15,  6.03it/s]"
     ]
    },
    {
     "name": "stdout",
     "output_type": "stream",
     "text": [
      "uploading...\n"
     ]
    },
    {
     "name": "stderr",
     "output_type": "stream",
     "text": [
      " 61%|██████    | 8613/14110 [27:30<15:01,  6.09it/s]"
     ]
    },
    {
     "name": "stdout",
     "output_type": "stream",
     "text": [
      "uploading...\n"
     ]
    },
    {
     "name": "stderr",
     "output_type": "stream",
     "text": [
      " 61%|██████    | 8637/14110 [27:33<13:58,  6.53it/s]"
     ]
    },
    {
     "name": "stdout",
     "output_type": "stream",
     "text": [
      "uploading...\n"
     ]
    },
    {
     "name": "stderr",
     "output_type": "stream",
     "text": [
      " 61%|██████▏   | 8659/14110 [27:37<14:49,  6.13it/s]"
     ]
    },
    {
     "name": "stdout",
     "output_type": "stream",
     "text": [
      "uploading...\n"
     ]
    },
    {
     "name": "stderr",
     "output_type": "stream",
     "text": [
      " 61%|██████▏   | 8671/14110 [27:41<17:59,  5.04it/s]"
     ]
    },
    {
     "name": "stdout",
     "output_type": "stream",
     "text": [
      "uploading...\n"
     ]
    },
    {
     "name": "stderr",
     "output_type": "stream",
     "text": [
      " 61%|██████▏   | 8677/14110 [27:47<26:55,  3.36it/s]"
     ]
    },
    {
     "name": "stdout",
     "output_type": "stream",
     "text": [
      "uploading...\n"
     ]
    },
    {
     "name": "stderr",
     "output_type": "stream",
     "text": [
      " 62%|██████▏   | 8689/14110 [27:50<26:01,  3.47it/s]"
     ]
    },
    {
     "name": "stdout",
     "output_type": "stream",
     "text": [
      "uploading...\n"
     ]
    },
    {
     "name": "stderr",
     "output_type": "stream",
     "text": [
      " 62%|██████▏   | 8715/14110 [27:53<19:21,  4.65it/s]"
     ]
    },
    {
     "name": "stdout",
     "output_type": "stream",
     "text": [
      "uploading...\n"
     ]
    },
    {
     "name": "stderr",
     "output_type": "stream",
     "text": [
      " 62%|██████▏   | 8740/14110 [27:58<17:37,  5.08it/s]"
     ]
    },
    {
     "name": "stdout",
     "output_type": "stream",
     "text": [
      "uploading...\n"
     ]
    },
    {
     "name": "stderr",
     "output_type": "stream",
     "text": [
      " 62%|██████▏   | 8762/14110 [28:01<15:50,  5.63it/s]"
     ]
    },
    {
     "name": "stdout",
     "output_type": "stream",
     "text": [
      "uploading...\n"
     ]
    },
    {
     "name": "stderr",
     "output_type": "stream",
     "text": [
      " 62%|██████▏   | 8782/14110 [28:04<15:28,  5.74it/s]"
     ]
    },
    {
     "name": "stdout",
     "output_type": "stream",
     "text": [
      "uploading...\n"
     ]
    },
    {
     "name": "stderr",
     "output_type": "stream",
     "text": [
      " 62%|██████▏   | 8797/14110 [28:07<16:05,  5.51it/s]"
     ]
    },
    {
     "name": "stdout",
     "output_type": "stream",
     "text": [
      "uploading...\n"
     ]
    },
    {
     "name": "stderr",
     "output_type": "stream",
     "text": [
      " 62%|██████▏   | 8804/14110 [28:15<27:51,  3.18it/s]"
     ]
    },
    {
     "name": "stdout",
     "output_type": "stream",
     "text": [
      "uploading...\n"
     ]
    },
    {
     "name": "stderr",
     "output_type": "stream",
     "text": [
      " 62%|██████▏   | 8814/14110 [28:18<27:45,  3.18it/s]"
     ]
    },
    {
     "name": "stdout",
     "output_type": "stream",
     "text": [
      "uploading...\n"
     ]
    },
    {
     "name": "stderr",
     "output_type": "stream",
     "text": [
      " 63%|██████▎   | 8827/14110 [28:21<25:41,  3.43it/s]"
     ]
    },
    {
     "name": "stdout",
     "output_type": "stream",
     "text": [
      "uploading...\n"
     ]
    },
    {
     "name": "stderr",
     "output_type": "stream",
     "text": [
      " 63%|██████▎   | 8852/14110 [28:24<19:00,  4.61it/s]"
     ]
    },
    {
     "name": "stdout",
     "output_type": "stream",
     "text": [
      "uploading...\n"
     ]
    },
    {
     "name": "stderr",
     "output_type": "stream",
     "text": [
      " 63%|██████▎   | 8867/14110 [28:27<18:39,  4.68it/s]"
     ]
    },
    {
     "name": "stdout",
     "output_type": "stream",
     "text": [
      "uploading...\n"
     ]
    },
    {
     "name": "stderr",
     "output_type": "stream",
     "text": [
      " 63%|██████▎   | 8880/14110 [28:31<19:06,  4.56it/s]"
     ]
    },
    {
     "name": "stdout",
     "output_type": "stream",
     "text": [
      "uploading...\n"
     ]
    },
    {
     "name": "stderr",
     "output_type": "stream",
     "text": [
      " 63%|██████▎   | 8896/14110 [28:35<20:12,  4.30it/s]"
     ]
    },
    {
     "name": "stdout",
     "output_type": "stream",
     "text": [
      "uploading...\n"
     ]
    },
    {
     "name": "stderr",
     "output_type": "stream",
     "text": [
      " 63%|██████▎   | 8910/14110 [28:38<19:44,  4.39it/s]"
     ]
    },
    {
     "name": "stdout",
     "output_type": "stream",
     "text": [
      "uploading...\n"
     ]
    },
    {
     "name": "stderr",
     "output_type": "stream",
     "text": [
      " 63%|██████▎   | 8934/14110 [28:42<17:41,  4.87it/s]"
     ]
    },
    {
     "name": "stdout",
     "output_type": "stream",
     "text": [
      "uploading...\n"
     ]
    },
    {
     "name": "stderr",
     "output_type": "stream",
     "text": [
      " 63%|██████▎   | 8951/14110 [28:46<18:43,  4.59it/s]"
     ]
    },
    {
     "name": "stdout",
     "output_type": "stream",
     "text": [
      "uploading...\n"
     ]
    },
    {
     "name": "stderr",
     "output_type": "stream",
     "text": [
      " 64%|██████▎   | 8976/14110 [28:49<15:34,  5.50it/s]"
     ]
    },
    {
     "name": "stdout",
     "output_type": "stream",
     "text": [
      "uploading...\n"
     ]
    },
    {
     "name": "stderr",
     "output_type": "stream",
     "text": [
      " 64%|██████▍   | 8999/14110 [28:52<14:07,  6.03it/s]"
     ]
    },
    {
     "name": "stdout",
     "output_type": "stream",
     "text": [
      "uploading...\n"
     ]
    },
    {
     "name": "stderr",
     "output_type": "stream",
     "text": [
      " 64%|██████▍   | 9015/14110 [28:56<15:58,  5.31it/s]"
     ]
    },
    {
     "name": "stdout",
     "output_type": "stream",
     "text": [
      "uploading...\n"
     ]
    },
    {
     "name": "stderr",
     "output_type": "stream",
     "text": [
      " 64%|██████▍   | 9022/14110 [28:59<18:45,  4.52it/s]"
     ]
    },
    {
     "name": "stdout",
     "output_type": "stream",
     "text": [
      "uploading...\n"
     ]
    },
    {
     "name": "stderr",
     "output_type": "stream",
     "text": [
      " 64%|██████▍   | 9045/14110 [29:02<15:51,  5.32it/s]"
     ]
    },
    {
     "name": "stdout",
     "output_type": "stream",
     "text": [
      "uploading...\n"
     ]
    },
    {
     "name": "stderr",
     "output_type": "stream",
     "text": [
      " 64%|██████▍   | 9063/14110 [29:06<15:29,  5.43it/s]"
     ]
    },
    {
     "name": "stdout",
     "output_type": "stream",
     "text": [
      "uploading...\n"
     ]
    },
    {
     "name": "stderr",
     "output_type": "stream",
     "text": [
      " 64%|██████▍   | 9072/14110 [29:12<22:48,  3.68it/s]"
     ]
    },
    {
     "name": "stdout",
     "output_type": "stream",
     "text": [
      "uploading...\n"
     ]
    },
    {
     "name": "stderr",
     "output_type": "stream",
     "text": [
      " 65%|██████▍   | 9103/14110 [29:16<17:27,  4.78it/s]"
     ]
    },
    {
     "name": "stdout",
     "output_type": "stream",
     "text": [
      "uploading...\n"
     ]
    },
    {
     "name": "stderr",
     "output_type": "stream",
     "text": [
      " 65%|██████▍   | 9120/14110 [29:28<28:57,  2.87it/s]"
     ]
    },
    {
     "name": "stdout",
     "output_type": "stream",
     "text": [
      "uploading...\n"
     ]
    },
    {
     "name": "stderr",
     "output_type": "stream",
     "text": [
      " 65%|██████▍   | 9145/14110 [29:31<22:06,  3.74it/s]"
     ]
    },
    {
     "name": "stdout",
     "output_type": "stream",
     "text": [
      "uploading...\n"
     ]
    },
    {
     "name": "stderr",
     "output_type": "stream",
     "text": [
      " 65%|██████▍   | 9159/14110 [29:36<22:30,  3.67it/s]"
     ]
    },
    {
     "name": "stdout",
     "output_type": "stream",
     "text": [
      "uploading...\n"
     ]
    },
    {
     "name": "stderr",
     "output_type": "stream",
     "text": [
      " 65%|██████▌   | 9180/14110 [29:39<19:09,  4.29it/s]"
     ]
    },
    {
     "name": "stdout",
     "output_type": "stream",
     "text": [
      "uploading...\n"
     ]
    },
    {
     "name": "stderr",
     "output_type": "stream",
     "text": [
      " 65%|██████▌   | 9197/14110 [29:42<17:53,  4.57it/s]"
     ]
    },
    {
     "name": "stdout",
     "output_type": "stream",
     "text": [
      "uploading...\n"
     ]
    },
    {
     "name": "stderr",
     "output_type": "stream",
     "text": [
      " 65%|██████▌   | 9201/14110 [29:46<23:20,  3.50it/s]"
     ]
    },
    {
     "name": "stdout",
     "output_type": "stream",
     "text": [
      "uploading...\n"
     ]
    },
    {
     "name": "stderr",
     "output_type": "stream",
     "text": [
      " 65%|██████▌   | 9225/14110 [29:50<19:35,  4.16it/s]"
     ]
    },
    {
     "name": "stdout",
     "output_type": "stream",
     "text": [
      "uploading...\n"
     ]
    },
    {
     "name": "stderr",
     "output_type": "stream",
     "text": [
      " 65%|██████▌   | 9240/14110 [29:53<18:52,  4.30it/s]"
     ]
    },
    {
     "name": "stdout",
     "output_type": "stream",
     "text": [
      "uploading...\n"
     ]
    },
    {
     "name": "stderr",
     "output_type": "stream",
     "text": [
      " 66%|██████▌   | 9261/14110 [29:57<17:34,  4.60it/s]"
     ]
    },
    {
     "name": "stdout",
     "output_type": "stream",
     "text": [
      "uploading...\n"
     ]
    },
    {
     "name": "stderr",
     "output_type": "stream",
     "text": [
      " 66%|██████▌   | 9281/14110 [30:01<16:07,  4.99it/s]"
     ]
    },
    {
     "name": "stdout",
     "output_type": "stream",
     "text": [
      "uploading...\n"
     ]
    },
    {
     "name": "stderr",
     "output_type": "stream",
     "text": [
      " 66%|██████▌   | 9294/14110 [30:04<16:41,  4.81it/s]"
     ]
    },
    {
     "name": "stdout",
     "output_type": "stream",
     "text": [
      "uploading...\n"
     ]
    },
    {
     "name": "stderr",
     "output_type": "stream",
     "text": [
      " 66%|██████▌   | 9323/14110 [30:07<13:10,  6.05it/s]"
     ]
    },
    {
     "name": "stdout",
     "output_type": "stream",
     "text": [
      "uploading...\n"
     ]
    },
    {
     "name": "stderr",
     "output_type": "stream",
     "text": [
      " 66%|██████▌   | 9334/14110 [30:12<18:02,  4.41it/s]"
     ]
    },
    {
     "name": "stdout",
     "output_type": "stream",
     "text": [
      "uploading...\n"
     ]
    },
    {
     "name": "stderr",
     "output_type": "stream",
     "text": [
      " 66%|██████▋   | 9358/14110 [30:16<16:04,  4.93it/s]"
     ]
    },
    {
     "name": "stdout",
     "output_type": "stream",
     "text": [
      "uploading...\n"
     ]
    },
    {
     "name": "stderr",
     "output_type": "stream",
     "text": [
      " 66%|██████▋   | 9374/14110 [30:21<18:22,  4.30it/s]"
     ]
    },
    {
     "name": "stdout",
     "output_type": "stream",
     "text": [
      "uploading...\n"
     ]
    },
    {
     "name": "stderr",
     "output_type": "stream",
     "text": [
      " 67%|██████▋   | 9387/14110 [30:24<18:31,  4.25it/s]"
     ]
    },
    {
     "name": "stdout",
     "output_type": "stream",
     "text": [
      "uploading...\n"
     ]
    },
    {
     "name": "stderr",
     "output_type": "stream",
     "text": [
      " 67%|██████▋   | 9398/14110 [30:27<19:17,  4.07it/s]"
     ]
    },
    {
     "name": "stdout",
     "output_type": "stream",
     "text": [
      "uploading...\n"
     ]
    },
    {
     "name": "stderr",
     "output_type": "stream",
     "text": [
      " 67%|██████▋   | 9410/14110 [30:30<19:23,  4.04it/s]"
     ]
    },
    {
     "name": "stdout",
     "output_type": "stream",
     "text": [
      "uploading...\n"
     ]
    },
    {
     "name": "stderr",
     "output_type": "stream",
     "text": [
      " 67%|██████▋   | 9432/14110 [30:34<16:13,  4.80it/s]"
     ]
    },
    {
     "name": "stdout",
     "output_type": "stream",
     "text": [
      "uploading...\n"
     ]
    },
    {
     "name": "stderr",
     "output_type": "stream",
     "text": [
      " 67%|██████▋   | 9450/14110 [30:37<15:13,  5.10it/s]"
     ]
    },
    {
     "name": "stdout",
     "output_type": "stream",
     "text": [
      "uploading...\n"
     ]
    },
    {
     "name": "stderr",
     "output_type": "stream",
     "text": [
      " 67%|██████▋   | 9474/14110 [30:40<13:12,  5.85it/s]"
     ]
    },
    {
     "name": "stdout",
     "output_type": "stream",
     "text": [
      "uploading...\n"
     ]
    },
    {
     "name": "stderr",
     "output_type": "stream",
     "text": [
      " 67%|██████▋   | 9496/14110 [30:44<13:46,  5.58it/s]"
     ]
    },
    {
     "name": "stdout",
     "output_type": "stream",
     "text": [
      "uploading...\n"
     ]
    },
    {
     "name": "stderr",
     "output_type": "stream",
     "text": [
      " 67%|██████▋   | 9509/14110 [30:47<14:41,  5.22it/s]"
     ]
    },
    {
     "name": "stdout",
     "output_type": "stream",
     "text": [
      "uploading...\n"
     ]
    },
    {
     "name": "stderr",
     "output_type": "stream",
     "text": [
      " 68%|██████▊   | 9531/14110 [30:50<13:10,  5.80it/s]"
     ]
    },
    {
     "name": "stdout",
     "output_type": "stream",
     "text": [
      "uploading...\n"
     ]
    },
    {
     "name": "stderr",
     "output_type": "stream",
     "text": [
      " 68%|██████▊   | 9552/14110 [30:53<12:33,  6.05it/s]"
     ]
    },
    {
     "name": "stdout",
     "output_type": "stream",
     "text": [
      "uploading...\n"
     ]
    },
    {
     "name": "stderr",
     "output_type": "stream",
     "text": [
      " 68%|██████▊   | 9579/14110 [30:57<12:01,  6.28it/s]"
     ]
    },
    {
     "name": "stdout",
     "output_type": "stream",
     "text": [
      "uploading...\n"
     ]
    },
    {
     "name": "stderr",
     "output_type": "stream",
     "text": [
      " 68%|██████▊   | 9605/14110 [31:01<10:58,  6.84it/s]"
     ]
    },
    {
     "name": "stdout",
     "output_type": "stream",
     "text": [
      "uploading...\n"
     ]
    },
    {
     "name": "stderr",
     "output_type": "stream",
     "text": [
      " 68%|██████▊   | 9623/14110 [31:04<11:20,  6.60it/s]"
     ]
    },
    {
     "name": "stdout",
     "output_type": "stream",
     "text": [
      "uploading...\n"
     ]
    },
    {
     "name": "stderr",
     "output_type": "stream",
     "text": [
      " 68%|██████▊   | 9639/14110 [31:07<12:05,  6.17it/s]"
     ]
    },
    {
     "name": "stdout",
     "output_type": "stream",
     "text": [
      "uploading...\n"
     ]
    },
    {
     "name": "stderr",
     "output_type": "stream",
     "text": [
      " 69%|██████▊   | 9667/14110 [31:10<10:32,  7.02it/s]"
     ]
    },
    {
     "name": "stdout",
     "output_type": "stream",
     "text": [
      "uploading...\n"
     ]
    },
    {
     "name": "stderr",
     "output_type": "stream",
     "text": [
      " 69%|██████▊   | 9680/14110 [31:14<13:03,  5.65it/s]"
     ]
    },
    {
     "name": "stdout",
     "output_type": "stream",
     "text": [
      "uploading...\n"
     ]
    },
    {
     "name": "stderr",
     "output_type": "stream",
     "text": [
      " 69%|██████▊   | 9698/14110 [31:18<13:56,  5.27it/s]"
     ]
    },
    {
     "name": "stdout",
     "output_type": "stream",
     "text": [
      "uploading...\n"
     ]
    },
    {
     "name": "stderr",
     "output_type": "stream",
     "text": [
      " 69%|██████▉   | 9707/14110 [31:22<17:10,  4.27it/s]"
     ]
    },
    {
     "name": "stdout",
     "output_type": "stream",
     "text": [
      "uploading...\n"
     ]
    },
    {
     "name": "stderr",
     "output_type": "stream",
     "text": [
      " 69%|██████▉   | 9722/14110 [31:25<16:34,  4.41it/s]"
     ]
    },
    {
     "name": "stdout",
     "output_type": "stream",
     "text": [
      "uploading...\n"
     ]
    },
    {
     "name": "stderr",
     "output_type": "stream",
     "text": [
      " 69%|██████▉   | 9757/14110 [31:28<10:50,  6.70it/s]"
     ]
    },
    {
     "name": "stdout",
     "output_type": "stream",
     "text": [
      "uploading...\n"
     ]
    },
    {
     "name": "stderr",
     "output_type": "stream",
     "text": [
      " 69%|██████▉   | 9762/14110 [31:33<18:01,  4.02it/s]"
     ]
    },
    {
     "name": "stdout",
     "output_type": "stream",
     "text": [
      "uploading...\n"
     ]
    },
    {
     "name": "stderr",
     "output_type": "stream",
     "text": [
      " 69%|██████▉   | 9780/14110 [31:38<17:30,  4.12it/s]"
     ]
    },
    {
     "name": "stdout",
     "output_type": "stream",
     "text": [
      "uploading...\n"
     ]
    },
    {
     "name": "stderr",
     "output_type": "stream",
     "text": [
      " 69%|██████▉   | 9796/14110 [31:44<20:31,  3.50it/s]"
     ]
    },
    {
     "name": "stdout",
     "output_type": "stream",
     "text": [
      "uploading...\n"
     ]
    },
    {
     "name": "stderr",
     "output_type": "stream",
     "text": [
      " 70%|██████▉   | 9809/14110 [31:48<21:10,  3.38it/s]"
     ]
    },
    {
     "name": "stdout",
     "output_type": "stream",
     "text": [
      "uploading...\n"
     ]
    },
    {
     "name": "stderr",
     "output_type": "stream",
     "text": [
      " 70%|██████▉   | 9823/14110 [31:51<19:28,  3.67it/s]"
     ]
    },
    {
     "name": "stdout",
     "output_type": "stream",
     "text": [
      "uploading...\n"
     ]
    },
    {
     "name": "stderr",
     "output_type": "stream",
     "text": [
      " 70%|██████▉   | 9844/14110 [31:55<17:11,  4.13it/s]"
     ]
    },
    {
     "name": "stdout",
     "output_type": "stream",
     "text": [
      "uploading...\n"
     ]
    },
    {
     "name": "stderr",
     "output_type": "stream",
     "text": [
      " 70%|██████▉   | 9866/14110 [31:59<15:46,  4.48it/s]"
     ]
    },
    {
     "name": "stdout",
     "output_type": "stream",
     "text": [
      "uploading...\n"
     ]
    },
    {
     "name": "stderr",
     "output_type": "stream",
     "text": [
      " 70%|███████   | 9881/14110 [32:03<16:36,  4.24it/s]"
     ]
    },
    {
     "name": "stdout",
     "output_type": "stream",
     "text": [
      "uploading...\n"
     ]
    },
    {
     "name": "stderr",
     "output_type": "stream",
     "text": [
      " 70%|███████   | 9888/14110 [32:06<18:42,  3.76it/s]"
     ]
    },
    {
     "name": "stdout",
     "output_type": "stream",
     "text": [
      "uploading...\n"
     ]
    },
    {
     "name": "stderr",
     "output_type": "stream",
     "text": [
      " 70%|███████   | 9900/14110 [32:21<36:29,  1.92it/s]"
     ]
    },
    {
     "name": "stdout",
     "output_type": "stream",
     "text": [
      "uploading...\n"
     ]
    },
    {
     "name": "stderr",
     "output_type": "stream",
     "text": [
      " 70%|███████   | 9906/14110 [32:24<36:21,  1.93it/s]"
     ]
    },
    {
     "name": "stdout",
     "output_type": "stream",
     "text": [
      "uploading...\n"
     ]
    },
    {
     "name": "stderr",
     "output_type": "stream",
     "text": [
      " 70%|███████   | 9930/14110 [32:28<24:27,  2.85it/s]"
     ]
    },
    {
     "name": "stdout",
     "output_type": "stream",
     "text": [
      "uploading...\n"
     ]
    },
    {
     "name": "stderr",
     "output_type": "stream",
     "text": [
      " 71%|███████   | 9952/14110 [32:31<18:56,  3.66it/s]"
     ]
    },
    {
     "name": "stdout",
     "output_type": "stream",
     "text": [
      "uploading...\n"
     ]
    },
    {
     "name": "stderr",
     "output_type": "stream",
     "text": [
      " 71%|███████   | 9972/14110 [32:34<16:09,  4.27it/s]"
     ]
    },
    {
     "name": "stdout",
     "output_type": "stream",
     "text": [
      "uploading...\n"
     ]
    },
    {
     "name": "stderr",
     "output_type": "stream",
     "text": [
      " 71%|███████   | 10008/14110 [32:37<11:18,  6.04it/s]"
     ]
    },
    {
     "name": "stdout",
     "output_type": "stream",
     "text": [
      "uploading...\n"
     ]
    },
    {
     "name": "stderr",
     "output_type": "stream",
     "text": [
      " 71%|███████   | 10030/14110 [32:41<10:52,  6.25it/s]"
     ]
    },
    {
     "name": "stdout",
     "output_type": "stream",
     "text": [
      "uploading...\n"
     ]
    },
    {
     "name": "stderr",
     "output_type": "stream",
     "text": [
      " 71%|███████   | 10051/14110 [32:45<11:32,  5.86it/s]"
     ]
    },
    {
     "name": "stdout",
     "output_type": "stream",
     "text": [
      "uploading...\n"
     ]
    },
    {
     "name": "stderr",
     "output_type": "stream",
     "text": [
      " 71%|███████▏  | 10072/14110 [32:48<10:56,  6.15it/s]"
     ]
    },
    {
     "name": "stdout",
     "output_type": "stream",
     "text": [
      "uploading...\n"
     ]
    },
    {
     "name": "stderr",
     "output_type": "stream",
     "text": [
      " 71%|███████▏  | 10080/14110 [32:51<12:55,  5.20it/s]"
     ]
    },
    {
     "name": "stdout",
     "output_type": "stream",
     "text": [
      "uploading...\n"
     ]
    },
    {
     "name": "stderr",
     "output_type": "stream",
     "text": [
      " 72%|███████▏  | 10104/14110 [32:55<12:17,  5.44it/s]"
     ]
    },
    {
     "name": "stdout",
     "output_type": "stream",
     "text": [
      "uploading...\n"
     ]
    },
    {
     "name": "stderr",
     "output_type": "stream",
     "text": [
      " 72%|███████▏  | 10124/14110 [32:58<11:43,  5.67it/s]"
     ]
    },
    {
     "name": "stdout",
     "output_type": "stream",
     "text": [
      "uploading...\n"
     ]
    },
    {
     "name": "stderr",
     "output_type": "stream",
     "text": [
      " 72%|███████▏  | 10140/14110 [33:01<11:49,  5.60it/s]"
     ]
    },
    {
     "name": "stdout",
     "output_type": "stream",
     "text": [
      "uploading...\n"
     ]
    },
    {
     "name": "stderr",
     "output_type": "stream",
     "text": [
      " 72%|███████▏  | 10160/14110 [33:05<12:18,  5.35it/s]"
     ]
    },
    {
     "name": "stdout",
     "output_type": "stream",
     "text": [
      "uploading...\n"
     ]
    },
    {
     "name": "stderr",
     "output_type": "stream",
     "text": [
      " 72%|███████▏  | 10180/14110 [33:08<11:33,  5.67it/s]"
     ]
    },
    {
     "name": "stdout",
     "output_type": "stream",
     "text": [
      "uploading...\n"
     ]
    },
    {
     "name": "stderr",
     "output_type": "stream",
     "text": [
      " 72%|███████▏  | 10194/14110 [33:11<12:11,  5.35it/s]"
     ]
    },
    {
     "name": "stdout",
     "output_type": "stream",
     "text": [
      "uploading...\n"
     ]
    },
    {
     "name": "stderr",
     "output_type": "stream",
     "text": [
      " 72%|███████▏  | 10201/14110 [33:14<14:50,  4.39it/s]"
     ]
    },
    {
     "name": "stdout",
     "output_type": "stream",
     "text": [
      "uploading...\n"
     ]
    },
    {
     "name": "stderr",
     "output_type": "stream",
     "text": [
      " 72%|███████▏  | 10222/14110 [33:18<12:43,  5.09it/s]"
     ]
    },
    {
     "name": "stdout",
     "output_type": "stream",
     "text": [
      "uploading...\n"
     ]
    },
    {
     "name": "stderr",
     "output_type": "stream",
     "text": [
      " 73%|███████▎  | 10242/14110 [33:21<11:43,  5.50it/s]"
     ]
    },
    {
     "name": "stdout",
     "output_type": "stream",
     "text": [
      "uploading...\n"
     ]
    },
    {
     "name": "stderr",
     "output_type": "stream",
     "text": [
      " 73%|███████▎  | 10262/14110 [33:25<12:21,  5.19it/s]"
     ]
    },
    {
     "name": "stdout",
     "output_type": "stream",
     "text": [
      "uploading...\n"
     ]
    },
    {
     "name": "stderr",
     "output_type": "stream",
     "text": [
      " 73%|███████▎  | 10280/14110 [33:29<12:51,  4.97it/s]"
     ]
    },
    {
     "name": "stdout",
     "output_type": "stream",
     "text": [
      "uploading...\n"
     ]
    },
    {
     "name": "stderr",
     "output_type": "stream",
     "text": [
      " 73%|███████▎  | 10300/14110 [33:32<11:48,  5.37it/s]"
     ]
    },
    {
     "name": "stdout",
     "output_type": "stream",
     "text": [
      "uploading...\n"
     ]
    },
    {
     "name": "stderr",
     "output_type": "stream",
     "text": [
      " 73%|███████▎  | 10315/14110 [33:35<12:04,  5.24it/s]"
     ]
    },
    {
     "name": "stdout",
     "output_type": "stream",
     "text": [
      "uploading...\n"
     ]
    },
    {
     "name": "stderr",
     "output_type": "stream",
     "text": [
      " 73%|███████▎  | 10338/14110 [33:38<10:42,  5.87it/s]"
     ]
    },
    {
     "name": "stdout",
     "output_type": "stream",
     "text": [
      "uploading...\n"
     ]
    },
    {
     "name": "stderr",
     "output_type": "stream",
     "text": [
      " 73%|███████▎  | 10358/14110 [33:41<10:19,  6.05it/s]"
     ]
    },
    {
     "name": "stdout",
     "output_type": "stream",
     "text": [
      "uploading...\n"
     ]
    },
    {
     "name": "stderr",
     "output_type": "stream",
     "text": [
      " 74%|███████▎  | 10376/14110 [33:44<10:28,  5.94it/s]"
     ]
    },
    {
     "name": "stdout",
     "output_type": "stream",
     "text": [
      "uploading...\n"
     ]
    },
    {
     "name": "stderr",
     "output_type": "stream",
     "text": [
      " 74%|███████▎  | 10396/14110 [33:48<11:04,  5.59it/s]"
     ]
    },
    {
     "name": "stdout",
     "output_type": "stream",
     "text": [
      "uploading...\n"
     ]
    },
    {
     "name": "stderr",
     "output_type": "stream",
     "text": [
      " 74%|███████▍  | 10415/14110 [33:52<10:45,  5.73it/s]"
     ]
    },
    {
     "name": "stdout",
     "output_type": "stream",
     "text": [
      "uploading...\n"
     ]
    },
    {
     "name": "stderr",
     "output_type": "stream",
     "text": [
      " 74%|███████▍  | 10425/14110 [33:55<12:26,  4.94it/s]"
     ]
    },
    {
     "name": "stdout",
     "output_type": "stream",
     "text": [
      "uploading...\n"
     ]
    },
    {
     "name": "stderr",
     "output_type": "stream",
     "text": [
      " 74%|███████▍  | 10439/14110 [33:59<13:44,  4.45it/s]"
     ]
    },
    {
     "name": "stdout",
     "output_type": "stream",
     "text": [
      "uploading...\n"
     ]
    },
    {
     "name": "stderr",
     "output_type": "stream",
     "text": [
      " 74%|███████▍  | 10468/14110 [34:03<11:23,  5.33it/s]"
     ]
    },
    {
     "name": "stdout",
     "output_type": "stream",
     "text": [
      "uploading...\n"
     ]
    },
    {
     "name": "stderr",
     "output_type": "stream",
     "text": [
      " 74%|███████▍  | 10485/14110 [34:07<12:12,  4.95it/s]"
     ]
    },
    {
     "name": "stdout",
     "output_type": "stream",
     "text": [
      "uploading...\n"
     ]
    },
    {
     "name": "stderr",
     "output_type": "stream",
     "text": [
      " 74%|███████▍  | 10502/14110 [34:11<12:48,  4.70it/s]"
     ]
    },
    {
     "name": "stdout",
     "output_type": "stream",
     "text": [
      "uploading...\n"
     ]
    },
    {
     "name": "stderr",
     "output_type": "stream",
     "text": [
      " 75%|███████▍  | 10527/14110 [34:14<10:41,  5.59it/s]"
     ]
    },
    {
     "name": "stdout",
     "output_type": "stream",
     "text": [
      "uploading...\n"
     ]
    },
    {
     "name": "stderr",
     "output_type": "stream",
     "text": [
      " 75%|███████▍  | 10557/14110 [34:17<08:53,  6.67it/s]"
     ]
    },
    {
     "name": "stdout",
     "output_type": "stream",
     "text": [
      "uploading...\n"
     ]
    },
    {
     "name": "stderr",
     "output_type": "stream",
     "text": [
      " 75%|███████▍  | 10575/14110 [34:20<09:07,  6.45it/s]"
     ]
    },
    {
     "name": "stdout",
     "output_type": "stream",
     "text": [
      "uploading...\n"
     ]
    },
    {
     "name": "stderr",
     "output_type": "stream",
     "text": [
      " 75%|███████▌  | 10597/14110 [34:23<08:48,  6.64it/s]"
     ]
    },
    {
     "name": "stdout",
     "output_type": "stream",
     "text": [
      "uploading...\n"
     ]
    },
    {
     "name": "stderr",
     "output_type": "stream",
     "text": [
      " 75%|███████▌  | 10618/14110 [34:27<08:46,  6.64it/s]"
     ]
    },
    {
     "name": "stdout",
     "output_type": "stream",
     "text": [
      "uploading...\n"
     ]
    },
    {
     "name": "stderr",
     "output_type": "stream",
     "text": [
      " 75%|███████▌  | 10643/14110 [34:31<08:57,  6.45it/s]"
     ]
    },
    {
     "name": "stdout",
     "output_type": "stream",
     "text": [
      "uploading...\n"
     ]
    },
    {
     "name": "stderr",
     "output_type": "stream",
     "text": [
      " 76%|███████▌  | 10655/14110 [34:34<10:00,  5.76it/s]"
     ]
    },
    {
     "name": "stdout",
     "output_type": "stream",
     "text": [
      "uploading...\n"
     ]
    },
    {
     "name": "stderr",
     "output_type": "stream",
     "text": [
      " 76%|███████▌  | 10668/14110 [34:38<11:52,  4.83it/s]"
     ]
    },
    {
     "name": "stdout",
     "output_type": "stream",
     "text": [
      "uploading...\n"
     ]
    },
    {
     "name": "stderr",
     "output_type": "stream",
     "text": [
      " 76%|███████▌  | 10693/14110 [34:41<09:54,  5.74it/s]"
     ]
    },
    {
     "name": "stdout",
     "output_type": "stream",
     "text": [
      "uploading...\n"
     ]
    },
    {
     "name": "stderr",
     "output_type": "stream",
     "text": [
      " 76%|███████▌  | 10711/14110 [34:45<10:41,  5.30it/s]"
     ]
    },
    {
     "name": "stdout",
     "output_type": "stream",
     "text": [
      "uploading...\n"
     ]
    },
    {
     "name": "stderr",
     "output_type": "stream",
     "text": [
      " 76%|███████▌  | 10727/14110 [34:48<10:47,  5.23it/s]"
     ]
    },
    {
     "name": "stdout",
     "output_type": "stream",
     "text": [
      "uploading...\n"
     ]
    },
    {
     "name": "stderr",
     "output_type": "stream",
     "text": [
      " 76%|███████▌  | 10731/14110 [34:51<13:33,  4.16it/s]"
     ]
    },
    {
     "name": "stdout",
     "output_type": "stream",
     "text": [
      "uploading...\n"
     ]
    },
    {
     "name": "stderr",
     "output_type": "stream",
     "text": [
      " 76%|███████▌  | 10744/14110 [34:54<13:25,  4.18it/s]"
     ]
    },
    {
     "name": "stdout",
     "output_type": "stream",
     "text": [
      "uploading...\n"
     ]
    },
    {
     "name": "stderr",
     "output_type": "stream",
     "text": [
      " 76%|███████▋  | 10776/14110 [34:58<09:25,  5.90it/s]"
     ]
    },
    {
     "name": "stdout",
     "output_type": "stream",
     "text": [
      "uploading...\n"
     ]
    },
    {
     "name": "stderr",
     "output_type": "stream",
     "text": [
      " 76%|███████▋  | 10793/14110 [35:01<09:35,  5.76it/s]"
     ]
    },
    {
     "name": "stdout",
     "output_type": "stream",
     "text": [
      "uploading...\n"
     ]
    },
    {
     "name": "stderr",
     "output_type": "stream",
     "text": [
      " 77%|███████▋  | 10812/14110 [35:04<09:17,  5.91it/s]"
     ]
    },
    {
     "name": "stdout",
     "output_type": "stream",
     "text": [
      "uploading...\n"
     ]
    },
    {
     "name": "stderr",
     "output_type": "stream",
     "text": [
      " 77%|███████▋  | 10823/14110 [35:07<10:34,  5.18it/s]"
     ]
    },
    {
     "name": "stdout",
     "output_type": "stream",
     "text": [
      "uploading...\n"
     ]
    },
    {
     "name": "stderr",
     "output_type": "stream",
     "text": [
      " 77%|███████▋  | 10844/14110 [35:10<09:36,  5.66it/s]"
     ]
    },
    {
     "name": "stdout",
     "output_type": "stream",
     "text": [
      "uploading...\n"
     ]
    },
    {
     "name": "stderr",
     "output_type": "stream",
     "text": [
      " 77%|███████▋  | 10861/14110 [35:14<10:38,  5.09it/s]"
     ]
    },
    {
     "name": "stdout",
     "output_type": "stream",
     "text": [
      "uploading...\n"
     ]
    },
    {
     "name": "stderr",
     "output_type": "stream",
     "text": [
      " 77%|███████▋  | 10891/14110 [35:17<08:26,  6.36it/s]"
     ]
    },
    {
     "name": "stdout",
     "output_type": "stream",
     "text": [
      "uploading...\n"
     ]
    },
    {
     "name": "stderr",
     "output_type": "stream",
     "text": [
      " 77%|███████▋  | 10911/14110 [35:20<08:19,  6.41it/s]"
     ]
    },
    {
     "name": "stdout",
     "output_type": "stream",
     "text": [
      "uploading...\n"
     ]
    },
    {
     "name": "stderr",
     "output_type": "stream",
     "text": [
      " 77%|███████▋  | 10930/14110 [35:23<08:24,  6.30it/s]"
     ]
    },
    {
     "name": "stdout",
     "output_type": "stream",
     "text": [
      "uploading...\n"
     ]
    },
    {
     "name": "stderr",
     "output_type": "stream",
     "text": [
      " 78%|███████▊  | 10950/14110 [35:27<08:21,  6.30it/s]"
     ]
    },
    {
     "name": "stdout",
     "output_type": "stream",
     "text": [
      "uploading...\n"
     ]
    },
    {
     "name": "stderr",
     "output_type": "stream",
     "text": [
      " 78%|███████▊  | 10970/14110 [35:30<08:11,  6.38it/s]"
     ]
    },
    {
     "name": "stdout",
     "output_type": "stream",
     "text": [
      "uploading...\n"
     ]
    },
    {
     "name": "stderr",
     "output_type": "stream",
     "text": [
      " 78%|███████▊  | 10983/14110 [35:34<09:56,  5.24it/s]"
     ]
    },
    {
     "name": "stdout",
     "output_type": "stream",
     "text": [
      "uploading...\n"
     ]
    },
    {
     "name": "stderr",
     "output_type": "stream",
     "text": [
      " 78%|███████▊  | 10996/14110 [35:38<11:34,  4.48it/s]"
     ]
    },
    {
     "name": "stdout",
     "output_type": "stream",
     "text": [
      "uploading...\n"
     ]
    },
    {
     "name": "stderr",
     "output_type": "stream",
     "text": [
      " 78%|███████▊  | 11009/14110 [35:41<11:42,  4.41it/s]"
     ]
    },
    {
     "name": "stdout",
     "output_type": "stream",
     "text": [
      "uploading...\n"
     ]
    },
    {
     "name": "stderr",
     "output_type": "stream",
     "text": [
      " 78%|███████▊  | 11018/14110 [35:50<20:02,  2.57it/s]"
     ]
    },
    {
     "name": "stdout",
     "output_type": "stream",
     "text": [
      "uploading...\n"
     ]
    },
    {
     "name": "stderr",
     "output_type": "stream",
     "text": [
      " 78%|███████▊  | 11028/14110 [35:55<21:27,  2.39it/s]"
     ]
    },
    {
     "name": "stdout",
     "output_type": "stream",
     "text": [
      "uploading...\n"
     ]
    },
    {
     "name": "stderr",
     "output_type": "stream",
     "text": [
      " 78%|███████▊  | 11050/14110 [35:59<15:24,  3.31it/s]"
     ]
    },
    {
     "name": "stdout",
     "output_type": "stream",
     "text": [
      "uploading...\n"
     ]
    },
    {
     "name": "stderr",
     "output_type": "stream",
     "text": [
      " 78%|███████▊  | 11070/14110 [36:03<13:33,  3.74it/s]"
     ]
    },
    {
     "name": "stdout",
     "output_type": "stream",
     "text": [
      "uploading...\n"
     ]
    },
    {
     "name": "stderr",
     "output_type": "stream",
     "text": [
      " 79%|███████▊  | 11096/14110 [36:07<11:16,  4.46it/s]"
     ]
    },
    {
     "name": "stdout",
     "output_type": "stream",
     "text": [
      "uploading...\n"
     ]
    },
    {
     "name": "stderr",
     "output_type": "stream",
     "text": [
      " 79%|███████▊  | 11109/14110 [36:10<11:26,  4.37it/s]"
     ]
    },
    {
     "name": "stdout",
     "output_type": "stream",
     "text": [
      "uploading...\n"
     ]
    },
    {
     "name": "stderr",
     "output_type": "stream",
     "text": [
      " 79%|███████▉  | 11125/14110 [36:14<11:45,  4.23it/s]"
     ]
    },
    {
     "name": "stdout",
     "output_type": "stream",
     "text": [
      "uploading...\n"
     ]
    },
    {
     "name": "stderr",
     "output_type": "stream",
     "text": [
      " 79%|███████▉  | 11169/14110 [36:17<07:16,  6.73it/s]"
     ]
    },
    {
     "name": "stdout",
     "output_type": "stream",
     "text": [
      "uploading...\n"
     ]
    },
    {
     "name": "stderr",
     "output_type": "stream",
     "text": [
      " 79%|███████▉  | 11185/14110 [36:21<07:51,  6.21it/s]"
     ]
    },
    {
     "name": "stdout",
     "output_type": "stream",
     "text": [
      "uploading...\n"
     ]
    },
    {
     "name": "stderr",
     "output_type": "stream",
     "text": [
      " 79%|███████▉  | 11199/14110 [36:24<08:24,  5.77it/s]"
     ]
    },
    {
     "name": "stdout",
     "output_type": "stream",
     "text": [
      "uploading...\n"
     ]
    },
    {
     "name": "stderr",
     "output_type": "stream",
     "text": [
      " 80%|███████▉  | 11223/14110 [36:28<08:16,  5.82it/s]"
     ]
    },
    {
     "name": "stdout",
     "output_type": "stream",
     "text": [
      "uploading...\n"
     ]
    },
    {
     "name": "stderr",
     "output_type": "stream",
     "text": [
      " 80%|███████▉  | 11245/14110 [36:32<08:34,  5.57it/s]"
     ]
    },
    {
     "name": "stdout",
     "output_type": "stream",
     "text": [
      "uploading...\n"
     ]
    },
    {
     "name": "stderr",
     "output_type": "stream",
     "text": [
      " 80%|███████▉  | 11256/14110 [36:36<10:12,  4.66it/s]"
     ]
    },
    {
     "name": "stdout",
     "output_type": "stream",
     "text": [
      "uploading...\n"
     ]
    },
    {
     "name": "stderr",
     "output_type": "stream",
     "text": [
      " 80%|███████▉  | 11270/14110 [36:39<10:13,  4.63it/s]"
     ]
    },
    {
     "name": "stdout",
     "output_type": "stream",
     "text": [
      "uploading...\n"
     ]
    },
    {
     "name": "stderr",
     "output_type": "stream",
     "text": [
      " 80%|████████  | 11295/14110 [36:43<08:35,  5.46it/s]"
     ]
    },
    {
     "name": "stdout",
     "output_type": "stream",
     "text": [
      "uploading...\n"
     ]
    },
    {
     "name": "stderr",
     "output_type": "stream",
     "text": [
      " 80%|████████  | 11316/14110 [36:46<07:58,  5.83it/s]"
     ]
    },
    {
     "name": "stdout",
     "output_type": "stream",
     "text": [
      "uploading...\n"
     ]
    },
    {
     "name": "stderr",
     "output_type": "stream",
     "text": [
      " 80%|████████  | 11334/14110 [36:49<07:53,  5.86it/s]"
     ]
    },
    {
     "name": "stdout",
     "output_type": "stream",
     "text": [
      "uploading...\n"
     ]
    },
    {
     "name": "stderr",
     "output_type": "stream",
     "text": [
      " 80%|████████  | 11344/14110 [36:52<09:02,  5.10it/s]"
     ]
    },
    {
     "name": "stdout",
     "output_type": "stream",
     "text": [
      "uploading...\n"
     ]
    },
    {
     "name": "stderr",
     "output_type": "stream",
     "text": [
      " 81%|████████  | 11363/14110 [36:56<09:16,  4.94it/s]"
     ]
    },
    {
     "name": "stdout",
     "output_type": "stream",
     "text": [
      "uploading...\n"
     ]
    },
    {
     "name": "stderr",
     "output_type": "stream",
     "text": [
      " 81%|████████  | 11394/14110 [37:00<07:46,  5.82it/s]"
     ]
    },
    {
     "name": "stdout",
     "output_type": "stream",
     "text": [
      "uploading...\n"
     ]
    },
    {
     "name": "stderr",
     "output_type": "stream",
     "text": [
      " 81%|████████  | 11431/14110 [37:04<06:27,  6.91it/s]"
     ]
    },
    {
     "name": "stdout",
     "output_type": "stream",
     "text": [
      "uploading...\n"
     ]
    },
    {
     "name": "stderr",
     "output_type": "stream",
     "text": [
      " 81%|████████  | 11451/14110 [37:07<06:30,  6.81it/s]"
     ]
    },
    {
     "name": "stdout",
     "output_type": "stream",
     "text": [
      "uploading...\n"
     ]
    },
    {
     "name": "stderr",
     "output_type": "stream",
     "text": [
      " 81%|████████▏ | 11466/14110 [37:10<07:03,  6.25it/s]"
     ]
    },
    {
     "name": "stdout",
     "output_type": "stream",
     "text": [
      "uploading...\n"
     ]
    },
    {
     "name": "stderr",
     "output_type": "stream",
     "text": [
      " 81%|████████▏ | 11469/14110 [37:15<10:54,  4.03it/s]"
     ]
    },
    {
     "name": "stdout",
     "output_type": "stream",
     "text": [
      "uploading...\n"
     ]
    },
    {
     "name": "stderr",
     "output_type": "stream",
     "text": [
      " 81%|████████▏ | 11485/14110 [37:19<10:57,  3.99it/s]"
     ]
    },
    {
     "name": "stdout",
     "output_type": "stream",
     "text": [
      "uploading...\n"
     ]
    },
    {
     "name": "stderr",
     "output_type": "stream",
     "text": [
      " 82%|████████▏ | 11509/14110 [37:23<08:50,  4.90it/s]"
     ]
    },
    {
     "name": "stdout",
     "output_type": "stream",
     "text": [
      "uploading...\n"
     ]
    },
    {
     "name": "stderr",
     "output_type": "stream",
     "text": [
      " 82%|████████▏ | 11533/14110 [37:26<07:35,  5.66it/s]"
     ]
    },
    {
     "name": "stdout",
     "output_type": "stream",
     "text": [
      "uploading...\n"
     ]
    },
    {
     "name": "stderr",
     "output_type": "stream",
     "text": [
      " 82%|████████▏ | 11556/14110 [37:29<06:52,  6.19it/s]"
     ]
    },
    {
     "name": "stdout",
     "output_type": "stream",
     "text": [
      "uploading...\n"
     ]
    },
    {
     "name": "stderr",
     "output_type": "stream",
     "text": [
      " 82%|████████▏ | 11590/14110 [37:32<05:38,  7.45it/s]"
     ]
    },
    {
     "name": "stdout",
     "output_type": "stream",
     "text": [
      "uploading...\n"
     ]
    },
    {
     "name": "stderr",
     "output_type": "stream",
     "text": [
      " 82%|████████▏ | 11604/14110 [37:36<06:52,  6.07it/s]"
     ]
    },
    {
     "name": "stdout",
     "output_type": "stream",
     "text": [
      "uploading...\n"
     ]
    },
    {
     "name": "stderr",
     "output_type": "stream",
     "text": [
      " 82%|████████▏ | 11627/14110 [37:40<07:00,  5.90it/s]"
     ]
    },
    {
     "name": "stdout",
     "output_type": "stream",
     "text": [
      "uploading...\n"
     ]
    },
    {
     "name": "stderr",
     "output_type": "stream",
     "text": [
      " 83%|████████▎ | 11642/14110 [37:43<07:21,  5.59it/s]"
     ]
    },
    {
     "name": "stdout",
     "output_type": "stream",
     "text": [
      "uploading...\n"
     ]
    },
    {
     "name": "stderr",
     "output_type": "stream",
     "text": [
      " 83%|████████▎ | 11667/14110 [37:48<07:39,  5.32it/s]"
     ]
    },
    {
     "name": "stdout",
     "output_type": "stream",
     "text": [
      "uploading...\n"
     ]
    },
    {
     "name": "stderr",
     "output_type": "stream",
     "text": [
      " 83%|████████▎ | 11692/14110 [37:51<06:40,  6.04it/s]"
     ]
    },
    {
     "name": "stdout",
     "output_type": "stream",
     "text": [
      "uploading...\n"
     ]
    },
    {
     "name": "stderr",
     "output_type": "stream",
     "text": [
      " 83%|████████▎ | 11708/14110 [37:55<07:01,  5.69it/s]"
     ]
    },
    {
     "name": "stdout",
     "output_type": "stream",
     "text": [
      "uploading...\n"
     ]
    },
    {
     "name": "stderr",
     "output_type": "stream",
     "text": [
      " 83%|████████▎ | 11732/14110 [37:59<06:51,  5.79it/s]"
     ]
    },
    {
     "name": "stdout",
     "output_type": "stream",
     "text": [
      "uploading...\n"
     ]
    },
    {
     "name": "stderr",
     "output_type": "stream",
     "text": [
      " 83%|████████▎ | 11752/14110 [38:03<07:08,  5.50it/s]"
     ]
    },
    {
     "name": "stdout",
     "output_type": "stream",
     "text": [
      "uploading...\n"
     ]
    },
    {
     "name": "stderr",
     "output_type": "stream",
     "text": [
      " 83%|████████▎ | 11772/14110 [38:08<07:59,  4.88it/s]"
     ]
    },
    {
     "name": "stdout",
     "output_type": "stream",
     "text": [
      "uploading...\n"
     ]
    },
    {
     "name": "stderr",
     "output_type": "stream",
     "text": [
      " 83%|████████▎ | 11776/14110 [38:17<14:11,  2.74it/s]"
     ]
    },
    {
     "name": "stdout",
     "output_type": "stream",
     "text": [
      "uploading...\n"
     ]
    },
    {
     "name": "stderr",
     "output_type": "stream",
     "text": [
      " 84%|████████▎ | 11794/14110 [38:22<12:26,  3.10it/s]"
     ]
    },
    {
     "name": "stdout",
     "output_type": "stream",
     "text": [
      "uploading...\n"
     ]
    },
    {
     "name": "stderr",
     "output_type": "stream",
     "text": [
      " 84%|████████▎ | 11812/14110 [38:25<10:30,  3.64it/s]"
     ]
    },
    {
     "name": "stdout",
     "output_type": "stream",
     "text": [
      "uploading...\n"
     ]
    },
    {
     "name": "stderr",
     "output_type": "stream",
     "text": [
      " 84%|████████▍ | 11836/14110 [38:28<08:16,  4.58it/s]"
     ]
    },
    {
     "name": "stdout",
     "output_type": "stream",
     "text": [
      "uploading...\n"
     ]
    },
    {
     "name": "stderr",
     "output_type": "stream",
     "text": [
      " 84%|████████▍ | 11840/14110 [38:31<10:08,  3.73it/s]"
     ]
    },
    {
     "name": "stdout",
     "output_type": "stream",
     "text": [
      "uploading...\n"
     ]
    },
    {
     "name": "stderr",
     "output_type": "stream",
     "text": [
      " 84%|████████▍ | 11864/14110 [38:34<07:52,  4.75it/s]"
     ]
    },
    {
     "name": "stdout",
     "output_type": "stream",
     "text": [
      "uploading...\n"
     ]
    },
    {
     "name": "stderr",
     "output_type": "stream",
     "text": [
      " 84%|████████▍ | 11875/14110 [38:37<08:23,  4.44it/s]"
     ]
    },
    {
     "name": "stdout",
     "output_type": "stream",
     "text": [
      "uploading...\n"
     ]
    },
    {
     "name": "stderr",
     "output_type": "stream",
     "text": [
      " 84%|████████▍ | 11892/14110 [38:41<08:39,  4.27it/s]"
     ]
    },
    {
     "name": "stdout",
     "output_type": "stream",
     "text": [
      "uploading...\n"
     ]
    },
    {
     "name": "stderr",
     "output_type": "stream",
     "text": [
      " 84%|████████▍ | 11913/14110 [38:45<07:24,  4.94it/s]"
     ]
    },
    {
     "name": "stdout",
     "output_type": "stream",
     "text": [
      "uploading...\n"
     ]
    },
    {
     "name": "stderr",
     "output_type": "stream",
     "text": [
      " 85%|████████▍ | 11928/14110 [38:48<07:23,  4.92it/s]"
     ]
    },
    {
     "name": "stdout",
     "output_type": "stream",
     "text": [
      "uploading...\n"
     ]
    },
    {
     "name": "stderr",
     "output_type": "stream",
     "text": [
      " 85%|████████▍ | 11959/14110 [38:51<05:44,  6.24it/s]"
     ]
    },
    {
     "name": "stdout",
     "output_type": "stream",
     "text": [
      "uploading...\n"
     ]
    },
    {
     "name": "stderr",
     "output_type": "stream",
     "text": [
      " 85%|████████▍ | 11966/14110 [38:57<08:59,  3.98it/s]"
     ]
    },
    {
     "name": "stdout",
     "output_type": "stream",
     "text": [
      "uploading...\n"
     ]
    },
    {
     "name": "stderr",
     "output_type": "stream",
     "text": [
      " 85%|████████▍ | 11981/14110 [39:01<09:03,  3.92it/s]"
     ]
    },
    {
     "name": "stdout",
     "output_type": "stream",
     "text": [
      "uploading...\n"
     ]
    },
    {
     "name": "stderr",
     "output_type": "stream",
     "text": [
      " 85%|████████▌ | 12002/14110 [39:04<07:36,  4.62it/s]"
     ]
    },
    {
     "name": "stdout",
     "output_type": "stream",
     "text": [
      "uploading...\n"
     ]
    },
    {
     "name": "stderr",
     "output_type": "stream",
     "text": [
      " 85%|████████▌ | 12019/14110 [39:07<07:10,  4.86it/s]"
     ]
    },
    {
     "name": "stdout",
     "output_type": "stream",
     "text": [
      "uploading...\n"
     ]
    },
    {
     "name": "stderr",
     "output_type": "stream",
     "text": [
      " 85%|████████▌ | 12033/14110 [39:11<07:23,  4.68it/s]"
     ]
    },
    {
     "name": "stdout",
     "output_type": "stream",
     "text": [
      "uploading...\n"
     ]
    },
    {
     "name": "stderr",
     "output_type": "stream",
     "text": [
      " 85%|████████▌ | 12047/14110 [39:14<07:55,  4.34it/s]"
     ]
    },
    {
     "name": "stdout",
     "output_type": "stream",
     "text": [
      "uploading...\n"
     ]
    },
    {
     "name": "stderr",
     "output_type": "stream",
     "text": [
      " 86%|████████▌ | 12072/14110 [39:18<06:24,  5.29it/s]"
     ]
    },
    {
     "name": "stdout",
     "output_type": "stream",
     "text": [
      "uploading...\n"
     ]
    },
    {
     "name": "stderr",
     "output_type": "stream",
     "text": [
      " 86%|████████▌ | 12095/14110 [39:22<06:09,  5.46it/s]"
     ]
    },
    {
     "name": "stdout",
     "output_type": "stream",
     "text": [
      "uploading...\n"
     ]
    },
    {
     "name": "stderr",
     "output_type": "stream",
     "text": [
      " 86%|████████▌ | 12113/14110 [39:25<05:59,  5.56it/s]"
     ]
    },
    {
     "name": "stdout",
     "output_type": "stream",
     "text": [
      "uploading...\n"
     ]
    },
    {
     "name": "stderr",
     "output_type": "stream",
     "text": [
      " 86%|████████▌ | 12132/14110 [39:28<05:44,  5.73it/s]"
     ]
    },
    {
     "name": "stdout",
     "output_type": "stream",
     "text": [
      "uploading...\n"
     ]
    },
    {
     "name": "stderr",
     "output_type": "stream",
     "text": [
      " 86%|████████▌ | 12167/14110 [39:31<04:29,  7.21it/s]"
     ]
    },
    {
     "name": "stdout",
     "output_type": "stream",
     "text": [
      "uploading...\n"
     ]
    },
    {
     "name": "stderr",
     "output_type": "stream",
     "text": [
      " 86%|████████▋ | 12182/14110 [39:34<04:52,  6.59it/s]"
     ]
    },
    {
     "name": "stdout",
     "output_type": "stream",
     "text": [
      "uploading...\n"
     ]
    },
    {
     "name": "stderr",
     "output_type": "stream",
     "text": [
      " 86%|████████▋ | 12188/14110 [39:37<06:06,  5.25it/s]"
     ]
    },
    {
     "name": "stdout",
     "output_type": "stream",
     "text": [
      "uploading...\n"
     ]
    },
    {
     "name": "stderr",
     "output_type": "stream",
     "text": [
      " 87%|████████▋ | 12213/14110 [39:40<05:17,  5.98it/s]"
     ]
    },
    {
     "name": "stdout",
     "output_type": "stream",
     "text": [
      "uploading...\n"
     ]
    },
    {
     "name": "stderr",
     "output_type": "stream",
     "text": [
      " 87%|████████▋ | 12219/14110 [39:43<06:33,  4.81it/s]"
     ]
    },
    {
     "name": "stdout",
     "output_type": "stream",
     "text": [
      "uploading...\n"
     ]
    },
    {
     "name": "stderr",
     "output_type": "stream",
     "text": [
      " 87%|████████▋ | 12247/14110 [39:46<05:06,  6.07it/s]"
     ]
    },
    {
     "name": "stdout",
     "output_type": "stream",
     "text": [
      "uploading...\n"
     ]
    },
    {
     "name": "stderr",
     "output_type": "stream",
     "text": [
      " 87%|████████▋ | 12264/14110 [39:50<05:12,  5.92it/s]"
     ]
    },
    {
     "name": "stdout",
     "output_type": "stream",
     "text": [
      "uploading...\n"
     ]
    },
    {
     "name": "stderr",
     "output_type": "stream",
     "text": [
      " 87%|████████▋ | 12273/14110 [39:53<06:05,  5.03it/s]"
     ]
    },
    {
     "name": "stdout",
     "output_type": "stream",
     "text": [
      "uploading...\n"
     ]
    },
    {
     "name": "stderr",
     "output_type": "stream",
     "text": [
      " 87%|████████▋ | 12297/14110 [40:01<07:43,  3.91it/s]"
     ]
    },
    {
     "name": "stdout",
     "output_type": "stream",
     "text": [
      "uploading...\n"
     ]
    },
    {
     "name": "stderr",
     "output_type": "stream",
     "text": [
      " 87%|████████▋ | 12317/14110 [40:05<07:08,  4.18it/s]"
     ]
    },
    {
     "name": "stdout",
     "output_type": "stream",
     "text": [
      "uploading...\n"
     ]
    },
    {
     "name": "stderr",
     "output_type": "stream",
     "text": [
      " 87%|████████▋ | 12336/14110 [40:09<06:51,  4.31it/s]"
     ]
    },
    {
     "name": "stdout",
     "output_type": "stream",
     "text": [
      "uploading...\n"
     ]
    },
    {
     "name": "stderr",
     "output_type": "stream",
     "text": [
      " 88%|████████▊ | 12357/14110 [40:12<05:58,  4.90it/s]"
     ]
    },
    {
     "name": "stdout",
     "output_type": "stream",
     "text": [
      "uploading...\n"
     ]
    },
    {
     "name": "stderr",
     "output_type": "stream",
     "text": [
      " 88%|████████▊ | 12373/14110 [40:15<05:48,  4.99it/s]"
     ]
    },
    {
     "name": "stdout",
     "output_type": "stream",
     "text": [
      "uploading...\n"
     ]
    },
    {
     "name": "stderr",
     "output_type": "stream",
     "text": [
      " 88%|████████▊ | 12398/14110 [40:19<05:19,  5.35it/s]"
     ]
    },
    {
     "name": "stdout",
     "output_type": "stream",
     "text": [
      "uploading...\n"
     ]
    },
    {
     "name": "stderr",
     "output_type": "stream",
     "text": [
      " 88%|████████▊ | 12415/14110 [40:22<05:17,  5.33it/s]"
     ]
    },
    {
     "name": "stdout",
     "output_type": "stream",
     "text": [
      "uploading...\n"
     ]
    },
    {
     "name": "stderr",
     "output_type": "stream",
     "text": [
      " 88%|████████▊ | 12434/14110 [40:31<07:14,  3.86it/s]"
     ]
    },
    {
     "name": "stdout",
     "output_type": "stream",
     "text": [
      "uploading...\n"
     ]
    },
    {
     "name": "stderr",
     "output_type": "stream",
     "text": [
      " 88%|████████▊ | 12456/14110 [40:34<06:03,  4.55it/s]"
     ]
    },
    {
     "name": "stdout",
     "output_type": "stream",
     "text": [
      "uploading...\n"
     ]
    },
    {
     "name": "stderr",
     "output_type": "stream",
     "text": [
      " 88%|████████▊ | 12469/14110 [40:37<06:07,  4.46it/s]"
     ]
    },
    {
     "name": "stdout",
     "output_type": "stream",
     "text": [
      "uploading...\n"
     ]
    },
    {
     "name": "stderr",
     "output_type": "stream",
     "text": [
      " 89%|████████▊ | 12490/14110 [40:41<05:48,  4.64it/s]"
     ]
    },
    {
     "name": "stdout",
     "output_type": "stream",
     "text": [
      "uploading...\n"
     ]
    },
    {
     "name": "stderr",
     "output_type": "stream",
     "text": [
      " 89%|████████▊ | 12503/14110 [40:44<05:53,  4.54it/s]"
     ]
    },
    {
     "name": "stdout",
     "output_type": "stream",
     "text": [
      "uploading...\n"
     ]
    },
    {
     "name": "stderr",
     "output_type": "stream",
     "text": [
      " 89%|████████▊ | 12513/14110 [40:47<06:20,  4.20it/s]"
     ]
    },
    {
     "name": "stdout",
     "output_type": "stream",
     "text": [
      "uploading...\n"
     ]
    },
    {
     "name": "stderr",
     "output_type": "stream",
     "text": [
      " 89%|████████▊ | 12520/14110 [40:50<07:20,  3.61it/s]"
     ]
    },
    {
     "name": "stdout",
     "output_type": "stream",
     "text": [
      "uploading...\n"
     ]
    },
    {
     "name": "stderr",
     "output_type": "stream",
     "text": [
      " 89%|████████▉ | 12532/14110 [40:53<07:03,  3.73it/s]"
     ]
    },
    {
     "name": "stdout",
     "output_type": "stream",
     "text": [
      "uploading...\n"
     ]
    },
    {
     "name": "stderr",
     "output_type": "stream",
     "text": [
      " 89%|████████▉ | 12545/14110 [40:57<07:22,  3.54it/s]"
     ]
    },
    {
     "name": "stdout",
     "output_type": "stream",
     "text": [
      "uploading...\n"
     ]
    },
    {
     "name": "stderr",
     "output_type": "stream",
     "text": [
      " 89%|████████▉ | 12555/14110 [41:01<07:37,  3.40it/s]"
     ]
    },
    {
     "name": "stdout",
     "output_type": "stream",
     "text": [
      "uploading...\n"
     ]
    },
    {
     "name": "stderr",
     "output_type": "stream",
     "text": [
      " 89%|████████▉ | 12570/14110 [41:05<07:19,  3.51it/s]"
     ]
    },
    {
     "name": "stdout",
     "output_type": "stream",
     "text": [
      "uploading...\n"
     ]
    },
    {
     "name": "stderr",
     "output_type": "stream",
     "text": [
      " 89%|████████▉ | 12587/14110 [41:08<06:18,  4.02it/s]"
     ]
    },
    {
     "name": "stdout",
     "output_type": "stream",
     "text": [
      "uploading...\n"
     ]
    },
    {
     "name": "stderr",
     "output_type": "stream",
     "text": [
      " 89%|████████▉ | 12597/14110 [41:15<09:14,  2.73it/s]"
     ]
    },
    {
     "name": "stdout",
     "output_type": "stream",
     "text": [
      "uploading...\n"
     ]
    },
    {
     "name": "stderr",
     "output_type": "stream",
     "text": [
      " 89%|████████▉ | 12613/14110 [41:20<08:12,  3.04it/s]"
     ]
    },
    {
     "name": "stdout",
     "output_type": "stream",
     "text": [
      "uploading...\n"
     ]
    },
    {
     "name": "stderr",
     "output_type": "stream",
     "text": [
      " 90%|████████▉ | 12640/14110 [41:24<06:02,  4.06it/s]"
     ]
    },
    {
     "name": "stdout",
     "output_type": "stream",
     "text": [
      "uploading...\n"
     ]
    },
    {
     "name": "stderr",
     "output_type": "stream",
     "text": [
      " 90%|████████▉ | 12662/14110 [41:27<05:03,  4.77it/s]"
     ]
    },
    {
     "name": "stdout",
     "output_type": "stream",
     "text": [
      "uploading...\n"
     ]
    },
    {
     "name": "stderr",
     "output_type": "stream",
     "text": [
      " 90%|████████▉ | 12672/14110 [41:30<05:29,  4.36it/s]"
     ]
    },
    {
     "name": "stdout",
     "output_type": "stream",
     "text": [
      "uploading...\n"
     ]
    },
    {
     "name": "stderr",
     "output_type": "stream",
     "text": [
      " 90%|████████▉ | 12688/14110 [41:33<05:10,  4.58it/s]"
     ]
    },
    {
     "name": "stdout",
     "output_type": "stream",
     "text": [
      "uploading...\n"
     ]
    },
    {
     "name": "stderr",
     "output_type": "stream",
     "text": [
      " 90%|█████████ | 12720/14110 [41:37<04:03,  5.71it/s]"
     ]
    },
    {
     "name": "stdout",
     "output_type": "stream",
     "text": [
      "uploading...\n"
     ]
    },
    {
     "name": "stderr",
     "output_type": "stream",
     "text": [
      " 90%|█████████ | 12741/14110 [41:41<04:08,  5.51it/s]"
     ]
    },
    {
     "name": "stdout",
     "output_type": "stream",
     "text": [
      "uploading...\n"
     ]
    },
    {
     "name": "stderr",
     "output_type": "stream",
     "text": [
      " 90%|█████████ | 12751/14110 [41:44<04:34,  4.95it/s]"
     ]
    },
    {
     "name": "stdout",
     "output_type": "stream",
     "text": [
      "uploading...\n"
     ]
    },
    {
     "name": "stderr",
     "output_type": "stream",
     "text": [
      " 91%|█████████ | 12780/14110 [41:47<03:38,  6.08it/s]"
     ]
    },
    {
     "name": "stdout",
     "output_type": "stream",
     "text": [
      "uploading...\n"
     ]
    },
    {
     "name": "stderr",
     "output_type": "stream",
     "text": [
      " 91%|█████████ | 12804/14110 [41:50<03:19,  6.56it/s]"
     ]
    },
    {
     "name": "stdout",
     "output_type": "stream",
     "text": [
      "uploading...\n"
     ]
    },
    {
     "name": "stderr",
     "output_type": "stream",
     "text": [
      " 91%|█████████ | 12821/14110 [41:57<04:27,  4.82it/s]"
     ]
    },
    {
     "name": "stdout",
     "output_type": "stream",
     "text": [
      "uploading...\n"
     ]
    },
    {
     "name": "stderr",
     "output_type": "stream",
     "text": [
      " 91%|█████████ | 12835/14110 [42:01<04:47,  4.44it/s]"
     ]
    },
    {
     "name": "stdout",
     "output_type": "stream",
     "text": [
      "uploading...\n"
     ]
    },
    {
     "name": "stderr",
     "output_type": "stream",
     "text": [
      " 91%|█████████ | 12850/14110 [42:04<04:36,  4.56it/s]"
     ]
    },
    {
     "name": "stdout",
     "output_type": "stream",
     "text": [
      "uploading...\n"
     ]
    },
    {
     "name": "stderr",
     "output_type": "stream",
     "text": [
      " 91%|█████████ | 12869/14110 [42:07<04:10,  4.96it/s]"
     ]
    },
    {
     "name": "stdout",
     "output_type": "stream",
     "text": [
      "uploading...\n"
     ]
    },
    {
     "name": "stderr",
     "output_type": "stream",
     "text": [
      " 91%|█████████▏| 12894/14110 [42:11<03:48,  5.33it/s]"
     ]
    },
    {
     "name": "stdout",
     "output_type": "stream",
     "text": [
      "uploading...\n"
     ]
    },
    {
     "name": "stderr",
     "output_type": "stream",
     "text": [
      " 92%|█████████▏| 12913/14110 [42:15<03:54,  5.11it/s]"
     ]
    },
    {
     "name": "stdout",
     "output_type": "stream",
     "text": [
      "uploading...\n"
     ]
    },
    {
     "name": "stderr",
     "output_type": "stream",
     "text": [
      " 92%|█████████▏| 12925/14110 [42:19<04:25,  4.46it/s]"
     ]
    },
    {
     "name": "stdout",
     "output_type": "stream",
     "text": [
      "uploading...\n"
     ]
    },
    {
     "name": "stderr",
     "output_type": "stream",
     "text": [
      " 92%|█████████▏| 12941/14110 [42:24<04:55,  3.96it/s]"
     ]
    },
    {
     "name": "stdout",
     "output_type": "stream",
     "text": [
      "uploading...\n"
     ]
    },
    {
     "name": "stderr",
     "output_type": "stream",
     "text": [
      " 92%|█████████▏| 12966/14110 [42:27<03:49,  4.98it/s]"
     ]
    },
    {
     "name": "stdout",
     "output_type": "stream",
     "text": [
      "uploading...\n"
     ]
    },
    {
     "name": "stderr",
     "output_type": "stream",
     "text": [
      " 92%|█████████▏| 12990/14110 [42:30<03:18,  5.64it/s]"
     ]
    },
    {
     "name": "stdout",
     "output_type": "stream",
     "text": [
      "uploading...\n"
     ]
    },
    {
     "name": "stderr",
     "output_type": "stream",
     "text": [
      " 92%|█████████▏| 13013/14110 [42:33<02:57,  6.18it/s]"
     ]
    },
    {
     "name": "stdout",
     "output_type": "stream",
     "text": [
      "uploading...\n"
     ]
    },
    {
     "name": "stderr",
     "output_type": "stream",
     "text": [
      " 92%|█████████▏| 13034/14110 [42:36<02:50,  6.31it/s]"
     ]
    },
    {
     "name": "stdout",
     "output_type": "stream",
     "text": [
      "uploading...\n"
     ]
    },
    {
     "name": "stderr",
     "output_type": "stream",
     "text": [
      " 92%|█████████▏| 13045/14110 [42:40<03:12,  5.54it/s]"
     ]
    },
    {
     "name": "stdout",
     "output_type": "stream",
     "text": [
      "uploading...\n"
     ]
    },
    {
     "name": "stderr",
     "output_type": "stream",
     "text": [
      " 93%|█████████▎| 13064/14110 [42:44<03:20,  5.23it/s]"
     ]
    },
    {
     "name": "stdout",
     "output_type": "stream",
     "text": [
      "uploading...\n"
     ]
    },
    {
     "name": "stderr",
     "output_type": "stream",
     "text": [
      " 93%|█████████▎| 13088/14110 [42:47<02:52,  5.93it/s]"
     ]
    },
    {
     "name": "stdout",
     "output_type": "stream",
     "text": [
      "uploading...\n"
     ]
    },
    {
     "name": "stderr",
     "output_type": "stream",
     "text": [
      " 93%|█████████▎| 13106/14110 [42:50<02:53,  5.80it/s]"
     ]
    },
    {
     "name": "stdout",
     "output_type": "stream",
     "text": [
      "uploading...\n"
     ]
    },
    {
     "name": "stderr",
     "output_type": "stream",
     "text": [
      " 93%|█████████▎| 13118/14110 [42:54<03:24,  4.86it/s]"
     ]
    },
    {
     "name": "stdout",
     "output_type": "stream",
     "text": [
      "uploading...\n"
     ]
    },
    {
     "name": "stderr",
     "output_type": "stream",
     "text": [
      " 93%|█████████▎| 13132/14110 [42:58<03:45,  4.34it/s]"
     ]
    },
    {
     "name": "stdout",
     "output_type": "stream",
     "text": [
      "uploading...\n"
     ]
    },
    {
     "name": "stderr",
     "output_type": "stream",
     "text": [
      " 93%|█████████▎| 13155/14110 [43:01<03:04,  5.17it/s]"
     ]
    },
    {
     "name": "stdout",
     "output_type": "stream",
     "text": [
      "uploading...\n"
     ]
    },
    {
     "name": "stderr",
     "output_type": "stream",
     "text": [
      " 93%|█████████▎| 13166/14110 [43:05<03:35,  4.39it/s]"
     ]
    },
    {
     "name": "stdout",
     "output_type": "stream",
     "text": [
      "uploading...\n"
     ]
    },
    {
     "name": "stderr",
     "output_type": "stream",
     "text": [
      " 94%|█████████▎| 13194/14110 [43:08<02:42,  5.62it/s]"
     ]
    },
    {
     "name": "stdout",
     "output_type": "stream",
     "text": [
      "uploading...\n"
     ]
    },
    {
     "name": "stderr",
     "output_type": "stream",
     "text": [
      " 94%|█████████▎| 13209/14110 [43:11<02:47,  5.37it/s]"
     ]
    },
    {
     "name": "stdout",
     "output_type": "stream",
     "text": [
      "uploading...\n"
     ]
    },
    {
     "name": "stderr",
     "output_type": "stream",
     "text": [
      " 94%|█████████▍| 13236/14110 [43:15<02:18,  6.32it/s]"
     ]
    },
    {
     "name": "stdout",
     "output_type": "stream",
     "text": [
      "uploading...\n"
     ]
    },
    {
     "name": "stderr",
     "output_type": "stream",
     "text": [
      " 94%|█████████▍| 13251/14110 [43:18<02:25,  5.91it/s]"
     ]
    },
    {
     "name": "stdout",
     "output_type": "stream",
     "text": [
      "uploading...\n"
     ]
    },
    {
     "name": "stderr",
     "output_type": "stream",
     "text": [
      " 94%|█████████▍| 13269/14110 [43:21<02:22,  5.90it/s]"
     ]
    },
    {
     "name": "stdout",
     "output_type": "stream",
     "text": [
      "uploading...\n"
     ]
    },
    {
     "name": "stderr",
     "output_type": "stream",
     "text": [
      " 94%|█████████▍| 13286/14110 [43:25<02:36,  5.27it/s]"
     ]
    },
    {
     "name": "stdout",
     "output_type": "stream",
     "text": [
      "uploading...\n"
     ]
    },
    {
     "name": "stderr",
     "output_type": "stream",
     "text": [
      " 94%|█████████▍| 13302/14110 [43:28<02:33,  5.26it/s]"
     ]
    },
    {
     "name": "stdout",
     "output_type": "stream",
     "text": [
      "uploading...\n"
     ]
    },
    {
     "name": "stderr",
     "output_type": "stream",
     "text": [
      " 94%|█████████▍| 13329/14110 [43:32<02:17,  5.67it/s]"
     ]
    },
    {
     "name": "stdout",
     "output_type": "stream",
     "text": [
      "uploading...\n"
     ]
    },
    {
     "name": "stderr",
     "output_type": "stream",
     "text": [
      " 95%|█████████▍| 13348/14110 [43:35<02:11,  5.81it/s]"
     ]
    },
    {
     "name": "stdout",
     "output_type": "stream",
     "text": [
      "uploading...\n"
     ]
    },
    {
     "name": "stderr",
     "output_type": "stream",
     "text": [
      " 95%|█████████▍| 13372/14110 [43:38<01:56,  6.36it/s]"
     ]
    },
    {
     "name": "stdout",
     "output_type": "stream",
     "text": [
      "uploading...\n"
     ]
    },
    {
     "name": "stderr",
     "output_type": "stream",
     "text": [
      " 95%|█████████▍| 13391/14110 [43:41<01:54,  6.25it/s]"
     ]
    },
    {
     "name": "stdout",
     "output_type": "stream",
     "text": [
      "uploading...\n"
     ]
    },
    {
     "name": "stderr",
     "output_type": "stream",
     "text": [
      " 95%|█████████▍| 13404/14110 [43:44<02:04,  5.67it/s]"
     ]
    },
    {
     "name": "stdout",
     "output_type": "stream",
     "text": [
      "uploading...\n"
     ]
    },
    {
     "name": "stderr",
     "output_type": "stream",
     "text": [
      " 95%|█████████▌| 13420/14110 [43:49<02:16,  5.05it/s]"
     ]
    },
    {
     "name": "stdout",
     "output_type": "stream",
     "text": [
      "uploading...\n"
     ]
    },
    {
     "name": "stderr",
     "output_type": "stream",
     "text": [
      " 95%|█████████▌| 13445/14110 [43:54<02:14,  4.95it/s]"
     ]
    },
    {
     "name": "stdout",
     "output_type": "stream",
     "text": [
      "uploading...\n"
     ]
    },
    {
     "name": "stderr",
     "output_type": "stream",
     "text": [
      " 95%|█████████▌| 13462/14110 [43:58<02:17,  4.70it/s]"
     ]
    },
    {
     "name": "stdout",
     "output_type": "stream",
     "text": [
      "uploading...\n"
     ]
    },
    {
     "name": "stderr",
     "output_type": "stream",
     "text": [
      " 96%|█████████▌| 13476/14110 [44:02<02:28,  4.28it/s]"
     ]
    },
    {
     "name": "stdout",
     "output_type": "stream",
     "text": [
      "uploading...\n"
     ]
    },
    {
     "name": "stderr",
     "output_type": "stream",
     "text": [
      " 96%|█████████▌| 13483/14110 [44:05<02:45,  3.79it/s]"
     ]
    },
    {
     "name": "stdout",
     "output_type": "stream",
     "text": [
      "uploading...\n"
     ]
    },
    {
     "name": "stderr",
     "output_type": "stream",
     "text": [
      " 96%|█████████▌| 13505/14110 [44:08<02:08,  4.70it/s]"
     ]
    },
    {
     "name": "stdout",
     "output_type": "stream",
     "text": [
      "uploading...\n"
     ]
    },
    {
     "name": "stderr",
     "output_type": "stream",
     "text": [
      " 96%|█████████▌| 13520/14110 [44:11<02:06,  4.67it/s]"
     ]
    },
    {
     "name": "stdout",
     "output_type": "stream",
     "text": [
      "uploading...\n"
     ]
    },
    {
     "name": "stderr",
     "output_type": "stream",
     "text": [
      " 96%|█████████▌| 13534/14110 [44:14<02:04,  4.64it/s]"
     ]
    },
    {
     "name": "stdout",
     "output_type": "stream",
     "text": [
      "uploading...\n"
     ]
    },
    {
     "name": "stderr",
     "output_type": "stream",
     "text": [
      " 96%|█████████▌| 13556/14110 [44:17<01:43,  5.37it/s]"
     ]
    },
    {
     "name": "stdout",
     "output_type": "stream",
     "text": [
      "uploading...\n"
     ]
    },
    {
     "name": "stderr",
     "output_type": "stream",
     "text": [
      " 96%|█████████▌| 13579/14110 [44:21<01:30,  5.85it/s]"
     ]
    },
    {
     "name": "stdout",
     "output_type": "stream",
     "text": [
      "uploading...\n"
     ]
    },
    {
     "name": "stderr",
     "output_type": "stream",
     "text": [
      " 96%|█████████▋| 13600/14110 [44:25<01:31,  5.55it/s]"
     ]
    },
    {
     "name": "stdout",
     "output_type": "stream",
     "text": [
      "uploading...\n"
     ]
    },
    {
     "name": "stderr",
     "output_type": "stream",
     "text": [
      " 96%|█████████▋| 13601/14110 [44:31<02:34,  3.30it/s]"
     ]
    },
    {
     "name": "stdout",
     "output_type": "stream",
     "text": [
      "uploading...\n"
     ]
    },
    {
     "name": "stderr",
     "output_type": "stream",
     "text": [
      " 96%|█████████▋| 13616/14110 [44:34<02:16,  3.62it/s]"
     ]
    },
    {
     "name": "stdout",
     "output_type": "stream",
     "text": [
      "uploading...\n"
     ]
    },
    {
     "name": "stderr",
     "output_type": "stream",
     "text": [
      " 97%|█████████▋| 13635/14110 [44:37<01:51,  4.26it/s]"
     ]
    },
    {
     "name": "stdout",
     "output_type": "stream",
     "text": [
      "uploading...\n"
     ]
    },
    {
     "name": "stderr",
     "output_type": "stream",
     "text": [
      " 97%|█████████▋| 13658/14110 [44:40<01:28,  5.10it/s]"
     ]
    },
    {
     "name": "stdout",
     "output_type": "stream",
     "text": [
      "uploading...\n"
     ]
    },
    {
     "name": "stderr",
     "output_type": "stream",
     "text": [
      " 97%|█████████▋| 13673/14110 [44:44<01:34,  4.62it/s]"
     ]
    },
    {
     "name": "stdout",
     "output_type": "stream",
     "text": [
      "uploading...\n"
     ]
    },
    {
     "name": "stderr",
     "output_type": "stream",
     "text": [
      " 97%|█████████▋| 13683/14110 [44:48<01:40,  4.26it/s]"
     ]
    },
    {
     "name": "stdout",
     "output_type": "stream",
     "text": [
      "uploading...\n"
     ]
    },
    {
     "name": "stderr",
     "output_type": "stream",
     "text": [
      " 97%|█████████▋| 13696/14110 [44:51<01:37,  4.25it/s]"
     ]
    },
    {
     "name": "stdout",
     "output_type": "stream",
     "text": [
      "uploading...\n"
     ]
    },
    {
     "name": "stderr",
     "output_type": "stream",
     "text": [
      " 97%|█████████▋| 13720/14110 [44:54<01:14,  5.25it/s]"
     ]
    },
    {
     "name": "stdout",
     "output_type": "stream",
     "text": [
      "uploading...\n"
     ]
    },
    {
     "name": "stderr",
     "output_type": "stream",
     "text": [
      " 97%|█████████▋| 13739/14110 [44:57<01:07,  5.52it/s]"
     ]
    },
    {
     "name": "stdout",
     "output_type": "stream",
     "text": [
      "uploading...\n"
     ]
    },
    {
     "name": "stderr",
     "output_type": "stream",
     "text": [
      " 98%|█████████▊| 13769/14110 [45:00<00:50,  6.75it/s]"
     ]
    },
    {
     "name": "stdout",
     "output_type": "stream",
     "text": [
      "uploading...\n"
     ]
    },
    {
     "name": "stderr",
     "output_type": "stream",
     "text": [
      " 98%|█████████▊| 13780/14110 [45:04<01:02,  5.32it/s]"
     ]
    },
    {
     "name": "stdout",
     "output_type": "stream",
     "text": [
      "uploading...\n"
     ]
    },
    {
     "name": "stderr",
     "output_type": "stream",
     "text": [
      " 98%|█████████▊| 13788/14110 [45:08<01:17,  4.17it/s]"
     ]
    },
    {
     "name": "stdout",
     "output_type": "stream",
     "text": [
      "uploading...\n"
     ]
    },
    {
     "name": "stderr",
     "output_type": "stream",
     "text": [
      " 98%|█████████▊| 13808/14110 [45:11<01:02,  4.82it/s]"
     ]
    },
    {
     "name": "stdout",
     "output_type": "stream",
     "text": [
      "uploading...\n"
     ]
    },
    {
     "name": "stderr",
     "output_type": "stream",
     "text": [
      " 98%|█████████▊| 13825/14110 [45:14<00:56,  5.01it/s]"
     ]
    },
    {
     "name": "stdout",
     "output_type": "stream",
     "text": [
      "uploading...\n"
     ]
    },
    {
     "name": "stderr",
     "output_type": "stream",
     "text": [
      " 98%|█████████▊| 13833/14110 [45:17<01:04,  4.31it/s]"
     ]
    },
    {
     "name": "stdout",
     "output_type": "stream",
     "text": [
      "uploading...\n"
     ]
    },
    {
     "name": "stderr",
     "output_type": "stream",
     "text": [
      " 98%|█████████▊| 13850/14110 [45:20<00:56,  4.62it/s]"
     ]
    },
    {
     "name": "stdout",
     "output_type": "stream",
     "text": [
      "uploading...\n"
     ]
    },
    {
     "name": "stderr",
     "output_type": "stream",
     "text": [
      " 98%|█████████▊| 13861/14110 [45:25<01:08,  3.65it/s]"
     ]
    },
    {
     "name": "stdout",
     "output_type": "stream",
     "text": [
      "uploading...\n"
     ]
    },
    {
     "name": "stderr",
     "output_type": "stream",
     "text": [
      " 98%|█████████▊| 13882/14110 [45:28<00:50,  4.48it/s]"
     ]
    },
    {
     "name": "stdout",
     "output_type": "stream",
     "text": [
      "uploading...\n"
     ]
    },
    {
     "name": "stderr",
     "output_type": "stream",
     "text": [
      " 98%|█████████▊| 13898/14110 [45:32<00:46,  4.60it/s]"
     ]
    },
    {
     "name": "stdout",
     "output_type": "stream",
     "text": [
      "uploading...\n"
     ]
    },
    {
     "name": "stderr",
     "output_type": "stream",
     "text": [
      " 99%|█████████▊| 13913/14110 [45:35<00:42,  4.68it/s]"
     ]
    },
    {
     "name": "stdout",
     "output_type": "stream",
     "text": [
      "uploading...\n"
     ]
    },
    {
     "name": "stderr",
     "output_type": "stream",
     "text": [
      " 99%|█████████▉| 13945/14110 [45:38<00:26,  6.30it/s]"
     ]
    },
    {
     "name": "stdout",
     "output_type": "stream",
     "text": [
      "uploading...\n"
     ]
    },
    {
     "name": "stderr",
     "output_type": "stream",
     "text": [
      " 99%|█████████▉| 13981/14110 [45:42<00:18,  7.14it/s]"
     ]
    },
    {
     "name": "stdout",
     "output_type": "stream",
     "text": [
      "uploading...\n"
     ]
    },
    {
     "name": "stderr",
     "output_type": "stream",
     "text": [
      " 99%|█████████▉| 13992/14110 [45:47<00:22,  5.23it/s]"
     ]
    },
    {
     "name": "stdout",
     "output_type": "stream",
     "text": [
      "uploading...\n"
     ]
    },
    {
     "name": "stderr",
     "output_type": "stream",
     "text": [
      " 99%|█████████▉| 13999/14110 [46:05<00:54,  2.03it/s]"
     ]
    },
    {
     "name": "stdout",
     "output_type": "stream",
     "text": [
      "uploading...\n"
     ]
    },
    {
     "name": "stderr",
     "output_type": "stream",
     "text": [
      " 99%|█████████▉| 14014/14110 [46:09<00:39,  2.41it/s]"
     ]
    },
    {
     "name": "stdout",
     "output_type": "stream",
     "text": [
      "uploading...\n"
     ]
    },
    {
     "name": "stderr",
     "output_type": "stream",
     "text": [
      " 99%|█████████▉| 14036/14110 [46:12<00:23,  3.20it/s]"
     ]
    },
    {
     "name": "stdout",
     "output_type": "stream",
     "text": [
      "uploading...\n"
     ]
    },
    {
     "name": "stderr",
     "output_type": "stream",
     "text": [
      "100%|█████████▉| 14051/14110 [46:15<00:16,  3.52it/s]"
     ]
    },
    {
     "name": "stdout",
     "output_type": "stream",
     "text": [
      "uploading...\n"
     ]
    },
    {
     "name": "stderr",
     "output_type": "stream",
     "text": [
      "100%|█████████▉| 14069/14110 [46:18<00:10,  3.97it/s]"
     ]
    },
    {
     "name": "stdout",
     "output_type": "stream",
     "text": [
      "uploading...\n"
     ]
    },
    {
     "name": "stderr",
     "output_type": "stream",
     "text": [
      "100%|██████████| 14110/14110 [46:22<00:00,  5.07it/s]\n"
     ]
    }
   ],
   "source": [
    "# get all files in a directory\n",
    "import os\n",
    "import json\n",
    "import numpy as np\n",
    "from tqdm import tqdm\n",
    "\n",
    "docs = []\n",
    "\n",
    "for filename in tqdm( os.listdir('/Users/onurerenarpaci/Desktop/Projects/hukuk/mevzuat_flattened') ):\n",
    "    if filename.endswith(\".json\"):\n",
    "        filepath = os.path.join('/Users/onurerenarpaci/Desktop/Projects/hukuk/mevzuat_flattened', filename)\n",
    "        #open file\n",
    "        with open(filepath) as f:\n",
    "            data = json.load(f)\n",
    "            for item in data:\n",
    "                item[\"metadata\"][\"doc_id\"] = filename.split(\".\")[0]\n",
    "                #write to txt file\n",
    "                doc = {\n",
    "                    \"content\" : item[\"content\"],\n",
    "                    \"meta\" : item[\"metadata\"],\n",
    "                    \"content_type\" : \"text\",\n",
    "                    \"id_hash_keys\": [\"content\"],\n",
    "                }\n",
    "                docs.append(doc)\n",
    "    else:\n",
    "        continue\n",
    "\n",
    "    if len(docs) > 1000:\n",
    "        print(\"uploading...\")\n",
    "        upload_file(json.dumps(docs))\n",
    "        docs = []"
   ]
  },
  {
   "cell_type": "code",
   "execution_count": 3,
   "metadata": {},
   "outputs": [],
   "source": [
    "def safe_upload_file(file, retry=3):\n",
    "    try:\n",
    "        response = upload_file(file)\n",
    "        return response\n",
    "    except:\n",
    "        if retry > 0:\n",
    "            time.sleep(4)\n",
    "            print(\"retrying...\")\n",
    "            return safe_upload_file(file, retry-1)\n",
    "        else:\n",
    "            print(\"failed\")\n",
    "            return None"
   ]
  },
  {
   "cell_type": "code",
   "execution_count": 4,
   "metadata": {},
   "outputs": [],
   "source": [
    "import json\n",
    "import pickle\n",
    "import numpy as np\n",
    "\n",
    "with open(\"/Users/onurerenarpaci/Downloads/embeddings_and_meta/batch_data.json\", 'r') as f:\n",
    "  batch_data = json.load(f)\n",
    "\n",
    "embeddings = np.load(\"/Users/onurerenarpaci/Downloads/embeddings_and_meta/embeddings.npy\")"
   ]
  },
  {
   "cell_type": "code",
   "execution_count": 5,
   "metadata": {},
   "outputs": [],
   "source": [
    "counter = 739400"
   ]
  },
  {
   "cell_type": "code",
   "execution_count": 6,
   "metadata": {},
   "outputs": [
    {
     "name": "stderr",
     "output_type": "stream",
     "text": [
      " 72%|███████▏  | 743200/1039336 [29:39<13:09:42,  6.25it/s]  "
     ]
    },
    {
     "name": "stdout",
     "output_type": "stream",
     "text": [
      "retrying...\n"
     ]
    },
    {
     "name": "stderr",
     "output_type": "stream",
     "text": [
      " 72%|███████▏  | 743400/1039336 [30:35<14:36:27,  5.63it/s]"
     ]
    }
   ],
   "source": [
    "buffer_size = 200\n",
    "buffer = []\n",
    "for i in tqdm(range(len(batch_data))):\n",
    "  if i < counter:\n",
    "    continue\n",
    "  \n",
    "  batch_data[i][\"embedding\"] = embeddings[i].tolist()\n",
    "  buffer.append(batch_data[i])\n",
    "\n",
    "  if len(buffer) >= buffer_size:\n",
    "    counter += buffer_size\n",
    "    safe_upload_file(json.dumps(buffer), retry=10)\n",
    "    buffer = []"
   ]
  },
  {
   "cell_type": "code",
   "execution_count": 6,
   "metadata": {},
   "outputs": [
    {
     "data": {
      "text/plain": [
       "[0.34676870703697205,\n",
       " -0.02597009390592575,\n",
       " 0.6177108287811279,\n",
       " -0.318229615688324,\n",
       " 0.03843745216727257,\n",
       " -0.2868790924549103,\n",
       " -0.21410547196865082,\n",
       " 0.2947961688041687,\n",
       " 0.5815073847770691,\n",
       " -0.8451723456382751,\n",
       " -0.49086204171180725,\n",
       " 0.22703436017036438,\n",
       " -0.23552340269088745,\n",
       " -0.003698913147673011,\n",
       " 0.8440362811088562,\n",
       " -0.005508303642272949,\n",
       " 0.4858866035938263,\n",
       " 0.5230355858802795,\n",
       " -0.21631114184856415,\n",
       " 0.6046847701072693,\n",
       " -0.0425061360001564,\n",
       " 0.010008498094975948,\n",
       " -1.2026947736740112,\n",
       " -0.09102396667003632,\n",
       " -0.29453685879707336,\n",
       " 0.019790854305028915,\n",
       " 0.3443091809749603,\n",
       " 0.43130651116371155,\n",
       " 0.12620720267295837,\n",
       " 0.3013255298137665,\n",
       " -0.5961843729019165,\n",
       " 0.9501144886016846,\n",
       " 0.311443954706192,\n",
       " 0.6803948879241943,\n",
       " 1.004237413406372,\n",
       " -0.4642118215560913,\n",
       " -0.16097606718540192,\n",
       " 0.18359947204589844,\n",
       " -0.3070494830608368,\n",
       " 0.19349880516529083,\n",
       " -0.5086804628372192,\n",
       " 0.5637941956520081,\n",
       " 0.3744029700756073,\n",
       " -0.8817391991615295,\n",
       " 0.20036952197551727,\n",
       " 0.2675842046737671,\n",
       " -0.2893545925617218,\n",
       " -0.4192483127117157,\n",
       " -0.47283974289894104,\n",
       " 0.25187185406684875,\n",
       " -0.06553772836923599,\n",
       " -0.008963877335190773,\n",
       " 0.15114405751228333,\n",
       " 0.6675111055374146,\n",
       " 0.3594084084033966,\n",
       " -0.05122726410627365,\n",
       " 0.15232208371162415,\n",
       " -0.02860140986740589,\n",
       " 0.0320536345243454,\n",
       " 0.3614407181739807,\n",
       " 0.08924510329961777,\n",
       " 0.5023645758628845,\n",
       " -0.8268317580223083,\n",
       " -0.09995245933532715,\n",
       " -0.8535948395729065,\n",
       " -0.47703495621681213,\n",
       " -0.29712629318237305,\n",
       " -0.426775187253952,\n",
       " 0.5133031606674194,\n",
       " 0.20513705909252167,\n",
       " 0.6143292784690857,\n",
       " 0.35493549704551697,\n",
       " -0.2612961232662201,\n",
       " 1.0300875902175903,\n",
       " -0.5036288499832153,\n",
       " -0.43846574425697327,\n",
       " -0.340908944606781,\n",
       " 0.1649944931268692,\n",
       " 0.1087210476398468,\n",
       " -0.463021457195282,\n",
       " -0.7374149560928345,\n",
       " 0.01835751160979271,\n",
       " -0.41674524545669556,\n",
       " -0.2711851894855499,\n",
       " -0.3965276777744293,\n",
       " -0.5679907202720642,\n",
       " -0.31336891651153564,\n",
       " 0.5404025316238403,\n",
       " 0.03504931554198265,\n",
       " -0.15702112019062042,\n",
       " -1.1840424537658691,\n",
       " -0.29500511288642883,\n",
       " -0.24598391354084015,\n",
       " 0.039254069328308105,\n",
       " -0.1405150443315506,\n",
       " 0.0237134899944067,\n",
       " -0.07012180984020233,\n",
       " -0.4224643111228943,\n",
       " -0.33838024735450745,\n",
       " 0.4983368217945099,\n",
       " -0.40030670166015625,\n",
       " -0.6815204620361328,\n",
       " -0.1603165566921234,\n",
       " 0.7844298481941223,\n",
       " -0.1999351531267166,\n",
       " -0.3515661060810089,\n",
       " 0.1817024052143097,\n",
       " 0.0003965397772844881,\n",
       " 0.2653157413005829,\n",
       " 0.04197363182902336,\n",
       " 0.018560970202088356,\n",
       " -0.13100530207157135,\n",
       " 0.14222301542758942,\n",
       " -0.7282428741455078,\n",
       " -0.4018324911594391,\n",
       " 0.8506078124046326,\n",
       " -0.4558027386665344,\n",
       " -0.05937319993972778,\n",
       " 0.11123684048652649,\n",
       " 0.01056217122823,\n",
       " 0.6919344663619995,\n",
       " -0.03579247370362282,\n",
       " 0.7155148983001709,\n",
       " -0.03782324865460396,\n",
       " 0.03198491409420967,\n",
       " 0.39302122592926025,\n",
       " -0.6214205622673035,\n",
       " -0.25238654017448425,\n",
       " 0.23013751208782196,\n",
       " 0.4043310284614563,\n",
       " -0.3611225187778473,\n",
       " 0.24814756214618683,\n",
       " -0.33197107911109924,\n",
       " -0.36575743556022644,\n",
       " 0.14912627637386322,\n",
       " 0.2826421558856964,\n",
       " -0.7909608483314514,\n",
       " -0.1390075385570526,\n",
       " 0.9868115186691284,\n",
       " -0.21917682886123657,\n",
       " -0.03284174203872681,\n",
       " 0.3438255190849304,\n",
       " 0.5327374339103699,\n",
       " -0.6492432951927185,\n",
       " -0.3915468752384186,\n",
       " -0.015582025051116943,\n",
       " 0.21578560769557953,\n",
       " -0.4558165967464447,\n",
       " -0.014627856202423573,\n",
       " 0.22446386516094208,\n",
       " -0.21675534546375275,\n",
       " -0.3072720766067505,\n",
       " 0.4779018461704254,\n",
       " 0.3697863221168518,\n",
       " -0.4013075530529022,\n",
       " -0.22405590116977692,\n",
       " -0.5955957770347595,\n",
       " -0.27140146493911743,\n",
       " 0.8969561457633972,\n",
       " -0.2951873242855072,\n",
       " -0.0357244573533535,\n",
       " 0.18351402878761292,\n",
       " 0.7522855401039124,\n",
       " -0.3955689072608948,\n",
       " 0.6079692244529724,\n",
       " -0.18994712829589844,\n",
       " 0.2189106047153473,\n",
       " -0.19897964596748352,\n",
       " -0.15401877462863922,\n",
       " 0.32344162464141846,\n",
       " 0.029867056757211685,\n",
       " 0.06319673359394073,\n",
       " -0.1668991595506668,\n",
       " 0.3973935842514038,\n",
       " 0.10871586948633194,\n",
       " -0.08099953085184097,\n",
       " -0.02256910875439644,\n",
       " 0.4450581967830658,\n",
       " -0.6512041687965393,\n",
       " -0.4066021740436554,\n",
       " -0.21990998089313507,\n",
       " -0.20974601805210114,\n",
       " 0.4859597086906433,\n",
       " 0.08700938522815704,\n",
       " -0.39435824751853943,\n",
       " -0.9202585816383362,\n",
       " -0.9052709937095642,\n",
       " -0.7599526643753052,\n",
       " -0.631371796131134,\n",
       " -0.2171303778886795,\n",
       " -0.03441105782985687,\n",
       " 0.066545270383358,\n",
       " -0.07285718619823456,\n",
       " -0.07915987819433212,\n",
       " -0.05104197934269905,\n",
       " 0.15007857978343964,\n",
       " 0.7415401339530945,\n",
       " 1.0017834901809692,\n",
       " -0.34227222204208374,\n",
       " 0.329959899187088,\n",
       " 0.13707253336906433,\n",
       " 0.432998389005661,\n",
       " 0.2538549602031708,\n",
       " -0.03296060487627983,\n",
       " -0.4151371717453003,\n",
       " -0.040341418236494064,\n",
       " 0.12289842218160629,\n",
       " 0.32742398977279663,\n",
       " 0.03348197042942047,\n",
       " 0.3920445740222931,\n",
       " -0.018067602068185806,\n",
       " 0.05084044113755226,\n",
       " 0.7927186489105225,\n",
       " 0.2694239318370819,\n",
       " -0.23833538591861725,\n",
       " 0.3356306850910187,\n",
       " 0.24699923396110535,\n",
       " -0.023090066388249397,\n",
       " 0.8622245192527771,\n",
       " -0.4503643810749054,\n",
       " 0.03184022754430771,\n",
       " -0.2502325773239136,\n",
       " 0.7502880096435547,\n",
       " -0.1042403131723404,\n",
       " -0.40617096424102783,\n",
       " -0.21686546504497528,\n",
       " 0.10055225342512131,\n",
       " -0.11558054387569427,\n",
       " -0.08131945133209229,\n",
       " -0.2978728115558624,\n",
       " 0.03730838745832443,\n",
       " -0.6464093327522278,\n",
       " -0.39250078797340393,\n",
       " 0.4447704255580902,\n",
       " -0.10110913962125778,\n",
       " -0.6956323981285095,\n",
       " -0.7021998167037964,\n",
       " 0.10355343669652939,\n",
       " -0.25687217712402344,\n",
       " -0.014577066525816917,\n",
       " 0.04745464771986008,\n",
       " 0.018585531041026115,\n",
       " -0.4250125288963318,\n",
       " 0.34756311774253845,\n",
       " -0.5458500981330872,\n",
       " 0.5976306796073914,\n",
       " -0.30147409439086914,\n",
       " -0.4074421525001526,\n",
       " -0.04267973452806473,\n",
       " -0.4225357174873352,\n",
       " 0.0023540337570011616,\n",
       " 0.5079679489135742,\n",
       " 0.6351934671401978,\n",
       " -1.359129548072815,\n",
       " -0.1452067792415619,\n",
       " -0.20944343507289886,\n",
       " -0.02624371461570263,\n",
       " 0.07876703143119812,\n",
       " -0.7353553771972656,\n",
       " 0.07506036013364792,\n",
       " 0.7004367709159851,\n",
       " -0.5673368573188782,\n",
       " 0.06194470450282097,\n",
       " 0.09551478922367096,\n",
       " 0.691417932510376,\n",
       " 0.11147806793451309,\n",
       " -0.972481369972229,\n",
       " -0.8436853885650635,\n",
       " -0.06641581654548645,\n",
       " -0.7443734407424927,\n",
       " 0.08965928107500076,\n",
       " -0.18732620775699615,\n",
       " 0.8048861622810364,\n",
       " -0.06159498170018196,\n",
       " -0.03244972601532936,\n",
       " -0.6347507238388062,\n",
       " 0.40419965982437134,\n",
       " 0.05178438872098923,\n",
       " 0.12229574471712112,\n",
       " 0.1992420256137848,\n",
       " -0.43635883927345276,\n",
       " -0.026643086224794388,\n",
       " 0.004593594931066036,\n",
       " 0.30984506011009216,\n",
       " -0.10432039201259613,\n",
       " 0.2973429560661316,\n",
       " -0.08329448848962784,\n",
       " 0.19590671360492706,\n",
       " -0.38247713446617126,\n",
       " -0.2294239103794098,\n",
       " -0.07518033683300018,\n",
       " 0.3289388418197632,\n",
       " 0.3526947796344757,\n",
       " 0.173708975315094,\n",
       " -1.1218355894088745,\n",
       " 0.35824674367904663,\n",
       " -0.06503576785326004,\n",
       " -0.3800838589668274,\n",
       " -0.5141931176185608,\n",
       " -0.2979399859905243,\n",
       " -0.16492119431495667,\n",
       " -0.13228541612625122,\n",
       " -0.4633566737174988,\n",
       " -0.2621499300003052,\n",
       " 0.019519083201885223,\n",
       " -0.1109781414270401,\n",
       " -0.32044893503189087,\n",
       " 0.38787510991096497,\n",
       " 0.23727403581142426,\n",
       " 0.038684867322444916,\n",
       " -0.3744378387928009,\n",
       " -0.20175717771053314,\n",
       " -0.16875317692756653,\n",
       " 0.05758582800626755,\n",
       " 0.7681170701980591,\n",
       " -0.4185079038143158,\n",
       " 0.14634700119495392,\n",
       " 0.27186885476112366,\n",
       " 0.0304334107786417,\n",
       " -0.09033629298210144,\n",
       " -0.02555246837437153,\n",
       " 0.03094455972313881,\n",
       " -0.02216632291674614,\n",
       " -0.04744923859834671,\n",
       " -0.028774257749319077,\n",
       " -0.03029811568558216,\n",
       " -0.24512456357479095,\n",
       " 0.0696081817150116,\n",
       " 0.09246290475130081,\n",
       " 0.8486701846122742,\n",
       " -0.17143288254737854,\n",
       " 0.6872362494468689,\n",
       " 0.16074633598327637,\n",
       " 0.21646597981452942,\n",
       " 0.32690733671188354,\n",
       " 0.16546781361103058,\n",
       " 0.09947991371154785,\n",
       " -0.43866080045700073,\n",
       " -0.2658252418041229,\n",
       " 0.11252991855144501,\n",
       " 0.05423224717378616,\n",
       " -0.38364309072494507,\n",
       " 0.6155365109443665,\n",
       " 0.08937864750623703,\n",
       " -0.039110805839300156,\n",
       " 0.10003228485584259,\n",
       " 0.09813309460878372,\n",
       " -0.07290856540203094,\n",
       " -0.061545051634311676,\n",
       " -0.7573679685592651,\n",
       " -0.39052915573120117,\n",
       " -0.4141466021537781,\n",
       " -0.5555444955825806,\n",
       " 0.19406737387180328,\n",
       " -0.387829452753067,\n",
       " 0.3741028606891632,\n",
       " 0.6433523893356323,\n",
       " 0.20860983431339264,\n",
       " -0.20548446476459503,\n",
       " 0.29157066345214844,\n",
       " 0.9066035747528076,\n",
       " -0.1837655007839203,\n",
       " 0.3232456147670746,\n",
       " -0.2551676332950592,\n",
       " -0.13435131311416626,\n",
       " -0.3736383318901062,\n",
       " 0.5984676480293274,\n",
       " -0.7516284584999084,\n",
       " 0.38820409774780273,\n",
       " -0.4478694796562195,\n",
       " -0.04477423056960106,\n",
       " 0.7516043186187744,\n",
       " 0.912591278553009,\n",
       " 0.04239438474178314,\n",
       " -0.7424831390380859,\n",
       " 0.15403109788894653,\n",
       " -0.5819547772407532,\n",
       " -0.11393751204013824,\n",
       " -0.14668019115924835,\n",
       " -0.2409638613462448,\n",
       " -0.21455974876880646,\n",
       " 0.37678882479667664,\n",
       " 0.06807201355695724,\n",
       " 0.019281281158328056,\n",
       " -0.0031088152900338173,\n",
       " 0.5193117260932922,\n",
       " -0.29636964201927185,\n",
       " 0.2134624570608139,\n",
       " 0.01968974620103836,\n",
       " 0.5511952638626099,\n",
       " 1.246806263923645,\n",
       " 0.3213735818862915,\n",
       " -0.22693060338497162,\n",
       " -0.2729302644729614,\n",
       " -0.4884127974510193,\n",
       " -0.4146290123462677,\n",
       " 0.28383052349090576,\n",
       " -0.07307564467191696,\n",
       " 0.2235434204339981,\n",
       " 0.48718878626823425,\n",
       " -0.37000858783721924,\n",
       " 0.34488800168037415,\n",
       " -1.0661884546279907,\n",
       " -0.2413201630115509,\n",
       " -0.4056895077228546,\n",
       " -0.3615778684616089,\n",
       " -1.1900402307510376,\n",
       " -0.03647839277982712,\n",
       " -1.0111005306243896,\n",
       " 0.1057104617357254,\n",
       " -0.5406173467636108,\n",
       " -0.44415220618247986,\n",
       " 0.40736275911331177,\n",
       " -0.15841220319271088,\n",
       " 0.3031391203403473,\n",
       " 0.26944923400878906,\n",
       " 0.2733774185180664,\n",
       " -0.8731366991996765,\n",
       " -0.33668529987335205,\n",
       " 0.0705081969499588,\n",
       " 0.010986502282321453,\n",
       " -1.0602545738220215,\n",
       " 0.02607293613255024,\n",
       " -0.07966174930334091,\n",
       " 0.0493934266269207,\n",
       " -0.547938346862793,\n",
       " 0.3289680480957031,\n",
       " -0.1785104125738144,\n",
       " -0.2630610466003418,\n",
       " -0.15112029016017914,\n",
       " -0.10392951220273972,\n",
       " -0.13521471619606018,\n",
       " 0.5486782789230347,\n",
       " 0.45448407530784607,\n",
       " -0.05623048171401024,\n",
       " 0.1109633594751358,\n",
       " 0.1192207783460617,\n",
       " -0.42037972807884216,\n",
       " -0.16420139372348785,\n",
       " 0.40709781646728516,\n",
       " -0.42112448811531067,\n",
       " -0.4859272837638855,\n",
       " -0.529367208480835,\n",
       " 0.29982897639274597,\n",
       " 0.2168770730495453,\n",
       " 0.3488776981830597,\n",
       " 0.35110679268836975,\n",
       " -0.004763714503496885,\n",
       " 0.2756131589412689,\n",
       " -0.5635988712310791,\n",
       " 0.12965112924575806,\n",
       " -0.23531779646873474,\n",
       " 0.6575289368629456,\n",
       " -0.16127420961856842,\n",
       " 0.7351563572883606,\n",
       " 0.2594747841358185,\n",
       " 0.49348849058151245,\n",
       " 0.36279913783073425,\n",
       " -0.5981196165084839,\n",
       " 0.044729579240083694,\n",
       " -0.14809690415859222,\n",
       " 0.18404372036457062,\n",
       " -0.03859908878803253,\n",
       " 0.7230696082115173,\n",
       " 0.03795145824551582,\n",
       " -0.7668203115463257,\n",
       " -0.184312641620636,\n",
       " -0.14096860587596893,\n",
       " -0.4973820149898529,\n",
       " 0.4646603763103485,\n",
       " 0.28199559450149536,\n",
       " 0.5436061024665833,\n",
       " 0.5487622618675232,\n",
       " 0.0021909147035330534,\n",
       " 0.15056464076042175,\n",
       " -0.2185911238193512,\n",
       " 0.41468703746795654,\n",
       " -0.5330707430839539,\n",
       " 0.02008531428873539,\n",
       " -0.17352864146232605,\n",
       " -0.6091436743736267,\n",
       " -0.03745817393064499,\n",
       " -0.12821218371391296,\n",
       " -0.5622794032096863,\n",
       " -0.35876065492630005,\n",
       " 0.050884343683719635,\n",
       " 0.05793025717139244,\n",
       " 0.01146842259913683,\n",
       " 0.182595893740654,\n",
       " -0.15323695540428162,\n",
       " -0.538221001625061,\n",
       " 0.5606196522712708,\n",
       " 0.22205990552902222,\n",
       " -0.10157151520252228,\n",
       " 0.01232744101434946,\n",
       " 0.43718650937080383,\n",
       " 0.09365054965019226,\n",
       " 0.001762946485541761,\n",
       " -0.46005064249038696,\n",
       " -0.3304700255393982,\n",
       " 0.5012175440788269,\n",
       " -0.4470563530921936,\n",
       " -0.09295322746038437,\n",
       " 0.26019057631492615,\n",
       " -0.09562338143587112,\n",
       " 0.09976525604724884,\n",
       " -0.08808086812496185,\n",
       " 0.2999977469444275,\n",
       " 0.22589470446109772,\n",
       " 0.040068987756967545,\n",
       " 0.8535661101341248,\n",
       " -0.0723038911819458,\n",
       " -0.6667851805686951,\n",
       " 0.46472546458244324,\n",
       " 0.02400214597582817,\n",
       " -0.33074483275413513,\n",
       " -0.14729033410549164,\n",
       " -0.0160882156342268,\n",
       " -0.015931405127048492,\n",
       " 0.2505401372909546,\n",
       " -0.04818522930145264,\n",
       " -0.44920817017555237,\n",
       " 0.4625868499279022,\n",
       " 0.2532247006893158,\n",
       " -0.009485991671681404,\n",
       " 0.07444178313016891,\n",
       " 0.7395724058151245,\n",
       " -0.09867636859416962,\n",
       " 0.2989308536052704,\n",
       " 0.3357515335083008,\n",
       " 0.07876420021057129,\n",
       " -0.0548291839659214,\n",
       " -0.4280122220516205,\n",
       " -0.080729179084301,\n",
       " -0.21024064719676971,\n",
       " -0.33081021904945374,\n",
       " -0.14269746840000153,\n",
       " -0.13426390290260315,\n",
       " -0.18988265097141266,\n",
       " 0.03891543671488762,\n",
       " 0.30466824769973755,\n",
       " -0.21304954588413239,\n",
       " 0.47278791666030884,\n",
       " 0.12272686511278152,\n",
       " -0.11593949049711227,\n",
       " -0.3499287962913513,\n",
       " 0.16092424094676971,\n",
       " 0.5768688321113586,\n",
       " -0.03648867458105087,\n",
       " -0.22222860157489777,\n",
       " 0.5820890069007874,\n",
       " -0.1939157098531723,\n",
       " -0.7556930780410767,\n",
       " 0.07231606543064117,\n",
       " 0.7908157110214233,\n",
       " 0.3187224566936493,\n",
       " -0.46637722849845886,\n",
       " -0.7510365843772888,\n",
       " 0.0805075615644455,\n",
       " 0.4624668061733246,\n",
       " 0.1788211315870285,\n",
       " -0.04001905024051666,\n",
       " 0.12697741389274597,\n",
       " -0.12718996405601501,\n",
       " -0.4637381434440613,\n",
       " 0.4378257691860199,\n",
       " -0.6372969150543213,\n",
       " -0.8188326358795166,\n",
       " 0.08842651546001434,\n",
       " 0.07942672818899155,\n",
       " 0.5557306408882141,\n",
       " 0.3084447979927063,\n",
       " -0.3480476438999176,\n",
       " -0.5638963580131531,\n",
       " -0.30500394105911255,\n",
       " 0.1478884518146515,\n",
       " 0.40953871607780457,\n",
       " -0.04324968904256821,\n",
       " 0.301542729139328,\n",
       " 0.8936846256256104,\n",
       " 0.07402742654085159,\n",
       " 0.1506485641002655,\n",
       " 0.02464934252202511,\n",
       " 0.12214194983243942,\n",
       " 0.16450713574886322,\n",
       " 0.21462126076221466,\n",
       " -0.13394083082675934,\n",
       " -0.35687267780303955,\n",
       " -0.13574428856372833,\n",
       " 0.48365721106529236,\n",
       " -0.3447151184082031,\n",
       " -0.21057705581188202,\n",
       " -0.23901501297950745,\n",
       " -0.09958216547966003,\n",
       " 0.21100930869579315,\n",
       " 0.36468473076820374,\n",
       " 0.21727100014686584,\n",
       " 0.25073596835136414,\n",
       " 0.5169098973274231,\n",
       " -0.23060108721256256,\n",
       " -0.1664712131023407,\n",
       " -0.024221381172537804,\n",
       " 0.3460072875022888,\n",
       " 0.12948627769947052,\n",
       " -0.31535276770591736,\n",
       " 0.4189993441104889,\n",
       " -0.18249982595443726,\n",
       " -0.5878795981407166,\n",
       " 0.04676408693194389,\n",
       " -0.9333769679069519,\n",
       " -0.7489010095596313,\n",
       " -0.26519015431404114,\n",
       " 0.2504011392593384,\n",
       " -0.1656220257282257,\n",
       " -0.30111363530158997,\n",
       " -0.2759283781051636,\n",
       " -0.1798815131187439,\n",
       " -0.28073441982269287,\n",
       " 0.7645390629768372,\n",
       " 0.39399585127830505,\n",
       " -0.393075168132782,\n",
       " 0.030475318431854248,\n",
       " -0.6194447875022888,\n",
       " -0.5702832341194153,\n",
       " 0.013431251049041748,\n",
       " 0.36716583371162415,\n",
       " -0.17543838918209076,\n",
       " -0.040278103202581406,\n",
       " -0.27884018421173096,\n",
       " -0.41699790954589844,\n",
       " 0.18235240876674652,\n",
       " -0.004885429050773382,\n",
       " 0.17664781212806702,\n",
       " -0.04494936019182205,\n",
       " 0.395282119512558,\n",
       " 0.627450168132782,\n",
       " 0.38228267431259155,\n",
       " 0.21292391419410706,\n",
       " 0.11624003201723099,\n",
       " -0.14370781183242798,\n",
       " 0.49075132608413696,\n",
       " 0.31599584221839905,\n",
       " 0.7653113007545471,\n",
       " -0.1460627019405365,\n",
       " -0.16162580251693726,\n",
       " 0.27029696106910706,\n",
       " 0.19367793202400208,\n",
       " 0.3135308027267456,\n",
       " -0.6885897517204285,\n",
       " 0.312993586063385,\n",
       " 0.424362450838089,\n",
       " 1.1080034971237183,\n",
       " -0.3529902994632721,\n",
       " -0.1609506756067276,\n",
       " -0.16443690657615662,\n",
       " 0.013370259664952755,\n",
       " 0.24812909960746765,\n",
       " -0.4113401472568512,\n",
       " -0.1377154439687729,\n",
       " 0.14353857934474945,\n",
       " -0.1471230536699295,\n",
       " -0.3734786808490753,\n",
       " 0.5213028788566589,\n",
       " 0.006027572322636843,\n",
       " -0.5421650409698486,\n",
       " 0.42754605412483215,\n",
       " 0.2773362398147583,\n",
       " -0.1820366531610489,\n",
       " 0.7072718143463135,\n",
       " 0.3958381712436676,\n",
       " 0.22703136503696442,\n",
       " -0.005604390520602465,\n",
       " 0.11128269135951996,\n",
       " 0.4239285886287689,\n",
       " 0.3546547591686249,\n",
       " 0.1283172369003296,\n",
       " 0.5497698187828064,\n",
       " 0.49833762645721436,\n",
       " -0.09677763283252716,\n",
       " -0.27526628971099854,\n",
       " 0.5225278735160828,\n",
       " -0.4672468304634094,\n",
       " -0.15682736039161682,\n",
       " -0.2515704929828644,\n",
       " -0.144873708486557,\n",
       " -0.6990146636962891,\n",
       " -0.10499798506498337,\n",
       " 0.5711464285850525,\n",
       " -0.039261601865291595,\n",
       " 0.19899281859397888,\n",
       " -0.14535006880760193,\n",
       " -0.16632385551929474,\n",
       " -0.2914537489414215,\n",
       " 0.26081380248069763,\n",
       " 0.7415152788162231,\n",
       " 0.15361517667770386,\n",
       " 0.40019339323043823,\n",
       " 0.5568619966506958,\n",
       " -0.6730021834373474,\n",
       " -0.6626474261283875,\n",
       " 0.5816720724105835,\n",
       " 0.028964614495635033,\n",
       " -0.26757532358169556,\n",
       " -0.48836204409599304,\n",
       " 0.660211443901062,\n",
       " -0.16438476741313934,\n",
       " 0.5377858877182007,\n",
       " -0.10417573899030685,\n",
       " -0.5350035429000854,\n",
       " 0.49638456106185913,\n",
       " 0.17445382475852966,\n",
       " -0.11264237016439438,\n",
       " 0.2194637954235077,\n",
       " -0.14915762841701508,\n",
       " -0.031628355383872986,\n",
       " -0.2648468017578125,\n",
       " -0.31585606932640076,\n",
       " -0.1736343652009964,\n",
       " 0.14532700181007385,\n",
       " 0.09325096011161804,\n",
       " -0.1273159235715866,\n",
       " 0.2361883968114853,\n",
       " 0.17295826971530914,\n",
       " 0.26812389492988586,\n",
       " -0.1533108800649643,\n",
       " 0.2700970768928528,\n",
       " -0.2666459381580353,\n",
       " -0.13613654673099518,\n",
       " -0.33383962512016296,\n",
       " 1.0509507656097412,\n",
       " -0.23539093136787415,\n",
       " 0.34344586730003357,\n",
       " -0.0795571357011795,\n",
       " 0.41112467646598816,\n",
       " 0.19970759749412537,\n",
       " 0.038942813873291016,\n",
       " 0.19209006428718567,\n",
       " 0.057278815656900406,\n",
       " -0.03439311310648918,\n",
       " 0.838140606880188,\n",
       " 0.1195959523320198,\n",
       " -0.11467558890581131,\n",
       " -0.5829617977142334,\n",
       " 0.1667371392250061,\n",
       " -0.09250005334615707,\n",
       " -0.18858671188354492,\n",
       " 0.35207173228263855,\n",
       " -0.07164991647005081,\n",
       " -0.8699423670768738,\n",
       " 0.09020761400461197,\n",
       " 0.6775932312011719,\n",
       " -0.009961524046957493,\n",
       " -0.1829298585653305,\n",
       " 0.42416220903396606,\n",
       " 0.11798252165317535,\n",
       " 0.1377498060464859,\n",
       " 0.44560882449150085,\n",
       " -0.35878390073776245,\n",
       " 0.348695307970047,\n",
       " 0.1341707855463028,\n",
       " 0.30534398555755615,\n",
       " -0.73443603515625,\n",
       " -0.5758677124977112,\n",
       " 0.5870082378387451,\n",
       " -0.0026505321729928255,\n",
       " -0.357688844203949,\n",
       " -0.4524644911289215,\n",
       " -0.41992664337158203]"
      ]
     },
     "execution_count": 6,
     "metadata": {},
     "output_type": "execute_result"
    }
   ],
   "source": [
    "batch_data[0][\"embedding\"]"
   ]
  },
  {
   "cell_type": "code",
   "execution_count": 7,
   "metadata": {},
   "outputs": [
    {
     "data": {
      "text/plain": [
       "{'content': 'İTHALATTA HAKSIZ REKABETİN ÖNLENMESİNE İLİŞKİN TEBLİĞ (TEBLİĞ NO: 2007/1) İlgili mevzuat Yürürlük süresi sona erecek dampinge karşı önlemler Nihai gözden geçirme başvurusu ve işlemler Yürürlük Yürütme',\n",
       " 'meta': {'__piece_type__': 'header',\n",
       "  'mevzuatNo': '11019',\n",
       "  'mevAdi': 'İTHALATTA HAKSIZ REKABETİN ÖNLENMESİNE İLİŞKİN TEBLİĞ\\r\\n(TEBLİĞ NO: 2007/1)',\n",
       "  'kabulTarih': None,\n",
       "  'kabulTarihDosyaPath': None,\n",
       "  'resmiGazeteTarihi': '17.01.2007',\n",
       "  'resmiGazeteSayisi': '26406',\n",
       "  'mevzuatTertip': '5',\n",
       "  'nitelik': None,\n",
       "  'mukerrer': None,\n",
       "  'resmiGazeteTarihiYilBaslangic': None,\n",
       "  'resmiGazeteTarihiYilBitis': None,\n",
       "  'aranacakYer': 0,\n",
       "  'mevzuatTur': 9,\n",
       "  'tuzukMevzuatTur': 0,\n",
       "  'fileType': 1,\n",
       "  'mevzuatTurEnumString': 'Tebliğler',\n",
       "  'url': 'mevzuat?MevzuatNo=11019&MevzuatTur=9&MevzuatTertip=5',\n",
       "  'docUrl': None,\n",
       "  'pdfUrl': None,\n",
       "  'tur': 2,\n",
       "  'isPlainTextBlank': False,\n",
       "  'resmiGazeteTarihiGun': '17',\n",
       "  'resmiGazeteTarihiAy': '1',\n",
       "  'resmiGazeteTarihiYil': '2007',\n",
       "  'resmiGazeteUrl': None,\n",
       "  'hasDoc': False,\n",
       "  'hasOldLaw': False,\n",
       "  'highlightText': None,\n",
       "  'mevzuatNoCombine': None,\n",
       "  'doc_id': '6448710de0b1ea631deba28d'},\n",
       " 'content_type': 'text',\n",
       " 'id_hash_keys': ['content'],\n",
       " 'embedding': [0.34676870703697205,\n",
       "  -0.02597009390592575,\n",
       "  0.6177108287811279,\n",
       "  -0.318229615688324,\n",
       "  0.03843745216727257,\n",
       "  -0.2868790924549103,\n",
       "  -0.21410547196865082,\n",
       "  0.2947961688041687,\n",
       "  0.5815073847770691,\n",
       "  -0.8451723456382751,\n",
       "  -0.49086204171180725,\n",
       "  0.22703436017036438,\n",
       "  -0.23552340269088745,\n",
       "  -0.003698913147673011,\n",
       "  0.8440362811088562,\n",
       "  -0.005508303642272949,\n",
       "  0.4858866035938263,\n",
       "  0.5230355858802795,\n",
       "  -0.21631114184856415,\n",
       "  0.6046847701072693,\n",
       "  -0.0425061360001564,\n",
       "  0.010008498094975948,\n",
       "  -1.2026947736740112,\n",
       "  -0.09102396667003632,\n",
       "  -0.29453685879707336,\n",
       "  0.019790854305028915,\n",
       "  0.3443091809749603,\n",
       "  0.43130651116371155,\n",
       "  0.12620720267295837,\n",
       "  0.3013255298137665,\n",
       "  -0.5961843729019165,\n",
       "  0.9501144886016846,\n",
       "  0.311443954706192,\n",
       "  0.6803948879241943,\n",
       "  1.004237413406372,\n",
       "  -0.4642118215560913,\n",
       "  -0.16097606718540192,\n",
       "  0.18359947204589844,\n",
       "  -0.3070494830608368,\n",
       "  0.19349880516529083,\n",
       "  -0.5086804628372192,\n",
       "  0.5637941956520081,\n",
       "  0.3744029700756073,\n",
       "  -0.8817391991615295,\n",
       "  0.20036952197551727,\n",
       "  0.2675842046737671,\n",
       "  -0.2893545925617218,\n",
       "  -0.4192483127117157,\n",
       "  -0.47283974289894104,\n",
       "  0.25187185406684875,\n",
       "  -0.06553772836923599,\n",
       "  -0.008963877335190773,\n",
       "  0.15114405751228333,\n",
       "  0.6675111055374146,\n",
       "  0.3594084084033966,\n",
       "  -0.05122726410627365,\n",
       "  0.15232208371162415,\n",
       "  -0.02860140986740589,\n",
       "  0.0320536345243454,\n",
       "  0.3614407181739807,\n",
       "  0.08924510329961777,\n",
       "  0.5023645758628845,\n",
       "  -0.8268317580223083,\n",
       "  -0.09995245933532715,\n",
       "  -0.8535948395729065,\n",
       "  -0.47703495621681213,\n",
       "  -0.29712629318237305,\n",
       "  -0.426775187253952,\n",
       "  0.5133031606674194,\n",
       "  0.20513705909252167,\n",
       "  0.6143292784690857,\n",
       "  0.35493549704551697,\n",
       "  -0.2612961232662201,\n",
       "  1.0300875902175903,\n",
       "  -0.5036288499832153,\n",
       "  -0.43846574425697327,\n",
       "  -0.340908944606781,\n",
       "  0.1649944931268692,\n",
       "  0.1087210476398468,\n",
       "  -0.463021457195282,\n",
       "  -0.7374149560928345,\n",
       "  0.01835751160979271,\n",
       "  -0.41674524545669556,\n",
       "  -0.2711851894855499,\n",
       "  -0.3965276777744293,\n",
       "  -0.5679907202720642,\n",
       "  -0.31336891651153564,\n",
       "  0.5404025316238403,\n",
       "  0.03504931554198265,\n",
       "  -0.15702112019062042,\n",
       "  -1.1840424537658691,\n",
       "  -0.29500511288642883,\n",
       "  -0.24598391354084015,\n",
       "  0.039254069328308105,\n",
       "  -0.1405150443315506,\n",
       "  0.0237134899944067,\n",
       "  -0.07012180984020233,\n",
       "  -0.4224643111228943,\n",
       "  -0.33838024735450745,\n",
       "  0.4983368217945099,\n",
       "  -0.40030670166015625,\n",
       "  -0.6815204620361328,\n",
       "  -0.1603165566921234,\n",
       "  0.7844298481941223,\n",
       "  -0.1999351531267166,\n",
       "  -0.3515661060810089,\n",
       "  0.1817024052143097,\n",
       "  0.0003965397772844881,\n",
       "  0.2653157413005829,\n",
       "  0.04197363182902336,\n",
       "  0.018560970202088356,\n",
       "  -0.13100530207157135,\n",
       "  0.14222301542758942,\n",
       "  -0.7282428741455078,\n",
       "  -0.4018324911594391,\n",
       "  0.8506078124046326,\n",
       "  -0.4558027386665344,\n",
       "  -0.05937319993972778,\n",
       "  0.11123684048652649,\n",
       "  0.01056217122823,\n",
       "  0.6919344663619995,\n",
       "  -0.03579247370362282,\n",
       "  0.7155148983001709,\n",
       "  -0.03782324865460396,\n",
       "  0.03198491409420967,\n",
       "  0.39302122592926025,\n",
       "  -0.6214205622673035,\n",
       "  -0.25238654017448425,\n",
       "  0.23013751208782196,\n",
       "  0.4043310284614563,\n",
       "  -0.3611225187778473,\n",
       "  0.24814756214618683,\n",
       "  -0.33197107911109924,\n",
       "  -0.36575743556022644,\n",
       "  0.14912627637386322,\n",
       "  0.2826421558856964,\n",
       "  -0.7909608483314514,\n",
       "  -0.1390075385570526,\n",
       "  0.9868115186691284,\n",
       "  -0.21917682886123657,\n",
       "  -0.03284174203872681,\n",
       "  0.3438255190849304,\n",
       "  0.5327374339103699,\n",
       "  -0.6492432951927185,\n",
       "  -0.3915468752384186,\n",
       "  -0.015582025051116943,\n",
       "  0.21578560769557953,\n",
       "  -0.4558165967464447,\n",
       "  -0.014627856202423573,\n",
       "  0.22446386516094208,\n",
       "  -0.21675534546375275,\n",
       "  -0.3072720766067505,\n",
       "  0.4779018461704254,\n",
       "  0.3697863221168518,\n",
       "  -0.4013075530529022,\n",
       "  -0.22405590116977692,\n",
       "  -0.5955957770347595,\n",
       "  -0.27140146493911743,\n",
       "  0.8969561457633972,\n",
       "  -0.2951873242855072,\n",
       "  -0.0357244573533535,\n",
       "  0.18351402878761292,\n",
       "  0.7522855401039124,\n",
       "  -0.3955689072608948,\n",
       "  0.6079692244529724,\n",
       "  -0.18994712829589844,\n",
       "  0.2189106047153473,\n",
       "  -0.19897964596748352,\n",
       "  -0.15401877462863922,\n",
       "  0.32344162464141846,\n",
       "  0.029867056757211685,\n",
       "  0.06319673359394073,\n",
       "  -0.1668991595506668,\n",
       "  0.3973935842514038,\n",
       "  0.10871586948633194,\n",
       "  -0.08099953085184097,\n",
       "  -0.02256910875439644,\n",
       "  0.4450581967830658,\n",
       "  -0.6512041687965393,\n",
       "  -0.4066021740436554,\n",
       "  -0.21990998089313507,\n",
       "  -0.20974601805210114,\n",
       "  0.4859597086906433,\n",
       "  0.08700938522815704,\n",
       "  -0.39435824751853943,\n",
       "  -0.9202585816383362,\n",
       "  -0.9052709937095642,\n",
       "  -0.7599526643753052,\n",
       "  -0.631371796131134,\n",
       "  -0.2171303778886795,\n",
       "  -0.03441105782985687,\n",
       "  0.066545270383358,\n",
       "  -0.07285718619823456,\n",
       "  -0.07915987819433212,\n",
       "  -0.05104197934269905,\n",
       "  0.15007857978343964,\n",
       "  0.7415401339530945,\n",
       "  1.0017834901809692,\n",
       "  -0.34227222204208374,\n",
       "  0.329959899187088,\n",
       "  0.13707253336906433,\n",
       "  0.432998389005661,\n",
       "  0.2538549602031708,\n",
       "  -0.03296060487627983,\n",
       "  -0.4151371717453003,\n",
       "  -0.040341418236494064,\n",
       "  0.12289842218160629,\n",
       "  0.32742398977279663,\n",
       "  0.03348197042942047,\n",
       "  0.3920445740222931,\n",
       "  -0.018067602068185806,\n",
       "  0.05084044113755226,\n",
       "  0.7927186489105225,\n",
       "  0.2694239318370819,\n",
       "  -0.23833538591861725,\n",
       "  0.3356306850910187,\n",
       "  0.24699923396110535,\n",
       "  -0.023090066388249397,\n",
       "  0.8622245192527771,\n",
       "  -0.4503643810749054,\n",
       "  0.03184022754430771,\n",
       "  -0.2502325773239136,\n",
       "  0.7502880096435547,\n",
       "  -0.1042403131723404,\n",
       "  -0.40617096424102783,\n",
       "  -0.21686546504497528,\n",
       "  0.10055225342512131,\n",
       "  -0.11558054387569427,\n",
       "  -0.08131945133209229,\n",
       "  -0.2978728115558624,\n",
       "  0.03730838745832443,\n",
       "  -0.6464093327522278,\n",
       "  -0.39250078797340393,\n",
       "  0.4447704255580902,\n",
       "  -0.10110913962125778,\n",
       "  -0.6956323981285095,\n",
       "  -0.7021998167037964,\n",
       "  0.10355343669652939,\n",
       "  -0.25687217712402344,\n",
       "  -0.014577066525816917,\n",
       "  0.04745464771986008,\n",
       "  0.018585531041026115,\n",
       "  -0.4250125288963318,\n",
       "  0.34756311774253845,\n",
       "  -0.5458500981330872,\n",
       "  0.5976306796073914,\n",
       "  -0.30147409439086914,\n",
       "  -0.4074421525001526,\n",
       "  -0.04267973452806473,\n",
       "  -0.4225357174873352,\n",
       "  0.0023540337570011616,\n",
       "  0.5079679489135742,\n",
       "  0.6351934671401978,\n",
       "  -1.359129548072815,\n",
       "  -0.1452067792415619,\n",
       "  -0.20944343507289886,\n",
       "  -0.02624371461570263,\n",
       "  0.07876703143119812,\n",
       "  -0.7353553771972656,\n",
       "  0.07506036013364792,\n",
       "  0.7004367709159851,\n",
       "  -0.5673368573188782,\n",
       "  0.06194470450282097,\n",
       "  0.09551478922367096,\n",
       "  0.691417932510376,\n",
       "  0.11147806793451309,\n",
       "  -0.972481369972229,\n",
       "  -0.8436853885650635,\n",
       "  -0.06641581654548645,\n",
       "  -0.7443734407424927,\n",
       "  0.08965928107500076,\n",
       "  -0.18732620775699615,\n",
       "  0.8048861622810364,\n",
       "  -0.06159498170018196,\n",
       "  -0.03244972601532936,\n",
       "  -0.6347507238388062,\n",
       "  0.40419965982437134,\n",
       "  0.05178438872098923,\n",
       "  0.12229574471712112,\n",
       "  0.1992420256137848,\n",
       "  -0.43635883927345276,\n",
       "  -0.026643086224794388,\n",
       "  0.004593594931066036,\n",
       "  0.30984506011009216,\n",
       "  -0.10432039201259613,\n",
       "  0.2973429560661316,\n",
       "  -0.08329448848962784,\n",
       "  0.19590671360492706,\n",
       "  -0.38247713446617126,\n",
       "  -0.2294239103794098,\n",
       "  -0.07518033683300018,\n",
       "  0.3289388418197632,\n",
       "  0.3526947796344757,\n",
       "  0.173708975315094,\n",
       "  -1.1218355894088745,\n",
       "  0.35824674367904663,\n",
       "  -0.06503576785326004,\n",
       "  -0.3800838589668274,\n",
       "  -0.5141931176185608,\n",
       "  -0.2979399859905243,\n",
       "  -0.16492119431495667,\n",
       "  -0.13228541612625122,\n",
       "  -0.4633566737174988,\n",
       "  -0.2621499300003052,\n",
       "  0.019519083201885223,\n",
       "  -0.1109781414270401,\n",
       "  -0.32044893503189087,\n",
       "  0.38787510991096497,\n",
       "  0.23727403581142426,\n",
       "  0.038684867322444916,\n",
       "  -0.3744378387928009,\n",
       "  -0.20175717771053314,\n",
       "  -0.16875317692756653,\n",
       "  0.05758582800626755,\n",
       "  0.7681170701980591,\n",
       "  -0.4185079038143158,\n",
       "  0.14634700119495392,\n",
       "  0.27186885476112366,\n",
       "  0.0304334107786417,\n",
       "  -0.09033629298210144,\n",
       "  -0.02555246837437153,\n",
       "  0.03094455972313881,\n",
       "  -0.02216632291674614,\n",
       "  -0.04744923859834671,\n",
       "  -0.028774257749319077,\n",
       "  -0.03029811568558216,\n",
       "  -0.24512456357479095,\n",
       "  0.0696081817150116,\n",
       "  0.09246290475130081,\n",
       "  0.8486701846122742,\n",
       "  -0.17143288254737854,\n",
       "  0.6872362494468689,\n",
       "  0.16074633598327637,\n",
       "  0.21646597981452942,\n",
       "  0.32690733671188354,\n",
       "  0.16546781361103058,\n",
       "  0.09947991371154785,\n",
       "  -0.43866080045700073,\n",
       "  -0.2658252418041229,\n",
       "  0.11252991855144501,\n",
       "  0.05423224717378616,\n",
       "  -0.38364309072494507,\n",
       "  0.6155365109443665,\n",
       "  0.08937864750623703,\n",
       "  -0.039110805839300156,\n",
       "  0.10003228485584259,\n",
       "  0.09813309460878372,\n",
       "  -0.07290856540203094,\n",
       "  -0.061545051634311676,\n",
       "  -0.7573679685592651,\n",
       "  -0.39052915573120117,\n",
       "  -0.4141466021537781,\n",
       "  -0.5555444955825806,\n",
       "  0.19406737387180328,\n",
       "  -0.387829452753067,\n",
       "  0.3741028606891632,\n",
       "  0.6433523893356323,\n",
       "  0.20860983431339264,\n",
       "  -0.20548446476459503,\n",
       "  0.29157066345214844,\n",
       "  0.9066035747528076,\n",
       "  -0.1837655007839203,\n",
       "  0.3232456147670746,\n",
       "  -0.2551676332950592,\n",
       "  -0.13435131311416626,\n",
       "  -0.3736383318901062,\n",
       "  0.5984676480293274,\n",
       "  -0.7516284584999084,\n",
       "  0.38820409774780273,\n",
       "  -0.4478694796562195,\n",
       "  -0.04477423056960106,\n",
       "  0.7516043186187744,\n",
       "  0.912591278553009,\n",
       "  0.04239438474178314,\n",
       "  -0.7424831390380859,\n",
       "  0.15403109788894653,\n",
       "  -0.5819547772407532,\n",
       "  -0.11393751204013824,\n",
       "  -0.14668019115924835,\n",
       "  -0.2409638613462448,\n",
       "  -0.21455974876880646,\n",
       "  0.37678882479667664,\n",
       "  0.06807201355695724,\n",
       "  0.019281281158328056,\n",
       "  -0.0031088152900338173,\n",
       "  0.5193117260932922,\n",
       "  -0.29636964201927185,\n",
       "  0.2134624570608139,\n",
       "  0.01968974620103836,\n",
       "  0.5511952638626099,\n",
       "  1.246806263923645,\n",
       "  0.3213735818862915,\n",
       "  -0.22693060338497162,\n",
       "  -0.2729302644729614,\n",
       "  -0.4884127974510193,\n",
       "  -0.4146290123462677,\n",
       "  0.28383052349090576,\n",
       "  -0.07307564467191696,\n",
       "  0.2235434204339981,\n",
       "  0.48718878626823425,\n",
       "  -0.37000858783721924,\n",
       "  0.34488800168037415,\n",
       "  -1.0661884546279907,\n",
       "  -0.2413201630115509,\n",
       "  -0.4056895077228546,\n",
       "  -0.3615778684616089,\n",
       "  -1.1900402307510376,\n",
       "  -0.03647839277982712,\n",
       "  -1.0111005306243896,\n",
       "  0.1057104617357254,\n",
       "  -0.5406173467636108,\n",
       "  -0.44415220618247986,\n",
       "  0.40736275911331177,\n",
       "  -0.15841220319271088,\n",
       "  0.3031391203403473,\n",
       "  0.26944923400878906,\n",
       "  0.2733774185180664,\n",
       "  -0.8731366991996765,\n",
       "  -0.33668529987335205,\n",
       "  0.0705081969499588,\n",
       "  0.010986502282321453,\n",
       "  -1.0602545738220215,\n",
       "  0.02607293613255024,\n",
       "  -0.07966174930334091,\n",
       "  0.0493934266269207,\n",
       "  -0.547938346862793,\n",
       "  0.3289680480957031,\n",
       "  -0.1785104125738144,\n",
       "  -0.2630610466003418,\n",
       "  -0.15112029016017914,\n",
       "  -0.10392951220273972,\n",
       "  -0.13521471619606018,\n",
       "  0.5486782789230347,\n",
       "  0.45448407530784607,\n",
       "  -0.05623048171401024,\n",
       "  0.1109633594751358,\n",
       "  0.1192207783460617,\n",
       "  -0.42037972807884216,\n",
       "  -0.16420139372348785,\n",
       "  0.40709781646728516,\n",
       "  -0.42112448811531067,\n",
       "  -0.4859272837638855,\n",
       "  -0.529367208480835,\n",
       "  0.29982897639274597,\n",
       "  0.2168770730495453,\n",
       "  0.3488776981830597,\n",
       "  0.35110679268836975,\n",
       "  -0.004763714503496885,\n",
       "  0.2756131589412689,\n",
       "  -0.5635988712310791,\n",
       "  0.12965112924575806,\n",
       "  -0.23531779646873474,\n",
       "  0.6575289368629456,\n",
       "  -0.16127420961856842,\n",
       "  0.7351563572883606,\n",
       "  0.2594747841358185,\n",
       "  0.49348849058151245,\n",
       "  0.36279913783073425,\n",
       "  -0.5981196165084839,\n",
       "  0.044729579240083694,\n",
       "  -0.14809690415859222,\n",
       "  0.18404372036457062,\n",
       "  -0.03859908878803253,\n",
       "  0.7230696082115173,\n",
       "  0.03795145824551582,\n",
       "  -0.7668203115463257,\n",
       "  -0.184312641620636,\n",
       "  -0.14096860587596893,\n",
       "  -0.4973820149898529,\n",
       "  0.4646603763103485,\n",
       "  0.28199559450149536,\n",
       "  0.5436061024665833,\n",
       "  0.5487622618675232,\n",
       "  0.0021909147035330534,\n",
       "  0.15056464076042175,\n",
       "  -0.2185911238193512,\n",
       "  0.41468703746795654,\n",
       "  -0.5330707430839539,\n",
       "  0.02008531428873539,\n",
       "  -0.17352864146232605,\n",
       "  -0.6091436743736267,\n",
       "  -0.03745817393064499,\n",
       "  -0.12821218371391296,\n",
       "  -0.5622794032096863,\n",
       "  -0.35876065492630005,\n",
       "  0.050884343683719635,\n",
       "  0.05793025717139244,\n",
       "  0.01146842259913683,\n",
       "  0.182595893740654,\n",
       "  -0.15323695540428162,\n",
       "  -0.538221001625061,\n",
       "  0.5606196522712708,\n",
       "  0.22205990552902222,\n",
       "  -0.10157151520252228,\n",
       "  0.01232744101434946,\n",
       "  0.43718650937080383,\n",
       "  0.09365054965019226,\n",
       "  0.001762946485541761,\n",
       "  -0.46005064249038696,\n",
       "  -0.3304700255393982,\n",
       "  0.5012175440788269,\n",
       "  -0.4470563530921936,\n",
       "  -0.09295322746038437,\n",
       "  0.26019057631492615,\n",
       "  -0.09562338143587112,\n",
       "  0.09976525604724884,\n",
       "  -0.08808086812496185,\n",
       "  0.2999977469444275,\n",
       "  0.22589470446109772,\n",
       "  0.040068987756967545,\n",
       "  0.8535661101341248,\n",
       "  -0.0723038911819458,\n",
       "  -0.6667851805686951,\n",
       "  0.46472546458244324,\n",
       "  0.02400214597582817,\n",
       "  -0.33074483275413513,\n",
       "  -0.14729033410549164,\n",
       "  -0.0160882156342268,\n",
       "  -0.015931405127048492,\n",
       "  0.2505401372909546,\n",
       "  -0.04818522930145264,\n",
       "  -0.44920817017555237,\n",
       "  0.4625868499279022,\n",
       "  0.2532247006893158,\n",
       "  -0.009485991671681404,\n",
       "  0.07444178313016891,\n",
       "  0.7395724058151245,\n",
       "  -0.09867636859416962,\n",
       "  0.2989308536052704,\n",
       "  0.3357515335083008,\n",
       "  0.07876420021057129,\n",
       "  -0.0548291839659214,\n",
       "  -0.4280122220516205,\n",
       "  -0.080729179084301,\n",
       "  -0.21024064719676971,\n",
       "  -0.33081021904945374,\n",
       "  -0.14269746840000153,\n",
       "  -0.13426390290260315,\n",
       "  -0.18988265097141266,\n",
       "  0.03891543671488762,\n",
       "  0.30466824769973755,\n",
       "  -0.21304954588413239,\n",
       "  0.47278791666030884,\n",
       "  0.12272686511278152,\n",
       "  -0.11593949049711227,\n",
       "  -0.3499287962913513,\n",
       "  0.16092424094676971,\n",
       "  0.5768688321113586,\n",
       "  -0.03648867458105087,\n",
       "  -0.22222860157489777,\n",
       "  0.5820890069007874,\n",
       "  -0.1939157098531723,\n",
       "  -0.7556930780410767,\n",
       "  0.07231606543064117,\n",
       "  0.7908157110214233,\n",
       "  0.3187224566936493,\n",
       "  -0.46637722849845886,\n",
       "  -0.7510365843772888,\n",
       "  0.0805075615644455,\n",
       "  0.4624668061733246,\n",
       "  0.1788211315870285,\n",
       "  -0.04001905024051666,\n",
       "  0.12697741389274597,\n",
       "  -0.12718996405601501,\n",
       "  -0.4637381434440613,\n",
       "  0.4378257691860199,\n",
       "  -0.6372969150543213,\n",
       "  -0.8188326358795166,\n",
       "  0.08842651546001434,\n",
       "  0.07942672818899155,\n",
       "  0.5557306408882141,\n",
       "  0.3084447979927063,\n",
       "  -0.3480476438999176,\n",
       "  -0.5638963580131531,\n",
       "  -0.30500394105911255,\n",
       "  0.1478884518146515,\n",
       "  0.40953871607780457,\n",
       "  -0.04324968904256821,\n",
       "  0.301542729139328,\n",
       "  0.8936846256256104,\n",
       "  0.07402742654085159,\n",
       "  0.1506485641002655,\n",
       "  0.02464934252202511,\n",
       "  0.12214194983243942,\n",
       "  0.16450713574886322,\n",
       "  0.21462126076221466,\n",
       "  -0.13394083082675934,\n",
       "  -0.35687267780303955,\n",
       "  -0.13574428856372833,\n",
       "  0.48365721106529236,\n",
       "  -0.3447151184082031,\n",
       "  -0.21057705581188202,\n",
       "  -0.23901501297950745,\n",
       "  -0.09958216547966003,\n",
       "  0.21100930869579315,\n",
       "  0.36468473076820374,\n",
       "  0.21727100014686584,\n",
       "  0.25073596835136414,\n",
       "  0.5169098973274231,\n",
       "  -0.23060108721256256,\n",
       "  -0.1664712131023407,\n",
       "  -0.024221381172537804,\n",
       "  0.3460072875022888,\n",
       "  0.12948627769947052,\n",
       "  -0.31535276770591736,\n",
       "  0.4189993441104889,\n",
       "  -0.18249982595443726,\n",
       "  -0.5878795981407166,\n",
       "  0.04676408693194389,\n",
       "  -0.9333769679069519,\n",
       "  -0.7489010095596313,\n",
       "  -0.26519015431404114,\n",
       "  0.2504011392593384,\n",
       "  -0.1656220257282257,\n",
       "  -0.30111363530158997,\n",
       "  -0.2759283781051636,\n",
       "  -0.1798815131187439,\n",
       "  -0.28073441982269287,\n",
       "  0.7645390629768372,\n",
       "  0.39399585127830505,\n",
       "  -0.393075168132782,\n",
       "  0.030475318431854248,\n",
       "  -0.6194447875022888,\n",
       "  -0.5702832341194153,\n",
       "  0.013431251049041748,\n",
       "  0.36716583371162415,\n",
       "  -0.17543838918209076,\n",
       "  -0.040278103202581406,\n",
       "  -0.27884018421173096,\n",
       "  -0.41699790954589844,\n",
       "  0.18235240876674652,\n",
       "  -0.004885429050773382,\n",
       "  0.17664781212806702,\n",
       "  -0.04494936019182205,\n",
       "  0.395282119512558,\n",
       "  0.627450168132782,\n",
       "  0.38228267431259155,\n",
       "  0.21292391419410706,\n",
       "  0.11624003201723099,\n",
       "  -0.14370781183242798,\n",
       "  0.49075132608413696,\n",
       "  0.31599584221839905,\n",
       "  0.7653113007545471,\n",
       "  -0.1460627019405365,\n",
       "  -0.16162580251693726,\n",
       "  0.27029696106910706,\n",
       "  0.19367793202400208,\n",
       "  0.3135308027267456,\n",
       "  -0.6885897517204285,\n",
       "  0.312993586063385,\n",
       "  0.424362450838089,\n",
       "  1.1080034971237183,\n",
       "  -0.3529902994632721,\n",
       "  -0.1609506756067276,\n",
       "  -0.16443690657615662,\n",
       "  0.013370259664952755,\n",
       "  0.24812909960746765,\n",
       "  -0.4113401472568512,\n",
       "  -0.1377154439687729,\n",
       "  0.14353857934474945,\n",
       "  -0.1471230536699295,\n",
       "  -0.3734786808490753,\n",
       "  0.5213028788566589,\n",
       "  0.006027572322636843,\n",
       "  -0.5421650409698486,\n",
       "  0.42754605412483215,\n",
       "  0.2773362398147583,\n",
       "  -0.1820366531610489,\n",
       "  0.7072718143463135,\n",
       "  0.3958381712436676,\n",
       "  0.22703136503696442,\n",
       "  -0.005604390520602465,\n",
       "  0.11128269135951996,\n",
       "  0.4239285886287689,\n",
       "  0.3546547591686249,\n",
       "  0.1283172369003296,\n",
       "  0.5497698187828064,\n",
       "  0.49833762645721436,\n",
       "  -0.09677763283252716,\n",
       "  -0.27526628971099854,\n",
       "  0.5225278735160828,\n",
       "  -0.4672468304634094,\n",
       "  -0.15682736039161682,\n",
       "  -0.2515704929828644,\n",
       "  -0.144873708486557,\n",
       "  -0.6990146636962891,\n",
       "  -0.10499798506498337,\n",
       "  0.5711464285850525,\n",
       "  -0.039261601865291595,\n",
       "  0.19899281859397888,\n",
       "  -0.14535006880760193,\n",
       "  -0.16632385551929474,\n",
       "  -0.2914537489414215,\n",
       "  0.26081380248069763,\n",
       "  0.7415152788162231,\n",
       "  0.15361517667770386,\n",
       "  0.40019339323043823,\n",
       "  0.5568619966506958,\n",
       "  -0.6730021834373474,\n",
       "  -0.6626474261283875,\n",
       "  0.5816720724105835,\n",
       "  0.028964614495635033,\n",
       "  -0.26757532358169556,\n",
       "  -0.48836204409599304,\n",
       "  0.660211443901062,\n",
       "  -0.16438476741313934,\n",
       "  0.5377858877182007,\n",
       "  -0.10417573899030685,\n",
       "  -0.5350035429000854,\n",
       "  0.49638456106185913,\n",
       "  0.17445382475852966,\n",
       "  -0.11264237016439438,\n",
       "  0.2194637954235077,\n",
       "  -0.14915762841701508,\n",
       "  -0.031628355383872986,\n",
       "  -0.2648468017578125,\n",
       "  -0.31585606932640076,\n",
       "  -0.1736343652009964,\n",
       "  0.14532700181007385,\n",
       "  0.09325096011161804,\n",
       "  -0.1273159235715866,\n",
       "  0.2361883968114853,\n",
       "  0.17295826971530914,\n",
       "  0.26812389492988586,\n",
       "  -0.1533108800649643,\n",
       "  0.2700970768928528,\n",
       "  -0.2666459381580353,\n",
       "  -0.13613654673099518,\n",
       "  -0.33383962512016296,\n",
       "  1.0509507656097412,\n",
       "  -0.23539093136787415,\n",
       "  0.34344586730003357,\n",
       "  -0.0795571357011795,\n",
       "  0.41112467646598816,\n",
       "  0.19970759749412537,\n",
       "  0.038942813873291016,\n",
       "  0.19209006428718567,\n",
       "  0.057278815656900406,\n",
       "  -0.03439311310648918,\n",
       "  0.838140606880188,\n",
       "  0.1195959523320198,\n",
       "  -0.11467558890581131,\n",
       "  -0.5829617977142334,\n",
       "  0.1667371392250061,\n",
       "  -0.09250005334615707,\n",
       "  -0.18858671188354492,\n",
       "  0.35207173228263855,\n",
       "  -0.07164991647005081,\n",
       "  -0.8699423670768738,\n",
       "  0.09020761400461197,\n",
       "  0.6775932312011719,\n",
       "  -0.009961524046957493,\n",
       "  -0.1829298585653305,\n",
       "  0.42416220903396606,\n",
       "  0.11798252165317535,\n",
       "  0.1377498060464859,\n",
       "  0.44560882449150085,\n",
       "  -0.35878390073776245,\n",
       "  0.348695307970047,\n",
       "  0.1341707855463028,\n",
       "  0.30534398555755615,\n",
       "  -0.73443603515625,\n",
       "  -0.5758677124977112,\n",
       "  0.5870082378387451,\n",
       "  -0.0026505321729928255,\n",
       "  -0.357688844203949,\n",
       "  -0.4524644911289215,\n",
       "  -0.41992664337158203]}"
      ]
     },
     "execution_count": 7,
     "metadata": {},
     "output_type": "execute_result"
    }
   ],
   "source": [
    "batch_data[0]"
   ]
  }
 ],
 "metadata": {
  "kernelspec": {
   "display_name": "haystack-3aQomgop",
   "language": "python",
   "name": "python3"
  },
  "language_info": {
   "codemirror_mode": {
    "name": "ipython",
    "version": 3
   },
   "file_extension": ".py",
   "mimetype": "text/x-python",
   "name": "python",
   "nbconvert_exporter": "python",
   "pygments_lexer": "ipython3",
   "version": "3.10.10"
  },
  "orig_nbformat": 4
 },
 "nbformat": 4,
 "nbformat_minor": 2
}
