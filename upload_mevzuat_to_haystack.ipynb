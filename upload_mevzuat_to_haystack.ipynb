{
 "cells": [
  {
   "cell_type": "code",
   "execution_count": 4,
   "metadata": {},
   "outputs": [],
   "source": [
    "import requests\n",
    "import json\n",
    "import os\n",
    "from tqdm import tqdm\n",
    "import time"
   ]
  },
  {
   "cell_type": "code",
   "execution_count": 2,
   "metadata": {},
   "outputs": [],
   "source": [
    "def upload_file(file_path, meta):\n",
    "    headers = {\n",
    "        'accept': 'application/json',\n",
    "        # requests won't add a boundary if this header is set when you pass files=\n",
    "        # 'Content-Type': 'multipart/form-data',\n",
    "    }\n",
    "\n",
    "    files = {\n",
    "        'split_overlap': (None, ''),\n",
    "        'meta': (None, json.dumps(meta)),\n",
    "        'split_respect_sentence_boundary': (None, ''),\n",
    "        'split_length': (None, ''),\n",
    "        'remove_numeric_tables': (None, ''),\n",
    "        'clean_whitespace': (None, ''),\n",
    "        'clean_header_footer': (None, ''),\n",
    "        'clean_empty_lines': (None, ''),\n",
    "        'files': open(file_path, 'rb'),\n",
    "        'valid_languages': (None, ''),\n",
    "        'split_by': (None, ''),\n",
    "    }\n",
    "\n",
    "    response = requests.post('http://3.78.83.166:8000/file-upload', headers=headers, files=files)\n",
    "    return response"
   ]
  },
  {
   "cell_type": "code",
   "execution_count": 3,
   "metadata": {},
   "outputs": [
    {
     "name": "stderr",
     "output_type": "stream",
     "text": [
      " 11%|█         | 1500/14107 [25:20<3:32:57,  1.01s/it]\n"
     ]
    },
    {
     "ename": "KeyboardInterrupt",
     "evalue": "",
     "output_type": "error",
     "traceback": [
      "\u001b[0;31m---------------------------------------------------------------------------\u001b[0m",
      "\u001b[0;31mKeyboardInterrupt\u001b[0m                         Traceback (most recent call last)",
      "Cell \u001b[0;32mIn[3], line 12\u001b[0m\n\u001b[1;32m     10\u001b[0m         \u001b[39m#write to txt file\u001b[39;00m\n\u001b[1;32m     11\u001b[0m         r \u001b[39m=\u001b[39m upload_file(txt_path, meta\u001b[39m=\u001b[39mdata[\u001b[39m\"\u001b[39m\u001b[39mmetadata\u001b[39m\u001b[39m\"\u001b[39m])\n\u001b[0;32m---> 12\u001b[0m         time\u001b[39m.\u001b[39;49msleep(\u001b[39m0.05\u001b[39;49m)\n\u001b[1;32m     13\u001b[0m \u001b[39melse\u001b[39;00m:\n\u001b[1;32m     14\u001b[0m     \u001b[39mcontinue\u001b[39;00m\n",
      "\u001b[0;31mKeyboardInterrupt\u001b[0m: "
     ]
    }
   ],
   "source": [
    "count = 0\n",
    "\n",
    "for filename in tqdm( os.listdir('/Users/onurerenarpaci/Desktop/Projects/hukuk/mevzuat') ):\n",
    "    if filename.endswith(\".txt\"):\n",
    "        filepath = os.path.join('/Users/onurerenarpaci/Desktop/Projects/hukuk/mevzuat', filename)\n",
    "        #open file\n",
    "        with open(filepath) as f:\n",
    "            data = json.load(f)\n",
    "            txt_path = os.path.join('/Users/onurerenarpaci/Desktop/Projects/hukuk/mevzuat_txt', filename)\n",
    "            #write to txt file\n",
    "            r = upload_file(txt_path, meta=data[\"metadata\"])\n",
    "            time.sleep(0.05)\n",
    "    else:\n",
    "        continue"
   ]
  },
  {
   "cell_type": "code",
   "execution_count": 3,
   "metadata": {},
   "outputs": [
    {
     "data": {
      "text/plain": [
       "'[23.67934583478935, 23.97, 23.87]'"
      ]
     },
     "execution_count": 3,
     "metadata": {},
     "output_type": "execute_result"
    }
   ],
   "source": [
    "import json\n",
    "import numpy as np\n",
    "\n",
    "a = np.array([23.6793458347893475348753498734857, 23.97, 23.87], dtype=np.float64)\n",
    "a = a.tolist()\n",
    "json.dumps(a)"
   ]
  },
  {
   "cell_type": "code",
   "execution_count": 16,
   "metadata": {},
   "outputs": [],
   "source": [
    "def upload_file(file):\n",
    "    headers = {\n",
    "        'accept': 'application/json',\n",
    "        # requests won't add a boundary if this header is set when you pass files=\n",
    "        # 'Content-Type': 'multipart/form-data',\n",
    "    }\n",
    "\n",
    "    files = {\n",
    "        'split_overlap': (None, ''),\n",
    "        'meta': (None, ''),\n",
    "        'split_respect_sentence_boundary': (None, ''),\n",
    "        'split_length': (None, ''),\n",
    "        'remove_numeric_tables': (None, ''),\n",
    "        'clean_whitespace': (None, ''),\n",
    "        'clean_header_footer': (None, ''),\n",
    "        'clean_empty_lines': (None, ''),\n",
    "        'files': file, #open(file_path, 'rb'),\n",
    "        'valid_languages': (None, ''),\n",
    "        'split_by': (None, ''),\n",
    "    }\n",
    "    response = requests.post('http://localhost:8000/file-upload', headers=headers, files=files)\n",
    "    return response"
   ]
  },
  {
   "cell_type": "code",
   "execution_count": 10,
   "metadata": {},
   "outputs": [],
   "source": [
    "#open json file\n",
    "with open('/Users/onurerenarpaci/Desktop/Projects/hukuk/mevzuat_flattened/64486a0be0b1ea631dea42a1.json') as f:\n",
    "    data = json.load(f)"
   ]
  },
  {
   "cell_type": "code",
   "execution_count": 12,
   "metadata": {},
   "outputs": [
    {
     "data": {
      "text/plain": [
       "{'metadata': {'__piece_type__': 'body',\n",
       "  '__piece_madde__': '',\n",
       "  '__piece_in__': [[]],\n",
       "  'mevzuatNo': '5273',\n",
       "  'mevAdi': 'TÜRKİYE ATOM ENERJİSİ KURUMU BAŞKANLIĞI MAL VE HİZMET ÜRETİMİ VE YAYIN  GELİRLERİ YÖNETMELİĞİ',\n",
       "  'kabulTarih': None,\n",
       "  'kabulTarihDosyaPath': None,\n",
       "  'resmiGazeteTarihi': '26.05.2002',\n",
       "  'resmiGazeteSayisi': '24766',\n",
       "  'mevzuatTertip': '5',\n",
       "  'nitelik': None,\n",
       "  'mukerrer': None,\n",
       "  'resmiGazeteTarihiYilBaslangic': None,\n",
       "  'resmiGazeteTarihiYilBitis': None,\n",
       "  'aranacakYer': 0,\n",
       "  'mevzuatTur': 7,\n",
       "  'tuzukMevzuatTur': 0,\n",
       "  'fileType': 1,\n",
       "  'mevzuatTurEnumString': 'Kurum ve Kuruluş Yönetmelikleri',\n",
       "  'url': 'mevzuat?MevzuatNo=5273&MevzuatTur=7&MevzuatTertip=5',\n",
       "  'docUrl': None,\n",
       "  'pdfUrl': None,\n",
       "  'tur': 2,\n",
       "  'isPlainTextBlank': False,\n",
       "  'resmiGazeteTarihiGun': '26',\n",
       "  'resmiGazeteTarihiAy': '5',\n",
       "  'resmiGazeteTarihiYil': '2002',\n",
       "  'resmiGazeteUrl': None,\n",
       "  'hasDoc': False,\n",
       "  'hasOldLaw': False,\n",
       "  'highlightText': None,\n",
       "  'mevzuatNoCombine': None},\n",
       " 'content': 'Madde 1- Bu Yönetmeliğin amacı, Türkiye Atom Enerjisi Kurumunun  mal ve hizmet  üretimi ve yayın satış  gelirlerinin  elde edilmesi ile ilgili esas ve  usulleri düzenlemektir.'}"
      ]
     },
     "execution_count": 12,
     "metadata": {},
     "output_type": "execute_result"
    }
   ],
   "source": [
    "data[3]"
   ]
  },
  {
   "cell_type": "code",
   "execution_count": 13,
   "metadata": {},
   "outputs": [],
   "source": [
    "doc = {\n",
    "    \"content\" : data[3][\"content\"],\n",
    "    \"meta\" : data[3][\"metadata\"],\n",
    "    \"content_type\" : \"text\",\n",
    "    \"id_hash_keys\": [\"content\"],\n",
    "}"
   ]
  },
  {
   "cell_type": "code",
   "execution_count": 18,
   "metadata": {},
   "outputs": [
    {
     "data": {
      "text/plain": [
       "<Response [200]>"
      ]
     },
     "execution_count": 18,
     "metadata": {},
     "output_type": "execute_result"
    }
   ],
   "source": [
    "upload_file(json.dumps(doc))"
   ]
  }
 ],
 "metadata": {
  "kernelspec": {
   "display_name": "haystack-3aQomgop",
   "language": "python",
   "name": "python3"
  },
  "language_info": {
   "codemirror_mode": {
    "name": "ipython",
    "version": 3
   },
   "file_extension": ".py",
   "mimetype": "text/x-python",
   "name": "python",
   "nbconvert_exporter": "python",
   "pygments_lexer": "ipython3",
   "version": "3.10.10"
  },
  "orig_nbformat": 4
 },
 "nbformat": 4,
 "nbformat_minor": 2
}
