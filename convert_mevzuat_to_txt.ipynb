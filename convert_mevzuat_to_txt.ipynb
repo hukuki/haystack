{
 "cells": [
  {
   "cell_type": "code",
   "execution_count": 6,
   "metadata": {},
   "outputs": [
    {
     "name": "stderr",
     "output_type": "stream",
     "text": [
      "100%|██████████| 14107/14107 [00:07<00:00, 1873.90it/s]\n"
     ]
    }
   ],
   "source": [
    "import os\n",
    "from tqdm import tqdm\n",
    "import json\n",
    "\n",
    "for filename in tqdm( os.listdir('/Users/onurerenarpaci/Desktop/Projects/hukuk/mevzuat') ):\n",
    "    if filename.endswith(\".txt\"):\n",
    "        filepath = os.path.join('/Users/onurerenarpaci/Desktop/Projects/hukuk/mevzuat', filename)\n",
    "        #open file\n",
    "        with open(filepath) as f:\n",
    "            data = json.load(f)\n",
    "            outfilepath = os.path.join('/Users/onurerenarpaci/Desktop/Projects/hukuk/mevzuat_txt', filename)\n",
    "            #write to txt file\n",
    "            with open(outfilepath, 'w') as outfile:\n",
    "                content = data[\"content\"]\n",
    "                #write content to file\n",
    "                outfile.write(content)\n",
    "                outfile.close()\n",
    "    else:\n",
    "        continue"
   ]
  }
 ],
 "metadata": {
  "kernelspec": {
   "display_name": "haystack-3aQomgop",
   "language": "python",
   "name": "python3"
  },
  "language_info": {
   "codemirror_mode": {
    "name": "ipython",
    "version": 3
   },
   "file_extension": ".py",
   "mimetype": "text/x-python",
   "name": "python",
   "nbconvert_exporter": "python",
   "pygments_lexer": "ipython3",
   "version": "3.10.10"
  },
  "orig_nbformat": 4
 },
 "nbformat": 4,
 "nbformat_minor": 2
}
