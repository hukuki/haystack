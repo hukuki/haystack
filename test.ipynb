{
 "cells": [
  {
   "cell_type": "code",
   "execution_count": 1,
   "metadata": {},
   "outputs": [],
   "source": [
    "import logging\n",
    "\n",
    "logging.basicConfig(format=\"%(levelname)s - %(name)s -  %(message)s\", level=logging.WARNING)\n",
    "logging.getLogger(\"haystack\").setLevel(logging.INFO)"
   ]
  },
  {
   "cell_type": "code",
   "execution_count": 2,
   "metadata": {},
   "outputs": [
    {
     "ename": "RuntimeError",
     "evalue": "Working outside of application context.\n\nThis typically means that you attempted to use functionality that needed\nthe current application. To solve this, set up an application context\nwith app.app_context(). See the documentation for more information.",
     "output_type": "error",
     "traceback": [
      "\u001b[0;31m---------------------------------------------------------------------------\u001b[0m",
      "\u001b[0;31mRuntimeError\u001b[0m                              Traceback (most recent call last)",
      "Cell \u001b[0;32mIn[2], line 1\u001b[0m\n\u001b[0;32m----> 1\u001b[0m \u001b[39mfrom\u001b[39;00m \u001b[39mhaystack\u001b[39;00m\u001b[39m.\u001b[39;00m\u001b[39mutils\u001b[39;00m \u001b[39mimport\u001b[39;00m launch_es\n\u001b[1;32m      2\u001b[0m launch_es()\n",
      "File \u001b[0;32m~/.local/share/virtualenvs/haystack-3aQomgop/lib/python3.10/site-packages/haystack/__init__.py:1\u001b[0m\n\u001b[0;32m----> 1\u001b[0m \u001b[39mfrom\u001b[39;00m \u001b[39mhaystack\u001b[39;00m\u001b[39m.\u001b[39;00m\u001b[39mretriever\u001b[39;00m\u001b[39m.\u001b[39;00m\u001b[39mtfidf\u001b[39;00m \u001b[39mimport\u001b[39;00m TfidfRetriever\n\u001b[1;32m      2\u001b[0m \u001b[39mfrom\u001b[39;00m \u001b[39mhaystack\u001b[39;00m\u001b[39m.\u001b[39;00m\u001b[39mreader\u001b[39;00m\u001b[39m.\u001b[39;00m\u001b[39mfarm\u001b[39;00m \u001b[39mimport\u001b[39;00m FARMReader\n\u001b[1;32m      3\u001b[0m \u001b[39mfrom\u001b[39;00m \u001b[39mhaystack\u001b[39;00m\u001b[39m.\u001b[39;00m\u001b[39mdatabase\u001b[39;00m \u001b[39mimport\u001b[39;00m db\n",
      "File \u001b[0;32m~/.local/share/virtualenvs/haystack-3aQomgop/lib/python3.10/site-packages/haystack/retriever/tfidf.py:7\u001b[0m\n\u001b[1;32m      4\u001b[0m \u001b[39mimport\u001b[39;00m \u001b[39mpandas\u001b[39;00m \u001b[39mas\u001b[39;00m \u001b[39mpd\u001b[39;00m\n\u001b[1;32m      5\u001b[0m \u001b[39mfrom\u001b[39;00m \u001b[39msklearn\u001b[39;00m\u001b[39m.\u001b[39;00m\u001b[39mfeature_extraction\u001b[39;00m\u001b[39m.\u001b[39;00m\u001b[39mtext\u001b[39;00m \u001b[39mimport\u001b[39;00m TfidfVectorizer\n\u001b[0;32m----> 7\u001b[0m \u001b[39mfrom\u001b[39;00m \u001b[39mhaystack\u001b[39;00m\u001b[39m.\u001b[39;00m\u001b[39mdatabase\u001b[39;00m \u001b[39mimport\u001b[39;00m db\n\u001b[1;32m      8\u001b[0m \u001b[39mfrom\u001b[39;00m \u001b[39mhaystack\u001b[39;00m\u001b[39m.\u001b[39;00m\u001b[39mdatabase\u001b[39;00m\u001b[39m.\u001b[39;00m\u001b[39morm\u001b[39;00m \u001b[39mimport\u001b[39;00m Document\n\u001b[1;32m     10\u001b[0m logger \u001b[39m=\u001b[39m logging\u001b[39m.\u001b[39mgetLogger(\u001b[39m__name__\u001b[39m)\n",
      "File \u001b[0;32m~/.local/share/virtualenvs/haystack-3aQomgop/lib/python3.10/site-packages/haystack/database/__init__.py:28\u001b[0m\n\u001b[1;32m     26\u001b[0m app\u001b[39m.\u001b[39mconfig[\u001b[39m\"\u001b[39m\u001b[39mSQLALCHEMY_DATABASE_URI\u001b[39m\u001b[39m\"\u001b[39m] \u001b[39m=\u001b[39m \u001b[39mf\u001b[39m\u001b[39m\"\u001b[39m\u001b[39m{\u001b[39;00mDATABASE_URL\u001b[39m}\u001b[39;00m\u001b[39m\"\u001b[39m\n\u001b[1;32m     27\u001b[0m db \u001b[39m=\u001b[39m SQLAlchemy(app)\n\u001b[0;32m---> 28\u001b[0m db\u001b[39m.\u001b[39;49mcreate_all()\n",
      "File \u001b[0;32m~/.local/share/virtualenvs/haystack-3aQomgop/lib/python3.10/site-packages/flask_sqlalchemy/extension.py:884\u001b[0m, in \u001b[0;36mSQLAlchemy.create_all\u001b[0;34m(self, bind_key)\u001b[0m\n\u001b[1;32m    867\u001b[0m \u001b[39mdef\u001b[39;00m \u001b[39mcreate_all\u001b[39m(\u001b[39mself\u001b[39m, bind_key: \u001b[39mstr\u001b[39m \u001b[39m|\u001b[39m \u001b[39mNone\u001b[39;00m \u001b[39m|\u001b[39m \u001b[39mlist\u001b[39m[\u001b[39mstr\u001b[39m \u001b[39m|\u001b[39m \u001b[39mNone\u001b[39;00m] \u001b[39m=\u001b[39m \u001b[39m\"\u001b[39m\u001b[39m__all__\u001b[39m\u001b[39m\"\u001b[39m) \u001b[39m-\u001b[39m\u001b[39m>\u001b[39m \u001b[39mNone\u001b[39;00m:\n\u001b[1;32m    868\u001b[0m \u001b[39m    \u001b[39m\u001b[39m\"\"\"Create tables that do not exist in the database by calling\u001b[39;00m\n\u001b[1;32m    869\u001b[0m \u001b[39m    ``metadata.create_all()`` for all or some bind keys. This does not\u001b[39;00m\n\u001b[1;32m    870\u001b[0m \u001b[39m    update existing tables, use a migration library for that.\u001b[39;00m\n\u001b[0;32m   (...)\u001b[0m\n\u001b[1;32m    882\u001b[0m \u001b[39m        Added the ``bind`` and ``app`` parameters.\u001b[39;00m\n\u001b[1;32m    883\u001b[0m \u001b[39m    \"\"\"\u001b[39;00m\n\u001b[0;32m--> 884\u001b[0m     \u001b[39mself\u001b[39;49m\u001b[39m.\u001b[39;49m_call_for_binds(bind_key, \u001b[39m\"\u001b[39;49m\u001b[39mcreate_all\u001b[39;49m\u001b[39m\"\u001b[39;49m)\n",
      "File \u001b[0;32m~/.local/share/virtualenvs/haystack-3aQomgop/lib/python3.10/site-packages/flask_sqlalchemy/extension.py:855\u001b[0m, in \u001b[0;36mSQLAlchemy._call_for_binds\u001b[0;34m(self, bind_key, op_name)\u001b[0m\n\u001b[1;32m    853\u001b[0m \u001b[39mfor\u001b[39;00m key \u001b[39min\u001b[39;00m keys:\n\u001b[1;32m    854\u001b[0m     \u001b[39mtry\u001b[39;00m:\n\u001b[0;32m--> 855\u001b[0m         engine \u001b[39m=\u001b[39m \u001b[39mself\u001b[39;49m\u001b[39m.\u001b[39;49mengines[key]\n\u001b[1;32m    856\u001b[0m     \u001b[39mexcept\u001b[39;00m \u001b[39mKeyError\u001b[39;00m:\n\u001b[1;32m    857\u001b[0m         message \u001b[39m=\u001b[39m \u001b[39mf\u001b[39m\u001b[39m\"\u001b[39m\u001b[39mBind key \u001b[39m\u001b[39m'\u001b[39m\u001b[39m{\u001b[39;00mkey\u001b[39m}\u001b[39;00m\u001b[39m'\u001b[39m\u001b[39m is not in \u001b[39m\u001b[39m'\u001b[39m\u001b[39mSQLALCHEMY_BINDS\u001b[39m\u001b[39m'\u001b[39m\u001b[39m config.\u001b[39m\u001b[39m\"\u001b[39m\n",
      "File \u001b[0;32m~/.local/share/virtualenvs/haystack-3aQomgop/lib/python3.10/site-packages/flask_sqlalchemy/extension.py:636\u001b[0m, in \u001b[0;36mSQLAlchemy.engines\u001b[0;34m(self)\u001b[0m\n\u001b[1;32m    623\u001b[0m \u001b[39m@property\u001b[39m\n\u001b[1;32m    624\u001b[0m \u001b[39mdef\u001b[39;00m \u001b[39mengines\u001b[39m(\u001b[39mself\u001b[39m) \u001b[39m-\u001b[39m\u001b[39m>\u001b[39m t\u001b[39m.\u001b[39mMapping[\u001b[39mstr\u001b[39m \u001b[39m|\u001b[39m \u001b[39mNone\u001b[39;00m, sa\u001b[39m.\u001b[39mengine\u001b[39m.\u001b[39mEngine]:\n\u001b[1;32m    625\u001b[0m \u001b[39m    \u001b[39m\u001b[39m\"\"\"Map of bind keys to :class:`sqlalchemy.engine.Engine` instances for current\u001b[39;00m\n\u001b[1;32m    626\u001b[0m \u001b[39m    application. The ``None`` key refers to the default engine, and is available as\u001b[39;00m\n\u001b[1;32m    627\u001b[0m \u001b[39m    :attr:`engine`.\u001b[39;00m\n\u001b[0;32m   (...)\u001b[0m\n\u001b[1;32m    634\u001b[0m \u001b[39m    .. versionadded:: 3.0\u001b[39;00m\n\u001b[1;32m    635\u001b[0m \u001b[39m    \"\"\"\u001b[39;00m\n\u001b[0;32m--> 636\u001b[0m     app \u001b[39m=\u001b[39m current_app\u001b[39m.\u001b[39;49m_get_current_object()  \u001b[39m# type: ignore[attr-defined]\u001b[39;00m\n\u001b[1;32m    638\u001b[0m     \u001b[39mif\u001b[39;00m app \u001b[39mnot\u001b[39;00m \u001b[39min\u001b[39;00m \u001b[39mself\u001b[39m\u001b[39m.\u001b[39m_app_engines:\n\u001b[1;32m    639\u001b[0m         \u001b[39mraise\u001b[39;00m \u001b[39mRuntimeError\u001b[39;00m(\n\u001b[1;32m    640\u001b[0m             \u001b[39m\"\u001b[39m\u001b[39mThe current Flask app is not registered with this \u001b[39m\u001b[39m'\u001b[39m\u001b[39mSQLAlchemy\u001b[39m\u001b[39m'\u001b[39m\u001b[39m\"\u001b[39m\n\u001b[1;32m    641\u001b[0m             \u001b[39m\"\u001b[39m\u001b[39m instance. Did you forget to call \u001b[39m\u001b[39m'\u001b[39m\u001b[39minit_app\u001b[39m\u001b[39m'\u001b[39m\u001b[39m, or did you create\u001b[39m\u001b[39m\"\u001b[39m\n\u001b[1;32m    642\u001b[0m             \u001b[39m\"\u001b[39m\u001b[39m multiple \u001b[39m\u001b[39m'\u001b[39m\u001b[39mSQLAlchemy\u001b[39m\u001b[39m'\u001b[39m\u001b[39m instances?\u001b[39m\u001b[39m\"\u001b[39m\n\u001b[1;32m    643\u001b[0m         )\n",
      "File \u001b[0;32m~/.local/share/virtualenvs/haystack-3aQomgop/lib/python3.10/site-packages/werkzeug/local.py:513\u001b[0m, in \u001b[0;36mLocalProxy.__init__.<locals>._get_current_object\u001b[0;34m()\u001b[0m\n\u001b[1;32m    511\u001b[0m     obj \u001b[39m=\u001b[39m local\u001b[39m.\u001b[39mget()  \u001b[39m# type: ignore[union-attr]\u001b[39;00m\n\u001b[1;32m    512\u001b[0m \u001b[39mexcept\u001b[39;00m \u001b[39mLookupError\u001b[39;00m:\n\u001b[0;32m--> 513\u001b[0m     \u001b[39mraise\u001b[39;00m \u001b[39mRuntimeError\u001b[39;00m(unbound_message) \u001b[39mfrom\u001b[39;00m \u001b[39mNone\u001b[39m\n\u001b[1;32m    515\u001b[0m \u001b[39mreturn\u001b[39;00m get_name(obj)\n",
      "\u001b[0;31mRuntimeError\u001b[0m: Working outside of application context.\n\nThis typically means that you attempted to use functionality that needed\nthe current application. To solve this, set up an application context\nwith app.app_context(). See the documentation for more information."
     ]
    }
   ],
   "source": [
    "from haystack.utils import launch_es\n",
    "launch_es()"
   ]
  }
 ],
 "metadata": {
  "kernelspec": {
   "display_name": "haystack-3aQomgop",
   "language": "python",
   "name": "python3"
  },
  "language_info": {
   "codemirror_mode": {
    "name": "ipython",
    "version": 3
   },
   "file_extension": ".py",
   "mimetype": "text/x-python",
   "name": "python",
   "nbconvert_exporter": "python",
   "pygments_lexer": "ipython3",
   "version": "3.10.9"
  },
  "orig_nbformat": 4,
  "vscode": {
   "interpreter": {
    "hash": "4e237d27a4b338b8ce8d2ac3bcac4f30257cc75cfa4c889ac78c568c89ddd98e"
   }
  }
 },
 "nbformat": 4,
 "nbformat_minor": 2
}
